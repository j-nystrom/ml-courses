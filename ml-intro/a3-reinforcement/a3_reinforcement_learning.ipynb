{
 "cells": [
  {
   "cell_type": "markdown",
   "metadata": {},
   "source": [
    "# Project 3: Reinforcement learning\n",
    "\n",
    "Author: Jakob Nyström\n",
    "\n",
    "Date: 2021-03-11\n",
    "\n",
    "## Introduction\n",
    "\n",
    "In this project we will explore reinforcement learning (RL) with two simple examples. In both cases we have an agent that should find its way through a grid, following a policy for what action to take next. In the first case, the policy is given. In the second, we will use value iteration to derive the optimal policy.  \n",
    "\n",
    "## Part 1\n",
    "\n",
    "In this part the agent should move from the state $(0, 0)$ to $(5, 4)$ in a grid that is given by $S = \\{f(x; y) \\in \\mathbb{N}^2; 0 \\le x \\le 5; 0 \\le y \\le 4\\}$. It's only possible to move in one direction (not diagonally) so the set of actions can be represented by $A = \\{(0,1), (1,0), (0,-1), (-1,0)\\}$. Taking the action $a$ in state $s$ means the agent ends up in state $s+a$. The reward structure of this environment is given in Figure 1."
   ]
  },
  {
   "cell_type": "code",
   "execution_count": 20,
   "metadata": {},
   "outputs": [
    {
     "name": "stdout",
     "output_type": "stream",
     "text": [
      "\n"
     ]
    },
    {
     "data": {
      "image/png": "[encoded data removed]",
      "text/plain": [
       "<Figure size 576x432 with 1 Axes>"
      ]
     },
     "metadata": {
      "needs_background": "light"
     },
     "output_type": "display_data"
    }
   ],
   "source": [
    "print()\n",
    "plot_env_one()"
   ]
  },
  {
   "cell_type": "markdown",
   "metadata": {},
   "source": [
    "In this case the agent should follow a greedy policy that maximizes the value of the next action. That is, the agent is not thinking more than one step ahead. The greedy policy is given by \n",
    "\n",
    "$$\\pi(s) = \\arg\\max_{a\\in A(s)} r(s,a)$$ \n",
    "\n",
    "where $a$ are the possible actions in state $s$. If multiple actions give the same reward, the agent should move in the upwards y direction.\n",
    "\n",
    "There are a number of helper functions we define we need for this exercise, those are found in the appendix of the document. Below is the code that formulates the greedy policy and the code to calculate the value function $V^{\\pi}(s)$ for the policy $\\pi$, which we iterate over. The results of the value function is displayed in Table 1."
   ]
  },
  {
   "cell_type": "code",
   "execution_count": 21,
   "metadata": {},
   "outputs": [],
   "source": [
    "# Define greedy policy that maximizes reward for each individual step\n",
    "\n",
    "def greedy_policy(state):\n",
    "    \n",
    "    actions = possible_actions(state)\n",
    "    best_action = []\n",
    "    \n",
    "    reward = 0\n",
    "    for a in actions:\n",
    "        r = rewards(state, a)\n",
    "        if r > reward:\n",
    "            reward = r\n",
    "            best_action = [a]\n",
    "        elif reward == r and len(best_action) == 0:\n",
    "            best_action = [a]\n",
    "        elif reward == r and len(best_action) > 0:\n",
    "            if a[1] > best_action[0][1]:\n",
    "                best_action = [a]\n",
    "            else:\n",
    "                continue\n",
    "        else:\n",
    "            continue\n",
    "            \n",
    "    return best_action[0]"
   ]
  },
  {
   "cell_type": "code",
   "execution_count": 22,
   "metadata": {},
   "outputs": [],
   "source": [
    "# Function for value iteration\n",
    "\n",
    "def T_policy(value_old): \n",
    "    \n",
    "    all_states = states()\n",
    "    value_new = []\n",
    "    \n",
    "    for i in range(len(all_states)):\n",
    "        state = all_states[i]\n",
    "        value = 0\n",
    "        for j in range(len(all_states)):\n",
    "            new_state = all_states[j]\n",
    "            value += value_old[j] * probability(new_state, state, greedy_policy(state))\n",
    "        value_new.append(rewards(state, greedy_policy(state)) + value)\n",
    "    \n",
    "    return value_new"
   ]
  },
  {
   "cell_type": "code",
   "execution_count": 47,
   "metadata": {},
   "outputs": [],
   "source": [
    "# Iterate over value function\n",
    "\n",
    "def value_iteration():\n",
    "\n",
    "    value_old = [0 for i in range(30)]\n",
    "\n",
    "    for i in range(20):\n",
    "        value_new = T_policy(value_old)\n",
    "        print(value_new)\n",
    "        if sum(value_new) == sum(value_old):\n",
    "            break\n",
    "        else:\n",
    "            value_old = value_new\n",
    "            \n",
    "    all_states = states()\n",
    "    \n",
    "    print('Table 1: Value function for different starting states in first reward structure')\n",
    "    print()\n",
    "    print('x\\ty\\tvalue')\n",
    "    print()\n",
    "    for i in range(len(all_states)):\n",
    "        print(str(all_states[i][0]) + '\\t' + str(all_states[i][1]) + '\\t' + str(value_new[i]))\n",
    "\n",
    "    return value_new "
   ]
  },
  {
   "cell_type": "code",
   "execution_count": 48,
   "metadata": {},
   "outputs": [
    {
     "name": "stdout",
     "output_type": "stream",
     "text": [
      "\n",
      "[0, 1, 2, 3, 4, 5, 1, 2, 4, 6, 8, 10, 2, 4, 6, 9, 12, 15, 3, 6, 9, 12, 16, 20, 4, 8, 12, 16, 20, 0]\n",
      "[1, 3, 6, 9, 12, 15, 3, 6, 10, 15, 20, 25, 6, 10, 15, 21, 28, 35, 9, 15, 21, 28, 36, 20, 12, 20, 28, 36, 20, 0]\n",
      "[3, 7, 12, 18, 24, 30, 7, 12, 19, 27, 36, 45, 12, 19, 27, 37, 48, 35, 18, 27, 37, 48, 36, 20, 24, 36, 48, 36, 20, 0]\n",
      "[7, 13, 21, 30, 40, 50, 13, 21, 31, 43, 56, 45, 21, 31, 43, 57, 48, 35, 30, 43, 57, 48, 36, 20, 40, 56, 48, 36, 20, 0]\n",
      "[13, 22, 33, 46, 60, 50, 22, 33, 47, 63, 56, 45, 33, 47, 63, 57, 48, 35, 46, 63, 57, 48, 36, 20, 60, 56, 48, 36, 20, 0]\n",
      "[22, 34, 49, 66, 60, 50, 34, 49, 67, 63, 56, 45, 49, 67, 63, 57, 48, 35, 66, 63, 57, 48, 36, 20, 60, 56, 48, 36, 20, 0]\n",
      "[34, 50, 69, 66, 60, 50, 50, 69, 67, 63, 56, 45, 69, 67, 63, 57, 48, 35, 66, 63, 57, 48, 36, 20, 60, 56, 48, 36, 20, 0]\n",
      "[50, 70, 69, 66, 60, 50, 70, 69, 67, 63, 56, 45, 69, 67, 63, 57, 48, 35, 66, 63, 57, 48, 36, 20, 60, 56, 48, 36, 20, 0]\n",
      "[70, 70, 69, 66, 60, 50, 70, 69, 67, 63, 56, 45, 69, 67, 63, 57, 48, 35, 66, 63, 57, 48, 36, 20, 60, 56, 48, 36, 20, 0]\n",
      "[70, 70, 69, 66, 60, 50, 70, 69, 67, 63, 56, 45, 69, 67, 63, 57, 48, 35, 66, 63, 57, 48, 36, 20, 60, 56, 48, 36, 20, 0]\n",
      "Table 1: Value function for different starting states in first reward structure\n",
      "\n",
      "x\ty\tvalue\n",
      "\n",
      "0\t0\t70\n",
      "1\t0\t70\n",
      "2\t0\t69\n",
      "3\t0\t66\n",
      "4\t0\t60\n",
      "5\t0\t50\n",
      "0\t1\t70\n",
      "1\t1\t69\n",
      "2\t1\t67\n",
      "3\t1\t63\n",
      "4\t1\t56\n",
      "5\t1\t45\n",
      "0\t2\t69\n",
      "1\t2\t67\n",
      "2\t2\t63\n",
      "3\t2\t57\n",
      "4\t2\t48\n",
      "5\t2\t35\n",
      "0\t3\t66\n",
      "1\t3\t63\n",
      "2\t3\t57\n",
      "3\t3\t48\n",
      "4\t3\t36\n",
      "5\t3\t20\n",
      "0\t4\t60\n",
      "1\t4\t56\n",
      "2\t4\t48\n",
      "3\t4\t36\n",
      "4\t4\t20\n",
      "5\t4\t0\n"
     ]
    }
   ],
   "source": [
    "print()\n",
    "value_iteration();"
   ]
  },
  {
   "cell_type": "markdown",
   "metadata": {},
   "source": [
    "The table above gives the cumulative reward for the agent when starting in a certain state and move to (5, 4). Starting in (0, 0) the total reward is 70, which is also what we get if we just follow the greedy policy using pen and paper. In Figure 2 below we plot how the agent is moving through the grid to reach (5, 4). "
   ]
  },
  {
   "cell_type": "code",
   "execution_count": 25,
   "metadata": {},
   "outputs": [
    {
     "name": "stdout",
     "output_type": "stream",
     "text": [
      "\n"
     ]
    },
    {
     "data": {
      "image/png": "[encoded data removed]",
      "text/plain": [
       "<Figure size 576x432 with 1 Axes>"
      ]
     },
     "metadata": {
      "needs_background": "light"
     },
     "output_type": "display_data"
    }
   ],
   "source": [
    "print()\n",
    "plot_greedy_policy((0, 0))"
   ]
  },
  {
   "cell_type": "markdown",
   "metadata": {},
   "source": [
    "## Part 2\n",
    "\n",
    "The set-up of this problem is the same, but the reward structure is different (Figure 3 below). This time we are looking for an optimal policy, which we will get through value iteration. To find the optimal policy $\\pi^{*}$ we use so called Bellman optimality equations. \n",
    "\n",
    "Let $V^{*}(s) = max_{\\pi} V^{\\pi}(s)$ and $Q^{*}(s) = \\max_{\\pi} Q^{\\pi}(s,a)$. These are connected through the Bellman optimality equations like so: $V^{*}(s) = \\max_{a} Q^{*}(s,a)$. If we can calculate these we also have the corresponding optimal policy. We can do this even if we have no idea what the optimal policy is: \n",
    "\n",
    "$$V^{*}(s) = \\max_{a} Q^{*}(s,a) = \\max_{a} (r(s,a)+\\sum_{s'} V^{*}p(s'|s,a)$$\n",
    "\n",
    "This means we want to maximize the action-value function with respect to $a$ which is the reward we get from taking $a$ in state $s$ plus the sum of the value function for the subsequent steps times the probability of these states given that we take action $a$. Through the iterative process called value iteration, we can find the optimal policy $\\pi^{*}$ using the above."
   ]
  },
  {
   "cell_type": "code",
   "execution_count": 26,
   "metadata": {},
   "outputs": [
    {
     "name": "stdout",
     "output_type": "stream",
     "text": [
      "\n"
     ]
    },
    {
     "data": {
      "image/png": "[encoded data removed]",
      "text/plain": [
       "<Figure size 576x432 with 1 Axes>"
      ]
     },
     "metadata": {
      "needs_background": "light"
     },
     "output_type": "display_data"
    }
   ],
   "source": [
    "print()\n",
    "plot_env_two()"
   ]
  },
  {
   "cell_type": "markdown",
   "metadata": {},
   "source": [
    "In the code below we perform the value iteration, derive the optimal policy from this, and show the value function for the different starting states. Finally, we plot how the agent is moving through the grid according to the optimal policy."
   ]
  },
  {
   "cell_type": "code",
   "execution_count": 27,
   "metadata": {},
   "outputs": [],
   "source": [
    "def T_optimal(value_old):\n",
    "    \n",
    "    all_states = states()\n",
    "    value_new = []\n",
    "    \n",
    "    for i in range(len(all_states)):\n",
    "        state = all_states[i]\n",
    "        q_state = []\n",
    "        \n",
    "        for action in possible_actions(state):\n",
    "            q_state_action = 0\n",
    "            \n",
    "            for j in range(len(all_states)):\n",
    "                new_state = all_states[j]\n",
    "                q_state_action += (rewards_two(state, action) + value_old[j]) * probability(new_state, state, action)\n",
    "            q_state.append(q_state_action)\n",
    "        \n",
    "        if q_state is None:\n",
    "            value_state = 0\n",
    "        else: \n",
    "            value_state = max(q_state)\n",
    "        value_new.append(value_state)\n",
    "    \n",
    "    return value_new"
   ]
  },
  {
   "cell_type": "code",
   "execution_count": 49,
   "metadata": {},
   "outputs": [],
   "source": [
    "all_iterations = {}\n",
    "iterations = 25\n",
    "\n",
    "def value_iteration_two():\n",
    "\n",
    "    value_old = [0 for i in range(30)]\n",
    "\n",
    "    for i in range(1, iterations + 1):\n",
    "        value_new = T_optimal(value_old)\n",
    "        print(value_new)\n",
    "        all_iterations[i] = value_new\n",
    "        value_old = value_new\n",
    "            \n",
    "    all_states = states()\n",
    "    \n",
    "    print('Table 2: Value function for different starting states in second reward structure')\n",
    "    print()\n",
    "    print('x\\ty\\tvalue')\n",
    "    print()\n",
    "    for i in range(len(all_states)):\n",
    "        print(str(all_states[i][0]) + '\\t' + str(all_states[i][1]) + '\\t' + str(round(value_new[i], 3)))\n",
    "        \n",
    "    return value_new, all_iterations"
   ]
  },
  {
   "cell_type": "code",
   "execution_count": 50,
   "metadata": {},
   "outputs": [
    {
     "name": "stdout",
     "output_type": "stream",
     "text": [
      "\n",
      "[-0.118, -0.893, -0.118, -0.676, -1.6, -0.676, -0.893, -0.118, -0.461, -0.396, -0.676, -2.459, -1.079, -0.287, -0.396, -0.461, -0.396, -0.271, -0.287, -1.005, -0.287, -0.396, -0.082, -2.116, -2.606, -0.287, -1.005, -0.082, -1.445, 0]\n",
      "[-1.0110000000000001, -1.0110000000000001, -1.0110000000000001, -1.916, -2.2760000000000002, -2.2760000000000002, -1.0110000000000001, -1.0110000000000001, -0.857, -0.857, -2.2760000000000002, -3.1350000000000002, -1.3659999999999999, -0.857, -0.857, -0.857, -0.857, -2.387, -1.2919999999999998, -1.2919999999999998, -0.857, -0.857, -1.5270000000000001, -2.116, -2.893, -1.2919999999999998, -1.2919999999999998, -1.5270000000000001, -1.5270000000000001, 0.0]\n",
      "[-1.129, -1.9040000000000001, -1.129, -2.809, -3.516, -2.9520000000000004, -1.9040000000000001, -1.129, -1.318, -1.2530000000000001, -2.9520000000000004, -4.735, -1.936, -1.318, -1.2530000000000001, -1.318, -1.2530000000000001, -2.387, -1.5789999999999997, -1.8619999999999999, -1.318, -1.2530000000000001, -1.6090000000000002, -2.116, -3.8979999999999997, -1.5789999999999997, -1.8619999999999999, -1.6090000000000002, -2.116, 0.0]\n",
      "[-2.0220000000000002, -2.0220000000000002, -2.0220000000000002, -2.927, -4.409000000000001, -4.192, -2.0220000000000002, -2.0220000000000002, -1.7140000000000002, -1.714, -4.095000000000001, -5.3149999999999995, -2.3970000000000002, -1.7140000000000002, -1.714, -1.7140000000000002, -1.714, -2.387, -2.149, -2.323, -1.7140000000000002, -1.714, -2.198, -2.116, -4.185, -2.149, -2.323, -2.198, -2.116, 0.0]\n",
      "[-2.14, -2.915, -2.14, -3.8200000000000003, -4.527, -5.085000000000001, -2.915, -2.14, -2.175, -2.1100000000000003, -4.556, -5.3149999999999995, -2.793, -2.175, -2.1100000000000003, -2.175, -2.1100000000000003, -2.387, -2.61, -2.7190000000000003, -2.175, -2.1100000000000003, -2.198, -2.116, -4.755, -2.61, -2.7190000000000003, -2.198, -2.116, 0.0]\n",
      "[-3.033, -3.0330000000000004, -3.033, -3.938, -5.42, -5.203, -3.0330000000000004, -3.033, -2.571, -2.5709999999999997, -4.952, -5.3149999999999995, -3.2539999999999996, -2.571, -2.5709999999999997, -2.571, -2.5709999999999997, -2.387, -3.0060000000000002, -3.1799999999999997, -2.571, -2.5709999999999997, -2.198, -2.116, -5.215999999999999, -3.0060000000000002, -3.1799999999999997, -2.198, -2.116, 0.0]\n",
      "[-3.1510000000000002, -3.926, -3.1510000000000002, -4.8309999999999995, -5.538, -6.096, -3.926, -3.1510000000000002, -3.0319999999999996, -2.967, -5.413, -5.3149999999999995, -3.6500000000000004, -3.0319999999999996, -2.967, -3.0319999999999996, -2.967, -2.387, -3.4669999999999996, -3.576, -3.0319999999999996, -2.967, -2.198, -2.116, -5.612, -3.4669999999999996, -3.576, -2.198, -2.116, 0.0]\n",
      "[-4.0440000000000005, -4.0440000000000005, -4.0440000000000005, -4.949, -6.430999999999999, -6.214, -4.0440000000000005, -4.0440000000000005, -3.428, -3.4279999999999995, -5.809, -5.3149999999999995, -4.111, -3.428, -3.4279999999999995, -3.428, -3.4279999999999995, -2.387, -3.863, -4.036999999999999, -3.428, -3.4279999999999995, -2.198, -2.116, -6.0729999999999995, -3.863, -3.643, -2.198, -2.116, 0.0]\n",
      "[-4.162000000000001, -4.937, -4.162000000000001, -5.8420000000000005, -6.5489999999999995, -6.327999999999999, -4.937, -4.162000000000001, -3.8889999999999993, -3.824, -6.27, -5.3149999999999995, -4.507, -3.8889999999999993, -3.824, -3.8889999999999993, -3.824, -2.387, -4.323999999999999, -4.433, -3.8889999999999993, -3.643, -2.198, -2.116, -6.468999999999999, -4.323999999999999, -3.643, -2.198, -2.116, 0.0]\n",
      "[-5.055000000000001, -5.055000000000001, -5.055000000000001, -5.960000000000001, -7.442, -6.327999999999999, -5.055000000000001, -4.967999999999999, -4.285, -4.284999999999999, -6.327999999999999, -5.3149999999999995, -4.967999999999999, -4.285, -4.284999999999999, -4.285, -4.284999999999999, -2.387, -4.72, -4.893999999999999, -4.285, -3.643, -2.198, -2.116, -6.929999999999999, -4.72, -3.643, -2.198, -2.116, 0.0]\n",
      "[-5.173000000000001, -5.860999999999999, -5.173000000000001, -6.853000000000001, -7.5600000000000005, -6.327999999999999, -5.860999999999999, -5.173000000000001, -4.7459999999999996, -4.681, -6.327999999999999, -5.3149999999999995, -5.364, -4.7459999999999996, -4.681, -4.7459999999999996, -4.495, -2.387, -5.180999999999999, -5.29, -4.7459999999999996, -3.643, -2.198, -2.116, -7.326, -5.180999999999999, -3.643, -2.198, -2.116, 0.0]\n",
      "[-5.978999999999999, -6.066000000000001, -5.978999999999999, -6.971000000000001, -8.453000000000001, -6.327999999999999, -6.066000000000001, -5.824999999999999, -5.142, -5.1419999999999995, -6.327999999999999, -5.3149999999999995, -5.824999999999999, -5.142, -5.1419999999999995, -5.142, -4.495, -2.387, -5.577, -5.7509999999999994, -5.142, -3.643, -2.198, -2.116, -7.786999999999999, -5.577, -3.643, -2.198, -2.116, 0.0]\n",
      "[-6.184000000000001, -6.717999999999999, -6.184000000000001, -7.776999999999999, -8.571000000000002, -6.327999999999999, -6.717999999999999, -6.184000000000001, -5.603, -5.538, -6.327999999999999, -5.3149999999999995, -6.221, -5.603, -5.538, -5.603, -4.495, -2.387, -6.037999999999999, -6.147, -5.603, -3.643, -2.198, -2.116, -8.183, -5.6209999999999996, -3.643, -2.198, -2.116, 0.0]\n",
      "[-6.835999999999999, -7.077000000000001, -6.835999999999999, -7.982000000000001, -8.786999999999999, -6.327999999999999, -7.077000000000001, -6.6819999999999995, -5.9990000000000006, -5.999, -6.327999999999999, -5.3149999999999995, -6.6819999999999995, -5.9990000000000006, -5.999, -5.9990000000000006, -4.495, -2.387, -6.434, -6.608, -5.6209999999999996, -3.643, -2.198, -2.116, -8.643999999999998, -5.6209999999999996, -3.643, -2.198, -2.116, 0.0]\n",
      "[-7.195000000000001, -7.574999999999999, -7.195000000000001, -8.634, -8.786999999999999, -6.327999999999999, -7.574999999999999, -7.078, -6.46, -6.3950000000000005, -6.327999999999999, -5.3149999999999995, -7.078, -6.46, -6.3950000000000005, -6.46, -4.495, -2.387, -6.895, -6.6259999999999994, -5.6209999999999996, -3.643, -2.198, -2.116, -9.04, -5.6209999999999996, -3.643, -2.198, -2.116, 0.0]\n",
      "[-7.693, -7.971, -7.693, -8.993000000000002, -8.786999999999999, -6.327999999999999, -7.971, -7.539, -6.856000000000001, -6.856, -6.327999999999999, -5.3149999999999995, -7.539, -6.856000000000001, -6.6259999999999994, -6.856000000000001, -4.495, -2.387, -6.912999999999999, -6.6259999999999994, -5.6209999999999996, -3.643, -2.198, -2.116, -9.202, -5.6209999999999996, -3.643, -2.198, -2.116, 0.0]\n",
      "[-8.089, -8.432, -8.089, -9.463, -8.786999999999999, -6.327999999999999, -8.432, -7.9350000000000005, -7.087, -7.252000000000001, -6.327999999999999, -5.3149999999999995, -7.9350000000000005, -6.912999999999999, -6.6259999999999994, -7.087, -4.495, -2.387, -6.912999999999999, -6.6259999999999994, -5.6209999999999996, -3.643, -2.198, -2.116, -9.202, -5.6209999999999996, -3.643, -2.198, -2.116, 0.0]\n",
      "[-8.55, -8.828000000000001, -8.439, -9.463, -8.786999999999999, -6.327999999999999, -8.828000000000001, -7.991999999999999, -7.087, -7.483, -6.327999999999999, -5.3149999999999995, -7.991999999999999, -6.912999999999999, -6.6259999999999994, -7.087, -4.495, -2.387, -6.912999999999999, -6.6259999999999994, -5.6209999999999996, -3.643, -2.198, -2.116, -9.202, -5.6209999999999996, -3.643, -2.198, -2.116, 0.0]\n",
      "[-8.946000000000002, -8.885, -8.439, -9.463, -8.786999999999999, -6.327999999999999, -8.885, -7.991999999999999, -7.087, -7.483, -6.327999999999999, -5.3149999999999995, -7.991999999999999, -6.912999999999999, -6.6259999999999994, -7.087, -4.495, -2.387, -6.912999999999999, -6.6259999999999994, -5.6209999999999996, -3.643, -2.198, -2.116, -9.202, -5.6209999999999996, -3.643, -2.198, -2.116, 0.0]\n",
      "[-9.003, -8.885, -8.439, -9.463, -8.786999999999999, -6.327999999999999, -8.885, -7.991999999999999, -7.087, -7.483, -6.327999999999999, -5.3149999999999995, -7.991999999999999, -6.912999999999999, -6.6259999999999994, -7.087, -4.495, -2.387, -6.912999999999999, -6.6259999999999994, -5.6209999999999996, -3.643, -2.198, -2.116, -9.202, -5.6209999999999996, -3.643, -2.198, -2.116, 0.0]\n",
      "[-9.003, -8.885, -8.439, -9.463, -8.786999999999999, -6.327999999999999, -8.885, -7.991999999999999, -7.087, -7.483, -6.327999999999999, -5.3149999999999995, -7.991999999999999, -6.912999999999999, -6.6259999999999994, -7.087, -4.495, -2.387, -6.912999999999999, -6.6259999999999994, -5.6209999999999996, -3.643, -2.198, -2.116, -9.202, -5.6209999999999996, -3.643, -2.198, -2.116, 0.0]\n"
     ]
    },
    {
     "name": "stdout",
     "output_type": "stream",
     "text": [
      "[-9.003, -8.885, -8.439, -9.463, -8.786999999999999, -6.327999999999999, -8.885, -7.991999999999999, -7.087, -7.483, -6.327999999999999, -5.3149999999999995, -7.991999999999999, -6.912999999999999, -6.6259999999999994, -7.087, -4.495, -2.387, -6.912999999999999, -6.6259999999999994, -5.6209999999999996, -3.643, -2.198, -2.116, -9.202, -5.6209999999999996, -3.643, -2.198, -2.116, 0.0]\n",
      "[-9.003, -8.885, -8.439, -9.463, -8.786999999999999, -6.327999999999999, -8.885, -7.991999999999999, -7.087, -7.483, -6.327999999999999, -5.3149999999999995, -7.991999999999999, -6.912999999999999, -6.6259999999999994, -7.087, -4.495, -2.387, -6.912999999999999, -6.6259999999999994, -5.6209999999999996, -3.643, -2.198, -2.116, -9.202, -5.6209999999999996, -3.643, -2.198, -2.116, 0.0]\n",
      "[-9.003, -8.885, -8.439, -9.463, -8.786999999999999, -6.327999999999999, -8.885, -7.991999999999999, -7.087, -7.483, -6.327999999999999, -5.3149999999999995, -7.991999999999999, -6.912999999999999, -6.6259999999999994, -7.087, -4.495, -2.387, -6.912999999999999, -6.6259999999999994, -5.6209999999999996, -3.643, -2.198, -2.116, -9.202, -5.6209999999999996, -3.643, -2.198, -2.116, 0.0]\n",
      "[-9.003, -8.885, -8.439, -9.463, -8.786999999999999, -6.327999999999999, -8.885, -7.991999999999999, -7.087, -7.483, -6.327999999999999, -5.3149999999999995, -7.991999999999999, -6.912999999999999, -6.6259999999999994, -7.087, -4.495, -2.387, -6.912999999999999, -6.6259999999999994, -5.6209999999999996, -3.643, -2.198, -2.116, -9.202, -5.6209999999999996, -3.643, -2.198, -2.116, 0.0]\n",
      "Table 2: Value function for different starting states in second reward structure\n",
      "\n",
      "x\ty\tvalue\n",
      "\n",
      "0\t0\t-9.003\n",
      "1\t0\t-8.885\n",
      "2\t0\t-8.439\n",
      "3\t0\t-9.463\n",
      "4\t0\t-8.787\n",
      "5\t0\t-6.328\n",
      "0\t1\t-8.885\n",
      "1\t1\t-7.992\n",
      "2\t1\t-7.087\n",
      "3\t1\t-7.483\n",
      "4\t1\t-6.328\n",
      "5\t1\t-5.315\n",
      "0\t2\t-7.992\n",
      "1\t2\t-6.913\n",
      "2\t2\t-6.626\n",
      "3\t2\t-7.087\n",
      "4\t2\t-4.495\n",
      "5\t2\t-2.387\n",
      "0\t3\t-6.913\n",
      "1\t3\t-6.626\n",
      "2\t3\t-5.621\n",
      "3\t3\t-3.643\n",
      "4\t3\t-2.198\n",
      "5\t3\t-2.116\n",
      "0\t4\t-9.202\n",
      "1\t4\t-5.621\n",
      "2\t4\t-3.643\n",
      "3\t4\t-2.198\n",
      "4\t4\t-2.116\n",
      "5\t4\t0.0\n"
     ]
    }
   ],
   "source": [
    "print()\n",
    "value_iteration_two();"
   ]
  },
  {
   "cell_type": "markdown",
   "metadata": {},
   "source": [
    "We can see from Table 2 that the optimal policy yields a reward of -9.003 when starting in (0,0) and moving to (5,4). Below we define a function for the optimal policy in each state, which is based on maximizing the action-value function:\n",
    "\n",
    "$$\\pi^{*}(s) = \\arg\\max_{a} Q^{*}(s,a)$$\n",
    "\n",
    "We also plot how the agent is moving in Figure 4."
   ]
  },
  {
   "cell_type": "code",
   "execution_count": 30,
   "metadata": {},
   "outputs": [],
   "source": [
    "def optimal_policy(best_actions):\n",
    "    \n",
    "    value_iteration = all_iterations[iterations]\n",
    "    all_states = states()\n",
    "    state_values = {all_states[i]: value_iteration[i] for i in range(len(all_states))}\n",
    "    \n",
    "    for state in all_states:\n",
    "        state_action_values = 0\n",
    "        \n",
    "        for action in possible_actions(state):\n",
    "            new_state = state[0] + action[0], state[1] + action[1]\n",
    "            value = rewards_two(state, action) + state_values.get(new_state)\n",
    "            \n",
    "            if state_action_values == 0:\n",
    "                state_action_values = value\n",
    "                best_actions[state] = action\n",
    "            elif value > state_action_values:\n",
    "                state_action_values = value\n",
    "                best_actions[state] = action\n",
    "            else:\n",
    "                continue\n",
    "\n",
    "    return best_actions"
   ]
  },
  {
   "cell_type": "code",
   "execution_count": 31,
   "metadata": {},
   "outputs": [
    {
     "name": "stdout",
     "output_type": "stream",
     "text": [
      "\n"
     ]
    },
    {
     "data": {
      "image/png": "[encoded data removed]",
      "text/plain": [
       "<Figure size 576x432 with 1 Axes>"
      ]
     },
     "metadata": {
      "needs_background": "light"
     },
     "output_type": "display_data"
    }
   ],
   "source": [
    "print()\n",
    "plot_optimal_policy((0, 0));"
   ]
  },
  {
   "cell_type": "markdown",
   "metadata": {},
   "source": [
    "## Summary\n",
    "\n",
    "In this project we used RL to make an agent move through an environment following a certain policy. First the policy was given, in the second part we used value iteration to find the optimal policy.\n",
    "\n",
    "## Appendix\n",
    "\n",
    "Below are all the helper functions that are used in this project\n",
    "\n",
    "- states: Defines the possible states in the environment\n",
    "- possible_actions: What actions the agent is allowed to take in each state \n",
    "- rewards: The rewards given in each from each action in environment 1\n",
    "- probability: The transition probability between states: either 1 or 0 depending on state and action\n",
    "- plot_greedy_policy: Plots how the agent is moving in environment 1\n",
    "- rewards_two: The rewards given from each action in environment 2\n",
    "- reward_grid: All the rewards per state in part 2\n",
    "- plot_optimal_policy: Plots how the agent is moving in environment 2\n",
    "- plot_env_one: The structure of environment 1\n",
    "- plot_env_two: The structure of environment 2"
   ]
  },
  {
   "cell_type": "code",
   "execution_count": 32,
   "metadata": {},
   "outputs": [],
   "source": [
    "import numpy as np\n",
    "import matplotlib.pyplot as plt\n",
    "from matplotlib.ticker import StrMethodFormatter\n",
    "import matplotlib.ticker as ticker"
   ]
  },
  {
   "cell_type": "code",
   "execution_count": 33,
   "metadata": {},
   "outputs": [],
   "source": [
    "def states():\n",
    "    return [(i, j) for j in range(5) for i in range(6)]"
   ]
  },
  {
   "cell_type": "code",
   "execution_count": 34,
   "metadata": {},
   "outputs": [],
   "source": [
    "# Function for possible actions to take\n",
    "\n",
    "def possible_actions(state):\n",
    "    \n",
    "    actions = [(0, 1), (1, 0), (-1, 0), (0, -1)]\n",
    "    \n",
    "    not_allowed = []\n",
    "    if state == (5, 4):\n",
    "        actions = [(0, 0)]\n",
    "    else:\n",
    "        for i in range(len(actions)):\n",
    "            new_state = (state[0] + actions[i][0], state[1] + actions[i][1])\n",
    "            if new_state[0] < 0 or new_state[1] < 0 or new_state[0] > 5 or new_state[1] > 4:\n",
    "                not_allowed.append(i)\n",
    "            else:\n",
    "                continue\n",
    "\n",
    "    for i in range(len(not_allowed)):\n",
    "        actions[not_allowed[i]] = None\n",
    "    \n",
    "    actions = [i for i in actions if i]\n",
    "    \n",
    "    return actions"
   ]
  },
  {
   "cell_type": "code",
   "execution_count": 35,
   "metadata": {},
   "outputs": [],
   "source": [
    "# Function for expected reward per state\n",
    "\n",
    "def rewards(state, action):\n",
    "    \n",
    "    new_state = (state[0] + action[0], state[1] + action[1])\n",
    "    if state == (5, 4):\n",
    "        reward = 0\n",
    "    else:\n",
    "        reward = np.prod(new_state)\n",
    "        \n",
    "    return reward"
   ]
  },
  {
   "cell_type": "code",
   "execution_count": 36,
   "metadata": {},
   "outputs": [],
   "source": [
    "# Function for transition probabilities between states: p(s'|s, a)\n",
    "\n",
    "def probability(new_state, state, action):\n",
    "    \n",
    "    if state == (5, 4):\n",
    "        return 0\n",
    "    if (state[0] + action[0], state[1] + action[1]) == new_state:\n",
    "        return 1\n",
    "    else:\n",
    "        return 0"
   ]
  },
  {
   "cell_type": "code",
   "execution_count": 37,
   "metadata": {},
   "outputs": [],
   "source": [
    "def plot_greedy_policy(state):\n",
    "    \n",
    "    all_states = states()\n",
    "    x_values = []\n",
    "    y_values = []\n",
    "\n",
    "    for x, y in all_states:\n",
    "        x_values.append(x)\n",
    "        y_values.append(y)\n",
    "\n",
    "    fig, ax = plt.subplots(figsize=(8, 6))\n",
    "\n",
    "    plt.scatter(x_values, y_values, c='black', s=20)\n",
    "    plt.grid()\n",
    "    plt.xlabel('x', fontsize = 14)\n",
    "    plt.ylabel('y', fontsize = 14)\n",
    "    ax.set_facecolor('0.9')\n",
    "    plt.title('Figure 2: Agent path through environment 1 following greedy policy', fontsize=18, pad=20)\n",
    "    \n",
    "    for axis in [ax.xaxis, ax.yaxis]:\n",
    "        axis.set_major_locator(ticker.MaxNLocator(integer=True))\n",
    "\n",
    "    for x, y in zip(x_values, y_values):\n",
    "        ax.annotate(x * y, (x + 0.05, y + 0.05))\n",
    "    \n",
    "    state = (0, 0)\n",
    "    while state != (5,4):\n",
    "        action = greedy_policy(state)\n",
    "        new_state = state[0] + action[0], state[1] + action[1]\n",
    "        plt.plot([state[0], new_state[0]], [state[1], new_state[1]], c='red')\n",
    "        state = new_state\n",
    "\n",
    "    plt.show()"
   ]
  },
  {
   "cell_type": "code",
   "execution_count": 38,
   "metadata": {},
   "outputs": [],
   "source": [
    "def rewards_two(state, action):\n",
    "    \n",
    "    values = [2.333, 0.118, 1.798, 1.600, 0.676, 2.459, \n",
    "               2.869, 0.893, 1.352, 2.842, 4.616, 1.013, \n",
    "               2.844, 1.079, 0.461, 0.396, 4.666, 2.928, \n",
    "               2.606, 0.287, 1.005, 4.729, 2.297, 0.271, \n",
    "               1.580, 3.581, 1.978, 1.445, 0.082, 2.116]\n",
    "    \n",
    "    values = [-x for x in values]\n",
    "    all_states = states()\n",
    "    state_rewards = {all_states[i]: values[i] for i in range(len(all_states))}\n",
    "    \n",
    "    new_state = (state[0] + action[0], state[1] + action[1])\n",
    "    \n",
    "    if state == (5, 4):\n",
    "        reward = 0\n",
    "    else:\n",
    "        reward = state_rewards.get(new_state)\n",
    "        \n",
    "    return reward"
   ]
  },
  {
   "cell_type": "code",
   "execution_count": 39,
   "metadata": {},
   "outputs": [],
   "source": [
    "def reward_grid(new_state):\n",
    "    \n",
    "    values = [2.333, 0.118, 1.798, 1.600, 0.676, 2.459, \n",
    "               2.869, 0.893, 1.352, 2.842, 4.616, 1.013, \n",
    "               2.844, 1.079, 0.461, 0.396, 4.666, 2.928, \n",
    "               2.606, 0.287, 1.005, 4.729, 2.297, 0.271, \n",
    "               1.580, 3.581, 1.978, 1.445, 0.082, 2.116]\n",
    "    \n",
    "    values = [-x for x in values]\n",
    "    all_states = states()\n",
    "    state_rewards = {all_states[i]: values[i] for i in range(len(all_states))}\n",
    "    reward = state_rewards.get(new_state)\n",
    "        \n",
    "    return reward"
   ]
  },
  {
   "cell_type": "code",
   "execution_count": 40,
   "metadata": {},
   "outputs": [],
   "source": [
    "def plot_optimal_policy(state):\n",
    "    \n",
    "    best_actions = {}\n",
    "    policy = optimal_policy(best_actions)\n",
    "    all_states = states()\n",
    "    x_values = []\n",
    "    y_values = []\n",
    "\n",
    "    for x, y in all_states:\n",
    "        x_values.append(x)\n",
    "        y_values.append(y)\n",
    "\n",
    "    fig, ax = plt.subplots(figsize=(8, 6))\n",
    "\n",
    "    plt.scatter(x_values, y_values, c='black', s=20)\n",
    "    plt.grid()\n",
    "    plt.xlabel('x', fontsize = 14)\n",
    "    plt.ylabel('y', fontsize = 14)\n",
    "    ax.set_facecolor('0.9')\n",
    "    plt.title('Figure 4: Agent path through environment 2 following optimal policy', fontsize=18, pad=20)\n",
    "    \n",
    "    for axis in [ax.xaxis, ax.yaxis]:\n",
    "        axis.set_major_locator(ticker.MaxNLocator(integer=True))\n",
    "\n",
    "    for x, y in zip(x_values, y_values):\n",
    "        ax.annotate(reward_grid((x, y)), (x + 0.05, y + 0.05))\n",
    "    \n",
    "    while state != (5,4):\n",
    "        action = policy.get(state)\n",
    "        new_state = state[0] + action[0], state[1] + action[1]\n",
    "        plt.plot([state[0], new_state[0]], [state[1], new_state[1]], c='red')\n",
    "        state = new_state\n",
    "\n",
    "    plt.show()"
   ]
  },
  {
   "cell_type": "code",
   "execution_count": 41,
   "metadata": {},
   "outputs": [],
   "source": [
    "def plot_env_one():\n",
    "    \n",
    "    all_states = states()\n",
    "    x_values = []\n",
    "    y_values = []\n",
    "\n",
    "    for x, y in all_states:\n",
    "        x_values.append(x)\n",
    "        y_values.append(y)\n",
    "\n",
    "    fig, ax = plt.subplots(figsize=(8, 6))\n",
    "\n",
    "    plt.scatter(x_values, y_values, c='black', s=20)\n",
    "    plt.grid()\n",
    "    plt.xlabel('x', fontsize = 14)\n",
    "    plt.ylabel('y', fontsize = 14)\n",
    "    plt.title('Figure 1: Reward structure for problem 1', fontsize=18, pad=20)\n",
    "    ax.set_facecolor('0.9')\n",
    "    \n",
    "    for axis in [ax.xaxis, ax.yaxis]:\n",
    "        axis.set_major_locator(ticker.MaxNLocator(integer=True))\n",
    "\n",
    "    for x, y in zip(x_values, y_values):\n",
    "        ax.annotate(x * y, (x + 0.05, y + 0.05))"
   ]
  },
  {
   "cell_type": "code",
   "execution_count": 42,
   "metadata": {},
   "outputs": [],
   "source": [
    "def plot_env_two():\n",
    "\n",
    "    all_states = states()\n",
    "    x_values = []\n",
    "    y_values = []\n",
    "\n",
    "    for x, y in all_states:\n",
    "        x_values.append(x)\n",
    "        y_values.append(y)\n",
    "\n",
    "    fig, ax = plt.subplots(figsize=(8, 6))\n",
    "\n",
    "    plt.scatter(x_values, y_values, c='black', s=20)\n",
    "    plt.grid()\n",
    "    plt.xlabel('x', fontsize = 14)\n",
    "    plt.ylabel('y', fontsize = 14)\n",
    "    ax.set_facecolor('0.9')\n",
    "    plt.title('Figure 3: Reward structure for problem 2', fontsize=18, pad=20)\n",
    "    \n",
    "    for axis in [ax.xaxis, ax.yaxis]:\n",
    "        axis.set_major_locator(ticker.MaxNLocator(integer=True))\n",
    "\n",
    "    for x, y in zip(x_values, y_values):\n",
    "        ax.annotate(reward_grid((x, y)), (x + 0.05, y + 0.05))\n",
    "\n",
    "    plt.show()"
   ]
  },
  {
   "cell_type": "code",
   "execution_count": 43,
   "metadata": {},
   "outputs": [
    {
     "data": {
      "text/plain": [
       "[(0, 0),\n",
       " (1, 0),\n",
       " (2, 0),\n",
       " (3, 0),\n",
       " (4, 0),\n",
       " (5, 0),\n",
       " (0, 1),\n",
       " (1, 1),\n",
       " (2, 1),\n",
       " (3, 1),\n",
       " (4, 1),\n",
       " (5, 1),\n",
       " (0, 2),\n",
       " (1, 2),\n",
       " (2, 2),\n",
       " (3, 2),\n",
       " (4, 2),\n",
       " (5, 2),\n",
       " (0, 3),\n",
       " (1, 3),\n",
       " (2, 3),\n",
       " (3, 3),\n",
       " (4, 3),\n",
       " (5, 3),\n",
       " (0, 4),\n",
       " (1, 4),\n",
       " (2, 4),\n",
       " (3, 4),\n",
       " (4, 4),\n",
       " (5, 4)]"
      ]
     },
     "execution_count": 43,
     "metadata": {},
     "output_type": "execute_result"
    }
   ],
   "source": [
    "states()"
   ]
  }
 ],
 "metadata": {
  "kernelspec": {
   "display_name": "Python 3",
   "language": "python",
   "name": "python3"
  },
  "language_info": {
   "codemirror_mode": {
    "name": "ipython",
    "version": 3
   },
   "file_extension": ".py",
   "mimetype": "text/x-python",
   "name": "python",
   "nbconvert_exporter": "python",
   "pygments_lexer": "ipython3",
   "version": "3.8.5"
  }
 },
 "nbformat": 4,
 "nbformat_minor": 4
}
