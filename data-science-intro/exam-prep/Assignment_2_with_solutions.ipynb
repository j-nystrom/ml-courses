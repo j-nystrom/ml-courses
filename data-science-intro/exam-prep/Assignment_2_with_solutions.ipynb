{
 "cells": [
  {
   "cell_type": "markdown",
   "metadata": {
    "deletable": false
   },
   "source": [
    "# Assignment 2 for Course 1MS041\n",
    "Make         sure you pass the `# ... Test` cells and\n",
    " submit your solution notebook in the corresponding assignment on the course website. You can submit multiple times before the deadline         and your highest score will be used."
   ]
  },
  {
   "cell_type": "markdown",
   "metadata": {
    "deletable": false,
    "lx_assignment_number": "2",
    "lx_assignment_type": "ASSIGNMENT",
    "lx_assignment_type2print": "Assignment",
    "lx_problem_cell_type": "PROBLEM",
    "lx_problem_number": "1",
    "lx_problem_points": "8"
   },
   "source": [
    "---\n",
    "## Assignment 2, PROBLEM 1\n",
    "Maximum Points = 8"
   ]
  },
  {
   "cell_type": "markdown",
   "metadata": {
    "deletable": false,
    "lx_assignment_number": "2",
    "lx_assignment_type": "ASSIGNMENT",
    "lx_assignment_type2print": "Assignment",
    "lx_problem_cell_type": "PROBLEM",
    "lx_problem_number": "1",
    "lx_problem_points": "8"
   },
   "source": [
    "\n",
    "## Random variable generation and transformation\n",
    "\n",
    "The purpose of this problem is to show that you can implement your own sampler, this will be built in the following three steps:\n",
    "\n",
    "1. [2p] Implement a Linear Congruential Generator where you tested out a good combination (a large $M$ with $a,b$ satisfying the Hull-Dobell (Thm 6.8)) of parameters. Follow the instructions in the code block.\n",
    "2. [2p] Using a generator construct random numbers from the uniform $[0,1]$ distribution.\n",
    "3. [4p] Using a uniform $[0,1]$ random generator, generate samples from \n",
    "\n",
    "$$p_0(x) = \\frac{\\pi}{2}|\\sin(2\\pi x)|, \\quad x \\in [0,1] \\enspace .$$\n",
    "\n",
    "Using the **Accept-Reject** sampler (**Algorithm 1** in TFDS notes) with sampling density given by the uniform $[0,1]$ distribution."
   ]
  },
  {
   "cell_type": "markdown",
   "metadata": {},
   "source": [
    "\n",
    "A congruential generator with parameters $(a, b, M)$ on $\\{0, 1, ..., M - 1\\}$ is defined by the function\n",
    "\n",
    "$$\n",
    "    D(x_{i + 1}) = (ax_i + b)\\; mod M\n",
    "$$\n",
    "\n",
    "In order to achieve the period $M$ need to fulfill the criteria in the **Hull-Dobell Theorem**:\n",
    "- $gcd(b, M) = 1$\n",
    "- $p$ divides $a - 1$ for every prime $p$ that divides $M$ ($a-1$ is divisible by all prime factors of $m$)\n",
    "- 4 divides $a - 1$ if 4 divides $M$"
   ]
  },
  {
   "cell_type": "code",
   "execution_count": 44,
   "metadata": {},
   "outputs": [],
   "source": [
    "from math import gcd\n",
    "from sympy.ntheory import primefactors as prime_factors\n",
    "import math\n",
    "\n",
    "def check_lcg_params(seed, a, b, m):\n",
    "    \"\"\"Function that checks if a proposed set of parameters is suitable\"\"\"\n",
    "    \n",
    "    warning_count = 0\n",
    "    \n",
    "    if gcd(b, m) != 1:\n",
    "        print(f\"WARNING: GCD of b = {b} and M = {m} is not 1\")\n",
    "        warning_count += 1\n",
    "    \n",
    "    m_prime_factors = prime_factors(m)\n",
    "    for prime in m_prime_factors:\n",
    "        if (a - 1) % prime != 0:\n",
    "            print(f\"WARNING: {a} - 1 is not divisible by {prime} (prime factor of {m})\")\n",
    "            warning_count += 1\n",
    "            \n",
    "    if m % 4 == 0:\n",
    "        if (a - 1) % 4 != 0:\n",
    "            print(f\"WARNING: 4 divides {m} but does not divide {a} - 1\")\n",
    "            warning_count += 1\n",
    "            \n",
    "    if warning_count == 0:\n",
    "        print(\"This set of parameters fulfill the Hull-Dobell Theorem\")\n",
    "    else:\n",
    "        print(\"This set of parameters does NOT fulfill the Hull-Dobell Theorem\")"
   ]
  },
  {
   "cell_type": "code",
   "execution_count": 45,
   "metadata": {},
   "outputs": [
    {
     "name": "stdout",
     "output_type": "stream",
     "text": [
      "This set of parameters fulfill the Hull-Dobell Theorem\n"
     ]
    }
   ],
   "source": [
    "check_lcg_params(seed=0, a=1103515245, b=12345, m=2 ** 32)"
   ]
  },
  {
   "cell_type": "code",
   "execution_count": 2,
   "metadata": {
    "deletable": false,
    "lx_assignment_number": "2",
    "lx_assignment_type": "ASSIGNMENT",
    "lx_assignment_type2print": "Assignment",
    "lx_problem_cell_type": "PROBLEM",
    "lx_problem_number": "1",
    "lx_problem_points": "8"
   },
   "outputs": [],
   "source": [
    "def problem1_LCG(size=None, seed = 0):\n",
    "    \"\"\"\n",
    "    A linear congruential generator that generates pseudo random numbers according to size.\n",
    "    \n",
    "    Parameters\n",
    "    -------------\n",
    "    size : an integer denoting how many samples should be produced\n",
    "    seed : the starting point of the LCG, i.e. u0 in the notes.\n",
    "    \n",
    "    Returns\n",
    "    -------------\n",
    "    out : a list of the pseudo random numbers\n",
    "    \"\"\"\n",
    "    \n",
    "    # Define local variables / parameters to satisfy Hull-Dobell\n",
    "    a = 1103515245\n",
    "    b = 12345\n",
    "    period = 2 ** 32\n",
    "    \n",
    "    # Generate list of pseudorandom numbers using formula\n",
    "    x = seed\n",
    "    pseudo_random_nb = [x % period]\n",
    "    for i in range(2, size + 1):\n",
    "        x = (a * x + b) % period\n",
    "        pseudo_random_nb.append(x)\n",
    "    \n",
    "    return pseudo_random_nb"
   ]
  },
  {
   "cell_type": "code",
   "execution_count": 4,
   "metadata": {},
   "outputs": [
    {
     "name": "stdout",
     "output_type": "stream",
     "text": [
      "[0, 12345, 3554416254, 2802067423, 3596950572, 229283573, 3256818826, 1051550459, 3441282840, 2941955441, 551188310, 2951033815, 1772930244, 2518396845, 639546082, 1381971571, 1695770928, 2121308585, 3866696494, 3144468175, 1157490780, 3490719589, 2684337210, 1511588075, 1538207304, 2103497953, 2854052358, 3104096455, 3668764404, 1588911645, 2518522002, 33727075, 1680572000, 88489753, 3430460382, 527630783, 1194991756, 3253908437, 3001001962, 2539649755, 1387182456, 1538766929, 654858422, 4233718199, 3939628324, 2985199757, 3661187650, 2417027667, 3452649360, 1179132041, 3650472078, 1941297327, 2999764156, 1787378757, 1328144282, 2182172875, 2952753320, 2382780353, 1203133286, 2942447271, 321843028, 3873419005, 154978290, 2331577923, 422948032, 1929199097, 1179349310, 1049906079, 2955465964, 214614197, 973693770, 662438587, 809784280, 263435057, 2030201366, 3848146839, 3080115588, 3361689965, 45289890, 2062159411, 2490222064, 2896992105, 3755255278, 3693959823, 3934343452, 393101605, 1500066554, 112136363, 2128634632, 65456801, 2491909318, 2135690375, 1453107124, 84176861, 518465362, 3520260643, 2486602528, 1952263385, 3089917598, 1851786623]\n"
     ]
    }
   ],
   "source": [
    "print(problem1_LCG(size=100, seed=0))"
   ]
  },
  {
   "cell_type": "code",
   "execution_count": 3,
   "metadata": {
    "deletable": false,
    "lx_assignment_number": "2",
    "lx_assignment_type": "ASSIGNMENT",
    "lx_assignment_type2print": "Assignment",
    "lx_problem_cell_type": "PROBLEM",
    "lx_problem_number": "1",
    "lx_problem_points": "8"
   },
   "outputs": [],
   "source": [
    "def problem1_uniform(generator=None, period = 2 ** 32, size=None, seed=0):\n",
    "    \"\"\"\n",
    "    Takes a generator and produces samples from the uniform [0,1] distribution according\n",
    "    to size.\n",
    "    \n",
    "    Parameters\n",
    "    -------------\n",
    "    generator : a function of type generator(size,seed) and produces the same result as problem1_LCG, i.e. pseudo random numbers in the range {0,1,...,period-1}\n",
    "    period : the period of the generator\n",
    "    seed : the seed to be used in the generator provided\n",
    "    size : an integer denoting how many samples should be produced\n",
    "    \n",
    "    Returns\n",
    "    --------------\n",
    "    out : a list of the uniform pseudo random numbers\n",
    "    \"\"\"\n",
    "    \n",
    "    # Call the generator method to create a list of pseudorandom numbers\n",
    "    pseudo_random_nb = generator(size=size, seed=seed)\n",
    "    \n",
    "    # Divide each number in the list by M to produce a uniform pseudorandom sequence between 0-1\n",
    "    uniform_sequence = [x / period for x in pseudo_random_nb]\n",
    "    \n",
    "    return uniform_sequence"
   ]
  },
  {
   "cell_type": "code",
   "execution_count": 5,
   "metadata": {},
   "outputs": [
    {
     "name": "stdout",
     "output_type": "stream",
     "text": [
      "[0.0, 2.8742942959070206e-06, 0.8275770242325962, 0.6524071616586298, 0.8374803168699145, 0.053384241880849004, 0.75828722352162, 0.24483317020349205, 0.8012360986322165, 0.6849773789290339, 0.12833352899178863, 0.6870911025907844, 0.41279248986393213, 0.5863599583972245, 0.14890592591837049, 0.3217653303872794, 0.3948274366557598, 0.4939056432340294, 0.900285433512181, 0.7321285491343588, 0.2694993233308196, 0.8127464887220412, 0.6249959603883326, 0.35194402444176376, 0.3581417966634035, 0.4897587823215872, 0.6645108475349844, 0.722728775581345, 0.8542007775977254, 0.3699473210144788, 0.5863890987820923, 0.007852696580812335, 0.391288660466671, 0.02060312614776194, 0.7987162987701595, 0.12284861481748521, 0.2782306997105479, 0.7576095957774669, 0.6987252184189856, 0.5913082871120423, 0.3229785840958357, 0.3582720945123583, 0.15247110789641738, 0.9857393333222717, 0.9172661984339356, 0.6950459808576852, 0.8524366770870984, 0.5627581074368209, 0.803882572799921, 0.274538072058931, 0.849941763561219, 0.4519935061689466, 0.698437019251287, 0.41615654644556344, 0.30923268804326653, 0.5080767150502652, 0.6874914560467005, 0.5547842832747847, 0.2801262973807752, 0.6850918920245022, 0.07493491936475039, 0.9018506400752813, 0.03608369501307607, 0.5428627885412425, 0.09847526252269745, 0.44917666749097407, 0.274588658940047, 0.2444503081496805, 0.6881230426952243, 0.049968761624768376, 0.2267057471908629, 0.15423600259236991, 0.1885425951331854, 0.061335753882303834, 0.47269309079274535, 0.8959665053989738, 0.7171452948823571, 0.7827044383157045, 0.010544874239712954, 0.4801339029800147, 0.5798000060021877, 0.6745085364673287, 0.8743385034613311, 0.8600670432206243, 0.9160357182845473, 0.09152609971351922, 0.3492614612914622, 0.02610878157429397, 0.4956113714724779, 0.015240349108353257, 0.5801928504370153, 0.4972541646566242, 0.33832786697894335, 0.019598952727392316, 0.12071462394669652, 0.819624551339075, 0.5789572671055794, 0.4545467405114323, 0.7194275031797588, 0.4311526713427156]\n"
     ]
    }
   ],
   "source": [
    "print(problem1_uniform(problem1_LCG, size=100, seed=0))"
   ]
  },
  {
   "cell_type": "code",
   "execution_count": 6,
   "metadata": {
    "deletable": false,
    "lx_assignment_number": "2",
    "lx_assignment_type": "ASSIGNMENT",
    "lx_assignment_type2print": "Assignment",
    "lx_problem_cell_type": "PROBLEM",
    "lx_problem_number": "1",
    "lx_problem_points": "8"
   },
   "outputs": [],
   "source": [
    "def problem1_accept_reject(uniformGenerator=None, n_iterations=None, seed=0):\n",
    "    \"\"\"\n",
    "    Takes a generator that produces uniform pseudo random [0,1] numbers \n",
    "    and produces samples from (pi/2)*abs(sin(x*2*pi)) using an Accept-Reject\n",
    "    sampler with the uniform distribution as the proposal distribution\n",
    "    \n",
    "    Parameters\n",
    "    -------------\n",
    "    generator : a function of the type generator(size,seed) that produces uniform pseudo random\n",
    "    numbers from [0,1]\n",
    "    seed : the seed to be used in the generator provided\n",
    "    size : an integer denoting how many samples should be produced\n",
    "    \n",
    "    Returns\n",
    "    --------------\n",
    "    out : a list of the pseudo random numbers with the specified distribution\n",
    "    \"\"\"\n",
    "    \n",
    "    import numpy as np\n",
    "    \n",
    "    # List for storing values\n",
    "    accept_reject_sample = []\n",
    "    \n",
    "    # Set constant M; this is the max of f(x) + tolerance\n",
    "    m = np.pi / 2 + 0.001\n",
    "    \n",
    "    # Generate g(x) - the sampling density\n",
    "    # This is a Uniform([0, 1]) distribution, large enough to produce the desired output size \n",
    "    internal_size = 1000\n",
    "    g_x = uniformGenerator(size=internal_size, seed=seed)\n",
    "    \n",
    "    # Sample initial value from g(x)\n",
    "    accept_reject_sample.append(g_x[0])\n",
    "    \n",
    "    # Generate f(x) - the target density, using the sampling density g(x) as input\n",
    "    f_x = list(map(lambda x: (np.pi / 2 * abs(np.sin(x * 2 * np.pi))), g_x))\n",
    "    \n",
    "    # Draw from U ~ Uniform([0, 1]), using different seed (our proposal distribution)\n",
    "    u = uniformGenerator(size=internal_size, seed=seed + 3)\n",
    "    \n",
    "    # While we have less than the desired number of outputs, generate samples to accept / reject\n",
    "    # For simplicity, iterate through number of draws equal to \"internal size\"\n",
    "    for i in range(1, internal_size):\n",
    "        \n",
    "        # Calculate r(x), the ratio between them\n",
    "        r_x = f_x[i] / (m * g_x[i])\n",
    "        \n",
    "        # Compare and accept or reject sample\n",
    "        if u[i] <= r_x:\n",
    "            accept_reject_sample.append(g_x[i])\n",
    "            \n",
    "            # NOTE: n_iterations is the desired output size\n",
    "            if len(accept_reject_sample) == n_iterations:\n",
    "                break\n",
    "    \n",
    "    return accept_reject_sample"
   ]
  },
  {
   "cell_type": "markdown",
   "metadata": {
    "deletable": false,
    "lx_assignment_number": "2",
    "lx_assignment_type": "ASSIGNMENT",
    "lx_assignment_type2print": "Assignment",
    "lx_problem_cell_type": "Test",
    "lx_problem_number": "1",
    "lx_problem_points": "8"
   },
   "source": [
    "---\n",
    "#### Local Test for Assignment 2, PROBLEM 1\n",
    "Evaluate cell below to make sure your answer is valid.                             You **should not** modify anything in the cell below when evaluating it to do a local test of                             your solution.\n",
    "You may need to include and evaluate code snippets from lecture notebooks in cells above to make the local test work correctly sometimes (see error messages for clues). This is meant to help you become efficient at recalling materials covered in lectures that relate to this problem. Such local tests will generally not be available in the exam."
   ]
  },
  {
   "cell_type": "code",
   "execution_count": 9,
   "metadata": {
    "deletable": false,
    "lx_assignment_number": "2",
    "lx_assignment_type": "ASSIGNMENT",
    "lx_assignment_type2print": "Assignment",
    "lx_problem_cell_type": "Test",
    "lx_problem_number": "1",
    "lx_problem_points": "8"
   },
   "outputs": [
    {
     "name": "stdout",
     "output_type": "stream",
     "text": [
      "LCG output: [1, 1103527590, 2524885223, 662824084, 3295386429, 4182499122, 2516284547, 3655513600, 2633739833, 3210001534]\n",
      "Uniform sampler [2.3283064365386963e-10, 0.25693503906950355, 0.5878706516232342, 0.15432575810700655, 0.767266943352297, 0.9738139626570046, 0.5858681506942958, 0.8511155843734741, 0.6132153405342251, 0.7473867232911289]\n",
      "Accept-Reject sampler [2.3283064365386963e-10, 0.25693503906950355, 0.5878706516232342, 0.15432575810700655, 0.767266943352297, 0.5858681506942958, 0.8511155843734741, 0.6132153405342251, 0.7473867232911289, 0.06236015981994569, 0.04194940160959959, 0.1948235605377704, 0.1386128985323012, 0.6840353596489877, 0.49171859584748745, 0.7676989699248224, 0.8828409514389932, 0.8232365751173347, 0.8835694054141641, 0.9114757110364735]\n"
     ]
    }
   ],
   "source": [
    "\n",
    "# If you managed to solve all three parts you can test the following code to see if it runs\n",
    "# you have to change the period to match your LCG though, this is marked as XXX.\n",
    "# It is a very good idea to check these things using the histogram function in sagemath\n",
    "# try with a larger number of samples, up to 10000 should run\n",
    "\n",
    "print(\"LCG output: %s\" % problem1_LCG(size=10, seed = 1))\n",
    "\n",
    "period = 2 ** 32\n",
    "\n",
    "print(\"Uniform sampler %s\" % problem1_uniform(generator=problem1_LCG, period = period, size=10, seed=1))\n",
    "\n",
    "uniform_sampler = lambda size,seed: problem1_uniform(generator=problem1_LCG, period = period, size=size, seed=seed)\n",
    "\n",
    "print(\"Accept-Reject sampler %s\" % problem1_accept_reject(uniformGenerator = uniform_sampler,n_iterations=20,seed=1))"
   ]
  },
  {
   "cell_type": "code",
   "execution_count": null,
   "metadata": {
    "deletable": false,
    "lx_assignment_number": "2",
    "lx_assignment_type": "ASSIGNMENT",
    "lx_assignment_type2print": "Assignment",
    "lx_problem_cell_type": "Test",
    "lx_problem_number": "1",
    "lx_problem_points": "8"
   },
   "outputs": [],
   "source": [
    "\n",
    "# If however you did not manage to implement either part 1 or part 2 but still want to check part 3, you can run the code below\n",
    "\n",
    "def testUniformGenerator(size,seed):\n",
    "    import random\n",
    "    random.seed(seed)\n",
    "    \n",
    "    return [random.uniform(0,1) for s in range(size)]\n",
    "\n",
    "print(\"Accept-Reject sampler %s\" % problem1_accept_reject(uniformGenerator=testUniformGenerator, n_iterations=20, seed=1))"
   ]
  },
  {
   "cell_type": "markdown",
   "metadata": {
    "deletable": false,
    "lx_assignment_number": "2",
    "lx_assignment_type": "ASSIGNMENT",
    "lx_assignment_type2print": "Assignment",
    "lx_problem_cell_type": "PROBLEM",
    "lx_problem_number": "2",
    "lx_problem_points": "8"
   },
   "source": [
    "---\n",
    "## Assignment 2, PROBLEM 2\n",
    "Maximum Points = 8"
   ]
  },
  {
   "cell_type": "markdown",
   "metadata": {
    "deletable": false,
    "lx_assignment_number": "2",
    "lx_assignment_type": "ASSIGNMENT",
    "lx_assignment_type2print": "Assignment",
    "lx_problem_cell_type": "PROBLEM",
    "lx_problem_number": "2",
    "lx_problem_points": "8"
   },
   "source": [
    "\n",
    "## Markovian travel\n",
    "\n",
    "The dataset `Travel Dataset - Datathon 2019` is a simulated dataset designed to mimic real corporate travel systems -- focusing on flights and hotels. The file is at `data/flights.csv`, i.e. you can use the path `data/flights.csv` from the notebook to access the file.\n",
    "\n",
    "1. [2p] In the first code-box \n",
    "    1. Load the csv from file `data/flights.csv`\n",
    "    2. Fill in the value of the variables as specified by their names.\n",
    "2. [2p] In the second code-box your goal is to estimate a Markov chain transition matrix for the travels of these users. For example, if we enumerate the cities according to alphabetical order, the first city `'Aracaju (SE)'` would correspond to $0$. Each row of the file corresponds to one flight, i.e. it has a starting city and an ending city. We model this as a stationary Markov chain, i.e. each user's travel trajectory is a realization of the Markov chain, $X_t$. Here, $X_t$ is the current city the user is at, at step $t$, and $X_{t+1}$ is the city the user travels to at the next time step. This means that to each row in the file there is a corresponding pair $(X_{t},X_{t+1})$. The stationarity assumption gives that for all $t$ there is a transition density $p$ such that $P(X_{t+1} = y | X_t = x) = p(x,y)$ (for all $x,y$). The transition matrix should be `n_cities` x `n_citites` in size.\n",
    "3. [2p] Use the transition matrix to compute out the stationary distribution.\n",
    "4. [2p] Given that we start in 'Aracaju (SE)' what is the probability that after 3 steps we will be back in 'Aracaju (SE)'?"
   ]
  },
  {
   "cell_type": "code",
   "execution_count": 77,
   "metadata": {
    "deletable": false,
    "lx_assignment_number": "2",
    "lx_assignment_type": "ASSIGNMENT",
    "lx_assignment_type2print": "Assignment",
    "lx_problem_cell_type": "PROBLEM",
    "lx_problem_number": "2",
    "lx_problem_points": "8"
   },
   "outputs": [
    {
     "name": "stdout",
     "output_type": "stream",
     "text": [
      "['travelCode', 'userCode', 'from', 'to', 'flightType', 'price', 'time', 'distance', 'agency', 'date']\n",
      "['0' '0' 'Recife (PE)' 'Florianopolis (SC)' 'firstClass' '1434.38' '1.76'\n",
      " '676.53' 'FlyingDrops' '09/26/2019']\n"
     ]
    }
   ],
   "source": [
    "import csv\n",
    "import numpy as np\n",
    "\n",
    "# Read the data using csv package\n",
    "\n",
    "data = []\n",
    "\n",
    "with open(\"data/flights.csv\", mode='r') as f:\n",
    "    csv_reader = csv.reader(f)\n",
    "    header = next(csv_reader)\n",
    "    \n",
    "    for line in csv_reader:\n",
    "        data.append(line)\n",
    "        \n",
    "data = np.array(data)\n",
    "\n",
    "print(header)\n",
    "print(data[0])"
   ]
  },
  {
   "cell_type": "code",
   "execution_count": 78,
   "metadata": {},
   "outputs": [
    {
     "name": "stdout",
     "output_type": "stream",
     "text": [
      "9\n",
      "1335\n",
      "271888\n"
     ]
    }
   ],
   "source": [
    "# Take the unique values from the relevant columns\n",
    "\n",
    "number_of_cities = len(set(data[:, 2]))\n",
    "number_of_userCodes = len(set(data[:, 1]))\n",
    "number_of_observations = data.shape[0]\n",
    "\n",
    "print(number_of_cities)\n",
    "print(number_of_userCodes)\n",
    "print(number_of_observations)"
   ]
  },
  {
   "cell_type": "code",
   "execution_count": 79,
   "metadata": {
    "deletable": false,
    "lx_assignment_number": "2",
    "lx_assignment_type": "ASSIGNMENT",
    "lx_assignment_type2print": "Assignment",
    "lx_problem_cell_type": "PROBLEM",
    "lx_problem_number": "2",
    "lx_problem_points": "8"
   },
   "outputs": [],
   "source": [
    "\n",
    "# This is a very useful function that you can use for part 2. You have seen this before when parsing the\n",
    "# pride and prejudice book.\n",
    "\n",
    "def makeFreqDict(myDataList):\n",
    "    '''Make a frequency mapping out of a list of data.\n",
    "\n",
    "    Param myDataList, a list of data.\n",
    "    Return a dictionary mapping each unique data value to its frequency count.'''\n",
    "\n",
    "    freqDict = {} # start with an empty dictionary\n",
    "\n",
    "    for res in myDataList:\n",
    "        if res in freqDict: # the data value already exists as a key\n",
    "                freqDict[res] = freqDict[res] + 1 # add 1 to the count using sage integers\n",
    "        else: # the data value does not exist as a key value\n",
    "            freqDict[res] = 1 # add a new key-value pair for this new data value, frequency 1\n",
    "\n",
    "    return freqDict # return the dictionary created"
   ]
  },
  {
   "cell_type": "code",
   "execution_count": 80,
   "metadata": {},
   "outputs": [],
   "source": [
    "transitions = []\n",
    "\n",
    "for i in range(number_of_observations):\n",
    "    transitions.append((data[i, 2], data[i , 3]))"
   ]
  },
  {
   "cell_type": "code",
   "execution_count": 81,
   "metadata": {},
   "outputs": [],
   "source": [
    "# Create a transition matrix, since we have 9 states we will have a 9 x 9 dimensioned matrix\n",
    "transition_matrix = np.zeros(shape=(number_of_cities, number_of_cities))\n",
    "\n",
    "# Count frequences that the transitions occur \n",
    "freq_list = makeFreqDict(transitions)"
   ]
  },
  {
   "cell_type": "code",
   "execution_count": 82,
   "metadata": {},
   "outputs": [
    {
     "name": "stdout",
     "output_type": "stream",
     "text": [
      "{('Recife (PE)', 'Florianopolis (SC)'): 7609, ('Florianopolis (SC)', 'Recife (PE)'): 7609, ('Brasilia (DF)', 'Florianopolis (SC)'): 7779, ('Florianopolis (SC)', 'Brasilia (DF)'): 7779, ('Aracaju (SE)', 'Salvador (BH)'): 2918, ('Salvador (BH)', 'Aracaju (SE)'): 2918, ('Aracaju (SE)', 'Campo Grande (MS)'): 5393, ('Campo Grande (MS)', 'Aracaju (SE)'): 5393, ('Brasilia (DF)', 'Aracaju (SE)'): 4833, ('Aracaju (SE)', 'Brasilia (DF)'): 4833, ('Recife (PE)', 'Sao Paulo (SP)'): 2912, ('Sao Paulo (SP)', 'Recife (PE)'): 2912, ('Brasilia (DF)', 'Campo Grande (MS)'): 4517, ('Campo Grande (MS)', 'Brasilia (DF)'): 4517, ('Brasilia (DF)', 'Sao Paulo (SP)'): 2838, ('Sao Paulo (SP)', 'Brasilia (DF)'): 2838, ('Brasilia (DF)', 'Salvador (BH)'): 2009, ('Salvador (BH)', 'Brasilia (DF)'): 2009, ('Recife (PE)', 'Natal (RN)'): 2894, ('Natal (RN)', 'Recife (PE)'): 2894, ('Brasilia (DF)', 'Natal (RN)'): 2987, ('Natal (RN)', 'Brasilia (DF)'): 2987, ('Recife (PE)', 'Salvador (BH)'): 1952, ('Salvador (BH)', 'Recife (PE)'): 1952, ('Recife (PE)', 'Campo Grande (MS)'): 4510, ('Campo Grande (MS)', 'Recife (PE)'): 4510, ('Brasilia (DF)', 'Recife (PE)'): 3822, ('Recife (PE)', 'Brasilia (DF)'): 3822, ('Aracaju (SE)', 'Sao Paulo (SP)'): 3798, ('Sao Paulo (SP)', 'Aracaju (SE)'): 3798, ('Aracaju (SE)', 'Natal (RN)'): 3937, ('Natal (RN)', 'Aracaju (SE)'): 3937, ('Aracaju (SE)', 'Recife (PE)'): 4884, ('Recife (PE)', 'Aracaju (SE)'): 4884, ('Aracaju (SE)', 'Rio de Janeiro (RJ)'): 2818, ('Rio de Janeiro (RJ)', 'Aracaju (SE)'): 2818, ('Aracaju (SE)', 'Florianopolis (SC)'): 8643, ('Florianopolis (SC)', 'Aracaju (SE)'): 8643, ('Brasilia (DF)', 'Rio de Janeiro (RJ)'): 1994, ('Rio de Janeiro (RJ)', 'Brasilia (DF)'): 1994, ('Recife (PE)', 'Rio de Janeiro (RJ)'): 1897, ('Rio de Janeiro (RJ)', 'Recife (PE)'): 1897, ('Campo Grande (MS)', 'Florianopolis (SC)'): 8253, ('Florianopolis (SC)', 'Campo Grande (MS)'): 8253, ('Campo Grande (MS)', 'Salvador (BH)'): 2520, ('Salvador (BH)', 'Campo Grande (MS)'): 2520, ('Campo Grande (MS)', 'Sao Paulo (SP)'): 3597, ('Sao Paulo (SP)', 'Campo Grande (MS)'): 3597, ('Campo Grande (MS)', 'Natal (RN)'): 3543, ('Natal (RN)', 'Campo Grande (MS)'): 3543, ('Campo Grande (MS)', 'Rio de Janeiro (RJ)'): 2415, ('Rio de Janeiro (RJ)', 'Campo Grande (MS)'): 2415, ('Natal (RN)', 'Rio de Janeiro (RJ)'): 950, ('Rio de Janeiro (RJ)', 'Natal (RN)'): 950, ('Sao Paulo (SP)', 'Salvador (BH)'): 979, ('Salvador (BH)', 'Sao Paulo (SP)'): 979, ('Sao Paulo (SP)', 'Natal (RN)'): 1850, ('Natal (RN)', 'Sao Paulo (SP)'): 1850, ('Sao Paulo (SP)', 'Rio de Janeiro (RJ)'): 934, ('Rio de Janeiro (RJ)', 'Sao Paulo (SP)'): 934, ('Sao Paulo (SP)', 'Florianopolis (SC)'): 6717, ('Florianopolis (SC)', 'Sao Paulo (SP)'): 6717, ('Natal (RN)', 'Salvador (BH)'): 926, ('Salvador (BH)', 'Natal (RN)'): 926, ('Natal (RN)', 'Florianopolis (SC)'): 6709, ('Florianopolis (SC)', 'Natal (RN)'): 6709, ('Florianopolis (SC)', 'Rio de Janeiro (RJ)'): 5807, ('Rio de Janeiro (RJ)', 'Florianopolis (SC)'): 5807, ('Florianopolis (SC)', 'Salvador (BH)'): 5800, ('Salvador (BH)', 'Florianopolis (SC)'): 5800}\n"
     ]
    }
   ],
   "source": [
    "print(freq_list)"
   ]
  },
  {
   "cell_type": "code",
   "execution_count": 83,
   "metadata": {},
   "outputs": [],
   "source": [
    "indexToCity = {index: city for (index, city) in zip(list(range(n_cities)), unique_cities)} \n",
    "\n",
    "# A dictionary that maps the n-1 number to the n:th unique_city,\n",
    "# ex: 0:'Aracaju (SE)'\n",
    "\n",
    "cityToIndex = {city: index for (index, city) in zip(list(range(n_cities)), unique_cities)}   \n",
    "\n",
    "# The inverse function of indexToWord, \n",
    "# ex: 'Aracaju (SE)':0"
   ]
  },
  {
   "cell_type": "code",
   "execution_count": 84,
   "metadata": {},
   "outputs": [],
   "source": [
    "# Add counts to the transition matrix\n",
    "for i in range(number_of_cities):\n",
    "    for j in range(number_of_cities):\n",
    "        origin, dest = indexToCity[i], indexToCity[j]\n",
    "        if (origin, dest) in freq_list:\n",
    "            transition_matrix[i, j] = freq_list[(origin, dest)]\n",
    "        else:\n",
    "            transition_matrix[i, j] = 0\n",
    "\n",
    "# Divide each count by the row sum, to get probabilities betwee 0-1 summing up to 1\n",
    "for i in range(number_of_cities):\n",
    "    transition_matrix[i, :] = transition_matrix[i, :] / np.sum(transition_matrix[i, :])"
   ]
  },
  {
   "cell_type": "code",
   "execution_count": 85,
   "metadata": {},
   "outputs": [
    {
     "name": "stdout",
     "output_type": "stream",
     "text": [
      "[[0.         0.12983559 0.14487965 0.23218891 0.1057651  0.13120567\n",
      "  0.07570385 0.07839029 0.10203095]\n",
      " [0.15702265 0.         0.14675591 0.25273726 0.09704669 0.12417557\n",
      "  0.06478443 0.06527178 0.09220572]\n",
      " [0.15520318 0.12999309 0.         0.23751007 0.1019627  0.12979164\n",
      "  0.0695004  0.07252216 0.10351675]\n",
      " [0.15079296 0.1357189  0.14398869 0.         0.11705079 0.13275294\n",
      "  0.10131375 0.10119162 0.11719036]\n",
      " [0.16544797 0.1255253  0.14889057 0.28193814 0.         0.12161708\n",
      "  0.03992268 0.0389141  0.07774416]\n",
      " [0.16023622 0.1253937  0.14796588 0.24963911 0.09494751 0.\n",
      "  0.06223753 0.06404199 0.09553806]\n",
      " [0.16758846 0.1185846  0.14362177 0.34534642 0.05649718 0.11281594\n",
      "  0.         0.         0.05554564]\n",
      " [0.17060337 0.1174579  0.14733396 0.33910196 0.05413938 0.11412535\n",
      "  0.         0.         0.05723807]\n",
      " [0.1607619  0.12012698 0.15225397 0.28431746 0.07830688 0.12325926\n",
      "  0.03953439 0.04143915 0.        ]]\n"
     ]
    }
   ],
   "source": [
    "print(transition_matrix)"
   ]
  },
  {
   "cell_type": "code",
   "execution_count": 86,
   "metadata": {},
   "outputs": [
    {
     "name": "stdout",
     "output_type": "stream",
     "text": [
      "0.9999999999999999\n",
      "1.0\n",
      "1.0\n",
      "1.0\n",
      "1.0\n",
      "1.0000000000000002\n",
      "0.9999999999999999\n",
      "1.0\n",
      "1.0\n"
     ]
    }
   ],
   "source": [
    "# Check that each row sums to 1\n",
    "\n",
    "for row in transition_matrix:\n",
    "    print(np.sum(row))"
   ]
  },
  {
   "cell_type": "code",
   "execution_count": 87,
   "metadata": {},
   "outputs": [
    {
     "name": "stdout",
     "output_type": "stream",
     "text": [
      "[ 1.00000000e+00 -3.14924841e-01  1.11731432e-04 -5.29756651e-02\n",
      " -7.76523120e-02 -1.58563203e-01 -1.46602836e-01 -1.25937067e-01\n",
      " -1.23455807e-01]\n",
      "[[-0.38283116  0.08762827 -0.01318524  0.02786052  0.04059845  0.87008992\n",
      "  -0.26240249 -0.11656833  0.01472944]\n",
      " [-0.31654739 -0.07463034  0.00735186 -0.02386169  0.07738492 -0.05028166\n",
      "  -0.10514477  0.93162534  0.02646293]\n",
      " [-0.35736667  0.02135482 -0.01857522 -0.06160465 -0.0372502   0.11008305\n",
      "   0.92257216 -0.0076412  -0.01950291]\n",
      " [-0.58947812  0.89277833  0.02244795  0.25287422 -0.01521697 -0.41177574\n",
      "  -0.18491201 -0.18511324  0.26081595]\n",
      " [-0.24473056 -0.19290546  0.02003527 -0.53150481  0.67900306 -0.13036366\n",
      "  -0.07244699 -0.19371104  0.20403156]\n",
      " [-0.31347232 -0.07380937 -0.00837202 -0.08186406 -0.02571517 -0.15033461\n",
      "  -0.12096819 -0.12987105 -0.90627714]\n",
      " [-0.17293429 -0.23451106  0.70995875  0.44468668 -0.00925568 -0.06529505\n",
      "  -0.02603764 -0.09789886  0.09543442]\n",
      " [-0.17590652 -0.23403616 -0.70294435  0.45767142  0.01753121 -0.08031243\n",
      "  -0.03759005 -0.09713589  0.10731006]\n",
      " [-0.2429719  -0.19186904 -0.01671699 -0.48425763 -0.72707962 -0.09180982\n",
      "  -0.11307001 -0.10368572  0.21699569]]\n"
     ]
    }
   ],
   "source": [
    "# Find the stationary distribution using the transition matrix\n",
    "# This should be a numpy array of length n_cities which sums to 1 and is all positive\n",
    "\n",
    "# Find the eigenvalues and vectors of the transition matrix\n",
    "eigen_val, eigen_vec = np.linalg.eig(np.transpose(transition_matrix))\n",
    "print(eigen_val)\n",
    "print(eigen_vec)"
   ]
  },
  {
   "cell_type": "code",
   "execution_count": 88,
   "metadata": {},
   "outputs": [
    {
     "name": "stdout",
     "output_type": "stream",
     "text": [
      "[-0.38283116 -0.31654739 -0.35736667 -0.58947812 -0.24473056 -0.31347232\n",
      " -0.17293429 -0.17590652 -0.2429719 ]\n",
      "[0.13690932 0.1132047  0.12780262 0.21081107 0.08752133 0.11210498\n",
      " 0.06184532 0.06290826 0.0868924 ]\n"
     ]
    }
   ],
   "source": [
    "# Extract the one with eigenvalue = 1 and normalize it to get probabilities summing to 1\n",
    "first_eigen_vec = eigen_vec[:, 0]\n",
    "np.array(first_eigen_vec) / np.sum(first_eigen_vec)\n",
    "stationary = np.array(first_eigen_vec) / np.sum(first_eigen_vec)\n",
    "\n",
    "print(first_eigen_vec)\n",
    "print(stationary)"
   ]
  },
  {
   "cell_type": "code",
   "execution_count": 89,
   "metadata": {},
   "outputs": [
    {
     "name": "stdout",
     "output_type": "stream",
     "text": [
      "0.13331717737273133\n",
      "[[0.13331718 0.11370595 0.12805988 0.20936653 0.08846997 0.11276808\n",
      "  0.06275199 0.06385752 0.0877029 ]]\n"
     ]
    }
   ],
   "source": [
    "# Find the probability of starting in Aracuja and being back after 3 periods\n",
    "# Compute the return probability for part 3 of PROBLEM 2\n",
    "\n",
    "# Initial state probability; Aracuja = 1 since we know for a fact we are starting there\n",
    "p_0 = np.matrix([1, 0, 0, 0, 0, 0, 0, 0, 0])\n",
    "\n",
    "# Probabilities is given by initial state times transition matrix to the power of the nb of periods\n",
    "p_3 = p_0 * np.matrix(transition_matrix) ** 3\n",
    "    \n",
    "p_3_aracuja = p_3[0, 0]\n",
    "\n",
    "print(p_3_aracuja)\n",
    "print(p_3)"
   ]
  },
  {
   "cell_type": "code",
   "execution_count": 56,
   "metadata": {
    "deletable": false,
    "lx_assignment_number": "2",
    "lx_assignment_type": "ASSIGNMENT",
    "lx_assignment_type2print": "Assignment",
    "lx_problem_cell_type": "PROBLEM",
    "lx_problem_number": "2",
    "lx_problem_points": "8"
   },
   "outputs": [
    {
     "name": "stdout",
     "output_type": "stream",
     "text": [
      "[0.13690932 0.1132047  0.12780262 0.21081107 0.08752133 0.11210498\n",
      " 0.06184532 0.06290826 0.0868924 ]\n"
     ]
    }
   ],
   "source": []
  },
  {
   "cell_type": "code",
   "execution_count": null,
   "metadata": {
    "deletable": false,
    "lx_assignment_number": "2",
    "lx_assignment_type": "ASSIGNMENT",
    "lx_assignment_type2print": "Assignment",
    "lx_problem_cell_type": "PROBLEM",
    "lx_problem_number": "2",
    "lx_problem_points": "8"
   },
   "outputs": [],
   "source": []
  },
  {
   "cell_type": "code",
   "execution_count": 52,
   "metadata": {
    "deletable": false,
    "lx_assignment_number": "2",
    "lx_assignment_type": "ASSIGNMENT",
    "lx_assignment_type2print": "Assignment",
    "lx_problem_cell_type": "PROBLEM",
    "lx_problem_number": "2",
    "lx_problem_points": "8"
   },
   "outputs": [
    {
     "name": "stdout",
     "output_type": "stream",
     "text": [
      "0.13331717737273133\n",
      "[[0.13331718 0.11370595 0.12805988 0.20936653 0.08846997 0.11276808\n",
      "  0.06275199 0.06385752 0.0877029 ]]\n"
     ]
    }
   ],
   "source": []
  },
  {
   "cell_type": "markdown",
   "metadata": {
    "deletable": false,
    "lx_assignment_number": "2",
    "lx_assignment_type": "ASSIGNMENT",
    "lx_assignment_type2print": "Assignment",
    "lx_problem_cell_type": "Test",
    "lx_problem_number": "2",
    "lx_problem_points": "8"
   },
   "source": [
    "---\n",
    "#### Local Test for Assignment 2, PROBLEM 2\n",
    "Evaluate cell below to make sure your answer is valid.                             You **should not** modify anything in the cell below when evaluating it to do a local test of                             your solution.\n",
    "You may need to include and evaluate code snippets from lecture notebooks in cells above to make the local test work correctly sometimes (see error messages for clues). This is meant to help you become efficient at recalling materials covered in lectures that relate to this problem. Such local tests will generally not be available in the exam."
   ]
  },
  {
   "cell_type": "code",
   "execution_count": 40,
   "metadata": {
    "deletable": false,
    "lx_assignment_number": "2",
    "lx_assignment_type": "ASSIGNMENT",
    "lx_assignment_type2print": "Assignment",
    "lx_problem_cell_type": "Test",
    "lx_problem_number": "2",
    "lx_problem_points": "8"
   },
   "outputs": [
    {
     "name": "stdout",
     "output_type": "stream",
     "text": [
      "Aracaju (SE)->Natal (RN)->Brasilia (DF)->Recife (PE)->Sao Paulo (SP)->Salvador (BH)->Aracaju (SE)->Florianopolis (SC)->Salvador (BH)->Florianopolis (SC)->"
     ]
    }
   ],
   "source": [
    "# Once you have created all your functions, you can make a small test here to see\n",
    "# what would be generated from your model.\n",
    "import numpy as np\n",
    "\n",
    "start = np.zeros(shape=(n_cities,1))\n",
    "start[cityToIndex['Aracaju (SE)'],0] = 1\n",
    "\n",
    "current_pos = start\n",
    "for i in range(10):\n",
    "    random_word_index = np.random.choice(range(n_cities),p=current_pos.reshape(-1))\n",
    "    current_pos = np.zeros_like(start)\n",
    "    current_pos[random_word_index] = 1\n",
    "    print(indexToCity[random_word_index],end='->')\n",
    "    current_pos = (current_pos.T@transition_matrix).T"
   ]
  },
  {
   "cell_type": "markdown",
   "metadata": {
    "deletable": false,
    "lx_assignment_number": "2",
    "lx_assignment_type": "ASSIGNMENT",
    "lx_assignment_type2print": "Assignment",
    "lx_problem_cell_type": "PROBLEM",
    "lx_problem_number": "3",
    "lx_problem_points": "4"
   },
   "source": [
    "---\n",
    "## Assignment 2, PROBLEM 3\n",
    "Maximum Points = 4"
   ]
  },
  {
   "cell_type": "markdown",
   "metadata": {
    "deletable": false,
    "lx_assignment_number": "2",
    "lx_assignment_type": "ASSIGNMENT",
    "lx_assignment_type2print": "Assignment",
    "lx_problem_cell_type": "PROBLEM",
    "lx_problem_number": "3",
    "lx_problem_points": "4"
   },
   "source": [
    "\n",
    "\n",
    "Derive the maximum likelihood estimate for $n$ IID samples from a random variable with the following probability density function:\n",
    "$$\n",
    "f(x; \\lambda) = \\frac{1}{24} \\lambda^5 x^4 \\exp(-\\lambda x), \\qquad \\text{ where, } \\lambda>0, x > 0\n",
    "$$\n",
    "\n",
    "You can solve the MLe by hand (using pencil paper or using key-strokes). Present your solution as the return value of a function called `def MLeForAssignment2Problem3(x)`, where `x` is a list of $n$ input data points."
   ]
  },
  {
   "cell_type": "markdown",
   "metadata": {},
   "source": [
    "The likelihood function $f(x; \\lambda)$ is given by\n",
    "\n",
    "$$\n",
    "    L_n(\\lambda) = \\prod_{i=1}^n f(x_i ; \\lambda) = \\prod_{i=1}^n \\frac{1}{24} \\lambda^5 x_i^4 e^{(-\\lambda x_i)}\n",
    "$$\n",
    "\n",
    "Taking the log likelhood we get\n",
    "\n",
    "$$\n",
    "    l_n(\\lambda) = \\sum_{i=1}^n log(f(x_i ; \\lambda)) = \n",
    "    \\sum_{i=1}^n log(1/24) + log(\\lambda^5) + log(x^4) - \\lambda x \\, log(e) =\n",
    "    \\sum_{i=1}^n log(1/24) + 5 \\, log(\\lambda) + 4 \\, log(x) - \\lambda x\n",
    "$$\n",
    "\n",
    "Let $r = log(1/24) + 5 log(\\lambda) + 4 log(x) - \\lambda x$ and take the partial derivative with respect to $\\lambda$, then set this to $0$ to obtain a maximum point (everything that doesn't involve $\\lambda$ is a constant that disappears):\n",
    "\n",
    "$$\n",
    "    \\frac{\\partial}{\\partial \\lambda} r = \\frac{\\partial}{\\partial \\lambda} log(1/24) + 5 \\, log(\\lambda) + 4 \\, log(x) - \\lambda x\n",
    "    = \\frac{5}{\\lambda} - x\n",
    "$$\n",
    "\n",
    "\n",
    "$$\n",
    "    \\frac{5}{\\lambda} - x = 0 \\Longleftrightarrow \\frac{5}{\\lambda} = x \\Longleftrightarrow 5 = \\lambda x\n",
    "    \\Longleftrightarrow \\lambda = \\frac{5}{x}\n",
    "$$\n",
    "\n",
    "The MLE is then given by the sum of $\\frac{5}{x}$ across all samples in the list $x$.\n",
    "\n",
    "$$\n",
    "    MLE = \\sum_{i=1}^{n} \\frac{5}{x_i} = \\frac{5n}{\\sum_{i=1}^n x_i} = 5n \\sum_{i=1}^{n} \\frac{1}{x_i}\n",
    "$$"
   ]
  },
  {
   "cell_type": "code",
   "execution_count": null,
   "metadata": {
    "deletable": false,
    "lx_assignment_number": "2",
    "lx_assignment_type": "ASSIGNMENT",
    "lx_assignment_type2print": "Assignment",
    "lx_problem_cell_type": "PROBLEM",
    "lx_problem_number": "3",
    "lx_problem_points": "4"
   },
   "outputs": [],
   "source": [
    "\n",
    "# do not change the name of the function, just replace XXX with the appropriate expressions for the MLe\n",
    "def MLeForAssignment2Problem3(x):\n",
    "    '''write comment of what this function does'''\n",
    "    \n",
    "    mle = (5 * len(x)) / sum(x)\n",
    "    \n",
    "    return mle"
   ]
  },
  {
   "cell_type": "markdown",
   "metadata": {
    "deletable": false,
    "lx_assignment_number": "2",
    "lx_assignment_type": "ASSIGNMENT",
    "lx_assignment_type2print": "Assignment",
    "lx_problem_cell_type": "PROBLEM",
    "lx_problem_number": "4",
    "lx_problem_points": "4"
   },
   "source": [
    "---\n",
    "## Assignment 2, PROBLEM 4\n",
    "Maximum Points = 4"
   ]
  },
  {
   "cell_type": "markdown",
   "metadata": {
    "deletable": false,
    "lx_assignment_number": "2",
    "lx_assignment_type": "ASSIGNMENT",
    "lx_assignment_type2print": "Assignment",
    "lx_problem_cell_type": "PROBLEM",
    "lx_problem_number": "4",
    "lx_problem_points": "4"
   },
   "source": [
    "\n",
    "Use the **Multi-dimensional Constrained Optimisation** example (in `07-Optimization.ipynb`) to numerically find the MLe for the mean and variance parameter based on `normallySimulatedDataSamples`, an array obtained by a specific simulation of $30$ IID samples from the $Normal(10,2)$ random variable.\n",
    "\n",
    "Recall that $Normal(\\mu, \\sigma^2)$ RV has the probability density function given by:\n",
    "\n",
    "$$\n",
    "f(x ;\\mu, \\sigma) = \\displaystyle\\frac{1}{\\sigma\\sqrt{2\\pi}}\\exp\\left(\\frac{-1}{2\\sigma^2}(x-\\mu)^2\\right)\n",
    "$$\n",
    "\n",
    "The two parameters, $\\mu \\in \\mathbb{R} := (-\\infty,\\infty)$ and $\\sigma \\in (0,\\infty)$, are sometimes referred to as the location and scale parameters.\n",
    "\n",
    "You know that the log likelihood function for $n$ IID samples from a Normal RV with parameters $\\mu$ and $\\sigma$ simply follows from $\\sum_{i=1}^n \\log(f(x_i; \\mu,\\sigma))$, based on the IID assumption. \n",
    "\n",
    "NOTE: When setting bounding boxes for $\\mu$ and $\\sigma$ try to start with some guesses like $[-20,20]$ and $[0.1,5.0]$ and make it larger if the solution is at the boundary. Making the left bounding-point for $\\sigma$ too close to $0.0$ will cause division by zero Warnings. Other numerical instabilities can happen in such iterative numerical solutions to the MLe. You need to be patient and learn by trial-and-error. You will see the mathematical theory in more details in a future course in scientific computing/optimisation. So don't worry too much now except learning to use it for our problems.  "
   ]
  },
  {
   "cell_type": "code",
   "execution_count": 41,
   "metadata": {
    "deletable": false,
    "lx_assignment_number": "2",
    "lx_assignment_type": "ASSIGNMENT",
    "lx_assignment_type2print": "Assignment",
    "lx_problem_cell_type": "PROBLEM",
    "lx_problem_number": "4",
    "lx_problem_points": "4"
   },
   "outputs": [
    {
     "data": {
      "text/plain": [
       "      fun: 58.631387282367946\n",
       " hess_inv: <2x2 LbfgsInvHessProduct with dtype=float64>\n",
       "      jac: array([-2.13162803e-06,  6.39488466e-06])\n",
       "  message: 'CONVERGENCE: NORM_OF_PROJECTED_GRADIENT_<=_PGTOL'\n",
       "     nfev: 36\n",
       "      nit: 7\n",
       "     njev: 12\n",
       "   status: 0\n",
       "  success: True\n",
       "        x: array([9.26861952, 1.70820175])"
      ]
     },
     "execution_count": 41,
     "metadata": {},
     "output_type": "execute_result"
    }
   ],
   "source": [
    "import numpy as np\n",
    "from scipy import optimize\n",
    "\n",
    "# do NOT change the next three lines\n",
    "np.random.seed(123456) # set seed\n",
    "# simulate 30 IID samples drawn from Normal(10,2)RV\n",
    "normallySimulatedDataSamples = np.random.normal(10,2,30) \n",
    "\n",
    "# define the negative log likelihoo function you want to minimise by editing XXX\n",
    "def negLogLklOfIIDNormalSamples(parameters):\n",
    "    '''return the -log(likelihood) of normallySimulatedDataSamples with mean and var parameters'''\n",
    "    \n",
    "    # Retrieve the parameters of the normal distribution\n",
    "    mu_param=parameters[0]\n",
    "    sigma_param=parameters[1]\n",
    "    \n",
    "    # Helper function to calculate log likelihood\n",
    "    def f_normal(x, sigma_param=sigma_param, mu_param=mu_param):\n",
    "        \n",
    "        # Plug in the expression for the normal distribution from above\n",
    "        f_normal = (1 / (sigma_param * np.sqrt(2 * np.pi))) * np.exp((-1 / (2 * sigma_param ** 2)) * (x - mu_param) ** 2)\n",
    "        \n",
    "        # Take the logarithm\n",
    "        f_normal_log = np.log(f_normal)\n",
    "        \n",
    "        return f_normal_log\n",
    "    \n",
    "    # Sum of negative log likelihoods of all data points\n",
    "    log_likelihood = -sum([f_normal(x) for x in normallySimulatedDataSamples])\n",
    "    \n",
    "    return log_likelihood\n",
    "\n",
    "# you should only change XXX below and not anything else\n",
    "parameter_bounding_box=((-20, 20), (0.1, 5)) # specify the constraints for each parameter - some guess work...\n",
    "initial_arguments = np.array([5, 2.6]) # point in 2D to initialise the minimize algorithm\n",
    "result_Ass2Prob4 = optimize.minimize(negLogLklOfIIDNormalSamples, initial_arguments, bounds=parameter_bounding_box) \n",
    "# call the minimize method above finally! you need to play a bit to get initial conditions and bounding box ok\n",
    "result_Ass2Prob4"
   ]
  }
 ],
 "metadata": {
  "kernelspec": {
   "display_name": "Python 3 (ipykernel)",
   "language": "python",
   "name": "python3"
  },
  "language_info": {
   "codemirror_mode": {
    "name": "ipython",
    "version": 3
   },
   "file_extension": ".py",
   "mimetype": "text/x-python",
   "name": "python",
   "nbconvert_exporter": "python",
   "pygments_lexer": "ipython3",
   "version": "3.8.5"
  },
  "lx_assignment_number": 2,
  "lx_course_instance": "2022",
  "lx_course_name": "Introduction to Data Science",
  "lx_course_number": "1MS041"
 },
 "nbformat": 4,
 "nbformat_minor": 4
}
