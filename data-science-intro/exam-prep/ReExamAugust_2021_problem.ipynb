{
 "cells": [
  {
   "cell_type": "markdown",
   "id": "0ec93b82",
   "metadata": {
    "deletable": false
   },
   "source": [
    "# ReExam 24th of August 2022, 8.00-13.00 for the course 1MS041 (Introduction to Data Science / Introduktion till dataanalys)\n",
    "\n",
    "## Instructions:\n",
    "1. Complete the problems by following instructions.\n",
    "2. When done, submit this file with your solutions saved, following the instruction sheet.\n",
    "\n",
    "This exam has 5 problems each worth 8 points for a total of 40 points, to pass you need\n",
    "15 points.\n",
    "\n",
    "## Some general hints and information:\n",
    "* Some problems are similar to the exam in January but changed.\n",
    "* Try to answer all questions even if you are uncertain.\n",
    "* Comment your code, so that if you get the wrong answer I can understand how you thought\n",
    "this can give you some points even though the code does not run.\n",
    "* Follow the instruction sheet rigorously.\n",
    "* This exam has no anonymous exam ID due to a technical issue, however this does not mean\n",
    "that the exam is not anonymous. The grading system will automatically download all the exams from Studium\n",
    "and it is at this stage that they are anonymized by a randomized ID.\n",
    "* If there are any questions, please ask the exam guards, they will escalate it to me if necessary.\n",
    "* I (Benny) will visit the exam room at around 10:30 to see if there are any questions.\n",
    "\n",
    "## Finally some rules:\n",
    "* You may not communicate with others during the exam, for example:\n",
    "    * You cannot ask for help in Stack-Overflow or other such help forums during the Exam.\n",
    "    * You may not use encrypted communications\n",
    "    * Your on-line and off-line activity is being monitored according to the examination rules.\n",
    "\n",
    "## Good luck!\n"
   ]
  },
  {
   "cell_type": "markdown",
   "id": "d0eb64bc",
   "metadata": {
    "deletable": false,
    "lx_assignment_number": "vB",
    "lx_assignment_type": "EXAM",
    "lx_assignment_type2print": "Exam",
    "lx_problem_cell_type": "PROBLEM",
    "lx_problem_number": "1",
    "lx_problem_points": "8"
   },
   "source": [
    "---\n",
    "## Exam vB, PROBLEM 1\n",
    "Maximum Points = 8"
   ]
  },
  {
   "cell_type": "markdown",
   "id": "7aec718c",
   "metadata": {
    "deletable": false,
    "lx_assignment_number": "vB",
    "lx_assignment_type": "EXAM",
    "lx_assignment_type2print": "Exam",
    "lx_problem_cell_type": "PROBLEM",
    "lx_problem_number": "1",
    "lx_problem_points": "8"
   },
   "source": [
    "\n",
    "## Probability warmup\n",
    "Let's say we have an exam question which consists of $50$ yes/no questions. \n",
    "From past performance of similar students, a randomly chosen student will know the correct answer to $N \\sim \\text{binom}(50,0.8)$ questions. Furthermore, we assume that the student will guess the answer with equal probability to each question they don't know the answer to, i.e. given $N$ we define $Z \\sim \\text{binom}(50-N,1/2)$ as the number of correctly guessed answers. Define $Y = N + Z$, i.e., $Y$ represents the number of total correct answers.\n",
    "\n",
    "We are interested in setting a deterministic threshold $T$, i.e., we would pass a student at threshold $T$ if $Y \\geq T$. Here $T \\in \\{0,1,2,\\ldots,50\\}$.\n",
    "\n",
    "1. [3p] Produce a simulation of $1000$ students. Hint: Simulate $N$ first then simulate $Y \\mid N$ and add the results. Numpy has `numpy.random.binomial` which you can simulate from.\n",
    "2. [3p] For each threshold $T$, produce a simulation as above and estimate the probability that the student *knows* less than $40$ correct answers given that the student passed, i.e., $N < 40$. Put the answer in `problem11_probabilities` as a list.\n",
    "3. [2p] What is the smallest value of $T$ such that if $Y \\geq T$ then we are 90\\% certain that $N \\geq 40$?"
   ]
  },
  {
   "cell_type": "code",
   "execution_count": 121,
   "id": "872084e8",
   "metadata": {
    "deletable": false,
    "lx_assignment_number": "vB",
    "lx_assignment_type": "EXAM",
    "lx_assignment_type2print": "Exam",
    "lx_problem_cell_type": "PROBLEM",
    "lx_problem_number": "1",
    "lx_problem_points": "8"
   },
   "outputs": [
    {
     "name": "stdout",
     "output_type": "stream",
     "text": [
      "[47 44 48 48 42 43 47 42 38 46 47 45 46 47 48 44 45 48 44 44 46 44 43 46\n",
      " 46 46 48 46 43 48 46 45 44 43 44 43 46 48 42 45 46 45 44 47 46 48 47 42\n",
      " 47 48 44 45 46 48 46 46 42 45 46 44 43 45 43 43 48 44 45 45 44 46 45 44\n",
      " 44 42 41 47 46 45 45 47 44 47 45 46 47 45 47 44 45 46 42 45 42 44 44 45\n",
      " 48 44 40 44 44 46 44 44 46 43 47 43 47 44 47 46 46 44 47 45 39 42 45 49\n",
      " 45 43 48 47 45 42 48 40 41 44 47 45 48 46 48 48 49 45 44 46 42 49 45 49\n",
      " 46 46 40 46 44 49 40 45 47 45 47 46 46 48 49 43 45 48 49 45 45 41 46 47\n",
      " 45 45 45 43 44 45 43 49 44 44 44 47 47 49 47 47 47 46 45 41 47 46 43 46\n",
      " 46 40 42 43 48 47 45 45 46 46 43 45 43 45 46 47 46 43 44 48 44 45 45 45\n",
      " 44 45 46 46 47 44 44 41 43 45 44 44 43 46 41 47 46 39 46 48 44 46 45 46\n",
      " 46 43 43 46 44 42 41 46 48 45 48 45 45 42 48 44 46 42 47 38 44 47 43 46\n",
      " 44 48 41 48 43 41 47 43 43 47 47 45 48 47 47 44 44 44 44 46 47 46 44 43\n",
      " 47 46 44 45 47 42 42 45 46 44 46 45 45 48 45 42 47 45 47 48 42 48 44 49\n",
      " 44 47 45 46 45 45 44 45 45 42 46 47 48 46 45 47 43 50 46 48 47 46 49 49\n",
      " 41 45 47 45 42 42 45 45 45 49 45 45 47 47 44 45 43 46 45 44 45 42 45 46\n",
      " 45 46 45 48 47 45 42 46 45 43 44 46 41 43 47 40 47 45 47 47 44 45 45 48\n",
      " 45 47 45 46 41 45 46 45 45 43 46 47 46 47 43 47 47 45 44 45 45 47 45 44\n",
      " 43 47 45 47 44 47 46 45 44 45 44 44 46 47 45 48 46 46 48 46 48 47 49 46\n",
      " 47 48 44 47 44 47 46 48 48 48 47 44 45 45 46 47 48 47 45 46 43 45 43 44\n",
      " 46 42 47 46 46 45 45 43 39 47 45 46 46 44 42 43 47 47 46 48 43 48 43 44\n",
      " 42 45 45 44 43 46 44 47 46 46 47 45 42 48 46 47 45 48 47 48 36 42 48 46\n",
      " 48 46 40 44 46 46 43 45 45 46 45 44 44 42 42 39 45 46 46 44 46 47 43 50\n",
      " 45 41 44 45 43 44 42 44 48 45 43 47 43 44 45 45 45 45 42 47 45 43 48 46\n",
      " 49 47 47 45 46 46 45 44 43 45 48 48 45 44 48 46 43 43 48 41 42 45 43 45\n",
      " 43 44 43 45 46 45 46 46 46 42 46 46 48 43 46 41 46 43 46 46 46 44 45 42\n",
      " 45 45 48 46 43 46 46 44 45 46 43 44 42 42 46 48 44 48 42 43 43 46 42 44\n",
      " 46 46 41 46 42 46 44 46 47 47 46 47 43 42 49 42 47 45 45 48 43 45 44 45\n",
      " 47 45 45 40 44 47 46 39 44 46 47 39 47 47 39 42 48 47 46 44 44 43 43 50\n",
      " 45 44 48 47 43 43 44 42 42 49 44 40 47 42 45 47 46 47 46 47 45 45 42 49\n",
      " 48 44 45 42 43 47 45 47 43 46 48 46 46 44 44 44 45 45 47 44 43 47 48 43\n",
      " 47 49 44 48 44 45 48 47 49 47 49 46 43 45 47 46 44 41 49 45 45 48 48 41\n",
      " 44 44 44 46 44 45 45 45 44 43 46 42 49 45 44 46 48 45 48 47 46 44 44 46\n",
      " 43 47 40 42 47 47 46 43 41 44 44 45 47 47 44 48 44 47 48 46 48 41 46 44\n",
      " 49 45 45 44 47 45 42 47 40 44 47 44 47 42 47 48 43 45 45 45 46 40 46 41\n",
      " 42 43 46 45 44 46 47 43 44 45 45 47 43 45 45 42 41 46 44 46 47 46 43 44\n",
      " 44 46 46 41 48 44 44 46 47 44 46 46 45 43 46 45 46 45 44 43 45 48 44 47\n",
      " 44 47 40 46 45 48 47 45 43 47 48 46 46 50 49 45 46 44 47 47 42 47 45 45\n",
      " 44 45 43 45 46 46 46 46 48 37 46 46 45 46 43 45 46 43 46 48 45 47 44 43\n",
      " 40 43 48 44 44 48 42 45 41 46 49 44 40 44 46 45 42 45 44 44 46 43 47 44\n",
      " 43 45 46 43 43 45 42 45 45 48 47 45 46 48 43 43 44 41 47 45 49 42 45 46\n",
      " 46 46 47 48 40 44 44 43 41 47 46 44 46 39 47 43 48 47 46 47 43 45 40 47\n",
      " 46 45 43 47 48 46 45 46 45 46 44 38 47 48 43 45]\n"
     ]
    }
   ],
   "source": [
    "import numpy as np\n",
    "\n",
    "# Part 1:\n",
    "\n",
    "# Generate N array with known correct answers for each student\n",
    "N = np.random.binomial(50, 0.8, size=1000)\n",
    "\n",
    "# Create array with the number of unknown answers (to be guessed) for each student, based on above\n",
    "n_unknown = np.full(shape=N.shape, fill_value=50) - N\n",
    "\n",
    "# Generate Z array with simulated number of correct guesses on remaining questions\n",
    "Z = []\n",
    "for n in n_unknown:\n",
    "    nb_correct_guesses = np.random.binomial(n, 0.5, size=1)\n",
    "    Z.append(nb_correct_guesses[0])\n",
    "    \n",
    "Z = np.array(Z)\n",
    "\n",
    "# Create Y array by adding results\n",
    "Y = N + Z\n",
    "\n",
    "problem1_1000_samples = Y\n",
    "print(problem1_1000_samples)"
   ]
  },
  {
   "cell_type": "code",
   "execution_count": 30,
   "id": "83fc1ba0",
   "metadata": {
    "deletable": false,
    "lx_assignment_number": "vB",
    "lx_assignment_type": "EXAM",
    "lx_assignment_type2print": "Exam",
    "lx_problem_cell_type": "PROBLEM",
    "lx_problem_number": "1",
    "lx_problem_points": "8"
   },
   "outputs": [],
   "source": [
    "\n",
    "# Part 2: \n",
    "# replace XXX to represent P(N < 40) for T = [0,1,2,...,50], i.e. your answer should be a list\n",
    "# of length 51.\n",
    "\n",
    "# Generate threshold values and create empty list to store probabilities\n",
    "T_list = list(range(51))\n",
    "proba_list = []\n",
    "\n",
    "# Iterate through all T values\n",
    "for t in T_list:\n",
    "    \n",
    "    # Run the same simulation as above\n",
    "    N = np.random.binomial(50, 0.8, size=1000)\n",
    "    n_unknown = np.full(shape=N.shape, fill_value=50) - N\n",
    "\n",
    "    Z = []\n",
    "    for n in n_unknown:\n",
    "        nb_correct_guesses = np.random.binomial(n, 0.5, size=1)\n",
    "        Z.append(nb_correct_guesses[0])\n",
    "    \n",
    "    Z = np.array(Z)\n",
    "    Y = N + Z\n",
    "    \n",
    "    # Put the Y and N values together\n",
    "    Y_N_comb = np.column_stack((Y, N))\n",
    "    \n",
    "    # Count all the students that meet the criteria of N < 40 given they passed\n",
    "    meets_condition = 0\n",
    "    for student in Y_N_comb:\n",
    "        if student[0] >= t and student[1] < 40:\n",
    "            meets_condition += 1\n",
    "            \n",
    "    proba_list.append(meets_condition / 1000)\n",
    "\n",
    "problem1_probabilities = proba_list"
   ]
  },
  {
   "cell_type": "code",
   "execution_count": 119,
   "id": "10226bf4",
   "metadata": {},
   "outputs": [
    {
     "name": "stdout",
     "output_type": "stream",
     "text": [
      "[0.415, 0.43, 0.404, 0.399, 0.425, 0.403, 0.42, 0.401, 0.402, 0.428, 0.424, 0.4, 0.423, 0.409, 0.437, 0.418, 0.424, 0.422, 0.422, 0.425, 0.418, 0.391, 0.421, 0.411, 0.405, 0.432, 0.399, 0.389, 0.437, 0.41, 0.426, 0.411, 0.395, 0.415, 0.433, 0.415, 0.425, 0.41, 0.424, 0.404, 0.402, 0.384, 0.348, 0.302, 0.24, 0.143, 0.066, 0.029, 0.001, 0.002, 0.0]\n"
     ]
    }
   ],
   "source": [
    "print(problem1_probabilities)"
   ]
  },
  {
   "cell_type": "code",
   "execution_count": 120,
   "id": "bbd49def",
   "metadata": {
    "deletable": false,
    "lx_assignment_number": "vB",
    "lx_assignment_type": "EXAM",
    "lx_assignment_type2print": "Exam",
    "lx_problem_cell_type": "PROBLEM",
    "lx_problem_number": "1",
    "lx_problem_points": "8"
   },
   "outputs": [
    {
     "name": "stdout",
     "output_type": "stream",
     "text": [
      "46 47\n"
     ]
    }
   ],
   "source": [
    "\n",
    "# Part 3: Give an integer between 0 and 50 which is the answer to 2.\n",
    "\n",
    "from Utils import epsilon_bounded\n",
    "\n",
    "# Take the complement of the probabilities above\n",
    "proba_array = np.array(proba_list)\n",
    "proba_complement = np.ones(shape=proba_array.shape) - proba_array\n",
    "\n",
    "# Find the first element with probability at least 0.9\n",
    "required_T = np.argmax(proba_complement >= 0.9)\n",
    "\n",
    "problem1_T = required_T\n",
    "\n",
    "# NOTE: Doing the confidence interval not required\n",
    "\n",
    "# Calculate epsilon using Hoeffdings and subtract this from every probability in the array\n",
    "epsilon = epsilon_bounded(1000, 1, 0.1)\n",
    "proba_array_conf = proba_complement - epsilon\n",
    "with_conf = np.argmax(np.array(proba_array_conf) >= 0.9)\n",
    "\n",
    "print(problem1_T, with_conf)"
   ]
  },
  {
   "cell_type": "markdown",
   "id": "259626d8",
   "metadata": {
    "deletable": false,
    "lx_assignment_number": "vB",
    "lx_assignment_type": "EXAM",
    "lx_assignment_type2print": "Exam",
    "lx_problem_cell_type": "PROBLEM",
    "lx_problem_number": "2",
    "lx_problem_points": "8"
   },
   "source": [
    "---\n",
    "## Exam vB, PROBLEM 2\n",
    "Maximum Points = 8"
   ]
  },
  {
   "cell_type": "markdown",
   "id": "a642f6a6",
   "metadata": {
    "deletable": false,
    "lx_assignment_number": "vB",
    "lx_assignment_type": "EXAM",
    "lx_assignment_type2print": "Exam",
    "lx_problem_cell_type": "PROBLEM",
    "lx_problem_number": "2",
    "lx_problem_points": "8"
   },
   "source": [
    "\n",
    "In many areas of data science and machine learning we need to produce random samples in different ways. This can be done to compute difficult integrals or validate algorithms. \n",
    "\n",
    "1. [2p] Produce 1000 samples from the distribution below using inversion sampling\n",
    "$$\n",
    "    F[x] = \n",
    "    \\begin{cases}\n",
    "        0, & x \\leq 0 \\\\\n",
    "        \\sin(x), & 0 < x < \\pi/2 \\\\\n",
    "        1, & x \\geq \\pi/2\n",
    "    \\end{cases}\n",
    "$$\n",
    "and show your result with a histogram \"You can use sagemath function `histogram`, or `matplotlib.pyplot` `hist`\". Also what is the true density? Provide a plot of the true density between 0 and $\\pi/2$.\n",
    "2. [3p] Consider a random variable $X \\sim F$ sampled from distribution $F$. Your goal is to estimate $E[X]$. Do this by producing 1000 different experiments, each sampling 1000 samples from $X$ and compute the empirical mean. Provide the $0.025$ and the $0.975$ quantile of the experiments.\n",
    "3. [3p] Use Hoeffdings inequality to produce a 95% confidence interval for the estimated mean above?"
   ]
  },
  {
   "cell_type": "code",
   "execution_count": 122,
   "id": "ed289d6c",
   "metadata": {
    "deletable": false,
    "lx_assignment_number": "vB",
    "lx_assignment_type": "EXAM",
    "lx_assignment_type2print": "Exam",
    "lx_problem_cell_type": "PROBLEM",
    "lx_problem_number": "2",
    "lx_problem_points": "8"
   },
   "outputs": [],
   "source": [
    "# put your samples in the variable samples\n",
    "\n",
    "# Generate random uniform sequence\n",
    "U = np.random.uniform(size=10000)\n",
    "\n",
    "# Do the inverse sampling by taking the inverse of F(x) and passing in U as arguments\n",
    "# NOTE: This will generate a density function, not a distribution function\n",
    "F_inv = []\n",
    "for sample in U:\n",
    "    if sample <= 0:\n",
    "        F_inv.append(0)\n",
    "    elif sample > 0 and sample < np.pi / 2:\n",
    "        F_inv.append(np.arcsin(sample))\n",
    "    else:\n",
    "        F_inv.append(1)"
   ]
  },
  {
   "cell_type": "code",
   "execution_count": 123,
   "id": "f6a292b1",
   "metadata": {},
   "outputs": [
    {
     "data": {
      "image/png": "[encoded data removed]",
      "text/plain": [
       "<Figure size 640x480 with 1 Axes>"
      ]
     },
     "metadata": {},
     "output_type": "display_data"
    },
    {
     "data": {
      "image/png": "[encoded data removed]",
      "text/plain": [
       "<Figure size 640x480 with 1 Axes>"
      ]
     },
     "metadata": {},
     "output_type": "display_data"
    }
   ],
   "source": [
    "import matplotlib.pyplot as plt\n",
    "\n",
    "# Plot the inverse sampled values, f^(-1)\n",
    "plt.hist(F_inv, bins=25)\n",
    "plt.show()\n",
    "\n",
    "# Generate the true distribution and compare\n",
    "\n",
    "# Values for which f(x) is defined \n",
    "f_true_input = np.linspace(0, np.pi / 2, 100)\n",
    "\n",
    "# True density function; note that this is the derivative of F(X), hence cos(x) instead of sin(x)\n",
    "f_true = [np.cos(i) for i in f_true_input]\n",
    "\n",
    "# Plot the true density\n",
    "plt.plot(f_true_input, f_true)\n",
    "plt.show()"
   ]
  },
  {
   "cell_type": "code",
   "execution_count": 124,
   "id": "9c83aeb4",
   "metadata": {},
   "outputs": [
    {
     "data": {
      "image/png": "[encoded data removed]",
      "text/plain": [
       "<Figure size 640x480 with 1 Axes>"
      ]
     },
     "metadata": {},
     "output_type": "display_data"
    }
   ],
   "source": [
    "# The cumulative distribution function is sin(x) for the values in f^(-1)\n",
    "F_true = [np.sin(i) for i in F_inv]\n",
    "plt.plot(np.cumsum(f_true))\n",
    "plt.show()"
   ]
  },
  {
   "cell_type": "code",
   "execution_count": 128,
   "id": "474d50da",
   "metadata": {
    "deletable": false,
    "lx_assignment_number": "vB",
    "lx_assignment_type": "EXAM",
    "lx_assignment_type2print": "Exam",
    "lx_problem_cell_type": "PROBLEM",
    "lx_problem_number": "2",
    "lx_problem_points": "8"
   },
   "outputs": [
    {
     "name": "stdout",
     "output_type": "stream",
     "text": [
      "0.5465302212384794 0.593740231398576\n"
     ]
    }
   ],
   "source": [
    "# Produce 1000 experiments, in which each experiment you draw\n",
    "# 1000 samples from F. Store the value of the empirical mean of each\n",
    "# experiment and compute the 0.025 and the 0.975 quantiles\n",
    "\n",
    "# Create list to store mean values\n",
    "empirical_means = []\n",
    "samples = []\n",
    "\n",
    "# Run 1000 expirements\n",
    "for i in range(1000):\n",
    "    \n",
    "    # Generate 1000 samples\n",
    "    outcomes = np.random.choice(F_inv, size=1000)\n",
    "    samples.append(outcomes)\n",
    "    \n",
    "    # Compute the empirical mean and append\n",
    "    empirical_means.append(np.mean(outcomes))\n",
    "\n",
    "means = empirical_means # the computed empirical means, should be a list of length 1000\n",
    "quantile_0025 = np.quantile(means, 0.025) # the 0.025 quantile\n",
    "quantile_0975 = np.quantile(means, 0.975) # the 0.975 quantile\n",
    "\n",
    "print(quantile_0025, quantile_0975)"
   ]
  },
  {
   "cell_type": "code",
   "execution_count": 127,
   "id": "cbc7f94a",
   "metadata": {},
   "outputs": [
    {
     "data": {
      "image/png": "[encoded data removed]",
      "text/plain": [
       "<Figure size 640x480 with 1 Axes>"
      ]
     },
     "metadata": {},
     "output_type": "display_data"
    }
   ],
   "source": [
    "# Plot distribution of means\n",
    "\n",
    "plt.hist(empirical_means, bins=50)\n",
    "plt.show()"
   ]
  },
  {
   "cell_type": "code",
   "execution_count": 129,
   "id": "38f061fa",
   "metadata": {
    "deletable": false,
    "lx_assignment_number": "vB",
    "lx_assignment_type": "EXAM",
    "lx_assignment_type2print": "Exam",
    "lx_problem_cell_type": "PROBLEM",
    "lx_problem_number": "2",
    "lx_problem_points": "8"
   },
   "outputs": [
    {
     "name": "stdout",
     "output_type": "stream",
     "text": [
      "Confidence interval around the mean is [0.50,0.64]\n"
     ]
    }
   ],
   "source": [
    "# Assuming that we want a confidence interval around the mean of means\n",
    "mean_of_means = np.mean(means)\n",
    "\n",
    "# Calculate the epsilon to be used\n",
    "epsilon_2 = epsilon_bounded(1000, np.pi / 2, 0.05)\n",
    "lower, upper = mean_of_means - epsilon_2, mean_of_means + epsilon_2 \n",
    "\n",
    "# Put your interval in the form\n",
    "l_edge = lower # The left edge of the interval\n",
    "r_edge = upper # The right edge of the interval\n",
    "print(\"Confidence interval around the mean is [%.2f,%.2f]\" % (l_edge,r_edge))"
   ]
  },
  {
   "cell_type": "markdown",
   "id": "d7a07409",
   "metadata": {
    "deletable": false,
    "lx_assignment_number": "vB",
    "lx_assignment_type": "EXAM",
    "lx_assignment_type2print": "Exam",
    "lx_problem_cell_type": "PROBLEM",
    "lx_problem_number": "3",
    "lx_problem_points": "8"
   },
   "source": [
    "---\n",
    "## Exam vB, PROBLEM 3\n",
    "Maximum Points = 8"
   ]
  },
  {
   "cell_type": "markdown",
   "id": "5bad853a",
   "metadata": {
    "deletable": false,
    "lx_assignment_number": "vB",
    "lx_assignment_type": "EXAM",
    "lx_assignment_type2print": "Exam",
    "lx_problem_cell_type": "PROBLEM",
    "lx_problem_number": "3",
    "lx_problem_points": "8"
   },
   "source": [
    "\n",
    "## Concentration of measure\n",
    "\n",
    "As you recall, we said that concentration of measure was simply the phenomenon where we expect that the probability of a large deviation of some quantity becoming smaller as we observe more samples: [8/22 points per correct answer]\n",
    "\n",
    "1. Which of the following will exponentially concentrate, i.e. for some $C_1,C_2,C_3,C_4 $ \n",
    "$$\n",
    "    P(Z - \\mathbb{E}[Z] \\geq \\epsilon) \\leq C_1 e^{-C_2 n \\epsilon^2} \\wedge C_3 e^{-C_4 n (\\epsilon+1)} \\enspace .\n",
    "$$\n",
    "\n",
    "    1. The empirical mean of i.i.d. sub-Gaussian random variables?\n",
    "    2. The empirical mean of i.i.d. sub-Exponential random variables?\n",
    "    3. The empirical mean of i.i.d. bounded random variables?\n",
    "    4. The empirical variance of i.i.d. bounded random variables?\n",
    "    5. The empirical mean of i.i.d. random variables with finite variance?\n",
    "    6. The empirical variance of i.i.d. random variables with finite variance?\n",
    "    7. The empirical variance of i.i.d. sub-Gaussian random variables?\n",
    "    8. The empirical third moment of i.i.d. bounded random variables?\n",
    "    9. The empirical fourth moment of i.i.d. sub-Gaussian random variables?\n",
    "    10. The empirical mean of i.i.d. deterministic random variables?\n",
    "    11. The empirical tenth moment of i.i.d. Bernoulli random variables?\n",
    "\n",
    "2. Which of the above will concentrate in the weaker sense, that for some $C_1$\n",
    "$$\n",
    "    P(Z - \\mathbb{E}[Z] \\geq \\epsilon) \\leq \\frac{C_1}{n \\epsilon^2}?\n",
    "$$"
   ]
  },
  {
   "cell_type": "code",
   "execution_count": null,
   "id": "dbed4c02",
   "metadata": {
    "deletable": false,
    "lx_assignment_number": "vB",
    "lx_assignment_type": "EXAM",
    "lx_assignment_type2print": "Exam",
    "lx_problem_cell_type": "PROBLEM",
    "lx_problem_number": "3",
    "lx_problem_points": "8"
   },
   "outputs": [],
   "source": [
    "\n",
    "# Answers to part 1, which of the alternatives exponentially concentrate, answer as a list\n",
    "# i.e. [1,4,5] that is example 1, 4, and 5 concentrate\n",
    "problem3_answer_1 = [1, 2, 3, 4, 7, 10, 11]"
   ]
  },
  {
   "cell_type": "markdown",
   "id": "0124f052",
   "metadata": {},
   "source": [
    "A. Exponentially concentrated by Theorem 3.13\n",
    "<br><br>\n",
    "B. Exponentially concentrated by Theorem 3.14\n",
    "<br><br>\n",
    "C. By Lemma 3.15, a bounded RV is sub-Gaussian, so 3.13 applies\n",
    "<br><br>\n",
    "D. The variance of a sub-Gaussian RV is sub-exponential, by Lemma 3.15\n",
    "<br><br>\n",
    "E. Finite variance is not strict enough for exponential concentration to hold\n",
    "<br><br>\n",
    "F. Same as E\n",
    "<br><br>\n",
    "G. The variance of a sub-Gaussian RV is sub-exponential\n",
    "<br><br>\n",
    "H. For the third moment and higher, the exponential concentration property does not hold\n",
    "<br><br>\n",
    "I. Same as H\n",
    "<br><br>\n",
    "J. This RV will only take one value, so it's \"already concentrated\"\n",
    "<br><br>\n",
    "K. Bernoulli is a bounded RV, hence it's sub-Gaussian. Due to it's stricter properties, e.g. bounded variance, it seems all moments exponentially concentrate"
   ]
  },
  {
   "cell_type": "code",
   "execution_count": null,
   "id": "a7ba25d1",
   "metadata": {
    "deletable": false,
    "lx_assignment_number": "vB",
    "lx_assignment_type": "EXAM",
    "lx_assignment_type2print": "Exam",
    "lx_problem_cell_type": "PROBLEM",
    "lx_problem_number": "3",
    "lx_problem_points": "8"
   },
   "outputs": [],
   "source": [
    "\n",
    "# Answers to part 2, which of the alternatives concentrate in the weaker sense, answer as a list\n",
    "# i.e. [1,4,5] that is example 1, 4, and 5 concentrate\n",
    "problem3_answer_2 = [1, 2, 3, 4, 5, 7, 8, 9, 10, 11]"
   ]
  },
  {
   "cell_type": "markdown",
   "id": "1d053fea",
   "metadata": {},
   "source": [
    "All statistics that exponentially concentrate will also concentrate in the weaker sense. \n",
    "<br><br>\n",
    "E. Any RV will be concentrated in this sense (Chebychev's theorem). However, does not apply to their other moments (F).\n",
    "<br><br>\n",
    "All moments of a sub-Gaussian RV seem to concentrate. That does not seem to be true for sub-exponential RVs, except for the empirical mean."
   ]
  },
  {
   "cell_type": "markdown",
   "id": "3bd58e84",
   "metadata": {
    "deletable": false,
    "lx_assignment_number": "vB",
    "lx_assignment_type": "EXAM",
    "lx_assignment_type2print": "Exam",
    "lx_problem_cell_type": "PROBLEM",
    "lx_problem_number": "4",
    "lx_problem_points": "8"
   },
   "source": [
    "---\n",
    "## Exam vB, PROBLEM 4\n",
    "Maximum Points = 8"
   ]
  },
  {
   "cell_type": "markdown",
   "id": "395b774f",
   "metadata": {
    "deletable": false,
    "lx_assignment_number": "vB",
    "lx_assignment_type": "EXAM",
    "lx_assignment_type2print": "Exam",
    "lx_problem_cell_type": "PROBLEM",
    "lx_problem_number": "4",
    "lx_problem_points": "8"
   },
   "source": [
    "\n",
    "In this problem you will be working with a text file `a_sequence.txt`, found in the `data` folder. This contains a sequence of numbers that are observations of a Markov chain. The goal of this exercise is to analyze this sequence in different ways.\n",
    "\n",
    "1. [2p] Take the file `a_sequence.txt` and load it as a list of integers. Use bash or something to figure out how to parse the file.\n",
    "2. [2p] Define a Markov chain from this list of integers\n",
    "    1. What are the states?\n",
    "    2. How many states are there?\n",
    "3. [2p] Estimate the transition probability of going from state 42 to state 16?\n",
    "4. [2p] Find the transition matrix $P$ and compute the matrix power $P^{10} v$ where $v = (1,0,\\ldots,0)$."
   ]
  },
  {
   "cell_type": "code",
   "execution_count": 283,
   "id": "6153c828",
   "metadata": {
    "deletable": false,
    "lx_assignment_number": "vB",
    "lx_assignment_type": "EXAM",
    "lx_assignment_type2print": "Exam",
    "lx_problem_cell_type": "PROBLEM",
    "lx_problem_number": "4",
    "lx_problem_points": "8"
   },
   "outputs": [
    {
     "name": "stdout",
     "output_type": "stream",
     "text": [
      "10000\n",
      "[0, 60, 42, 16, 9, 20, 7, 66, 86, 33, 94, 19, 72, 93, 51, 93, 86, 10, 90, 65]\n"
     ]
    }
   ],
   "source": [
    "\n",
    "# Read the file a_sequence.txt and load it as a list of integers. \n",
    "# Put your result in the variable \"numbers\"\n",
    "\n",
    "with open(\"data/a_sequence.txt\", mode=\"r\") as file:\n",
    "    numbers = file.readlines()\n",
    "\n",
    "numbers = numbers[0].split(\" \")\n",
    "numbers = [int(nb) for nb in numbers]\n",
    "\n",
    "print(len(numbers))\n",
    "print(numbers[:20])"
   ]
  },
  {
   "cell_type": "code",
   "execution_count": null,
   "id": "df7724d4",
   "metadata": {
    "deletable": false,
    "lx_assignment_number": "vB",
    "lx_assignment_type": "EXAM",
    "lx_assignment_type2print": "Exam",
    "lx_problem_cell_type": "PROBLEM",
    "lx_problem_number": "4",
    "lx_problem_points": "8"
   },
   "outputs": [],
   "source": [
    "\n",
    "# Construct a Markov chain of this list of integers, that is. \n",
    "# EXPLAIN in text what are the states are and what \n",
    "# the transition probabilities mean.\n",
    "\n",
    "#---------Put your explanation between the lines-------------\n",
    "\n",
    "# The states are represented by different integers between 0 and 99\n",
    "# Each state is a realization of the random variable X_t, such that\n",
    "# X_t = mu_i\n",
    "# The transition probabilities describe the probabilities of\n",
    "# transitioning between all possible combinations of states.\n",
    "# For example, the probability that state 5 is followed by state 23,\n",
    "# that is, X_t = 5 and X_t+1 = 23.\n",
    "\n",
    "#------------------------------------------------------------"
   ]
  },
  {
   "cell_type": "code",
   "execution_count": 284,
   "id": "4c06adc8",
   "metadata": {
    "deletable": false,
    "lx_assignment_number": "vB",
    "lx_assignment_type": "EXAM",
    "lx_assignment_type2print": "Exam",
    "lx_problem_cell_type": "PROBLEM",
    "lx_problem_number": "4",
    "lx_problem_points": "8"
   },
   "outputs": [
    {
     "name": "stdout",
     "output_type": "stream",
     "text": [
      "100\n",
      "[0, 1, 2, 3, 4, 5, 6, 7, 8, 9, 10, 11, 12, 13, 14, 15, 16, 17, 18, 19, 20, 21, 22, 23, 24, 25, 26, 27, 28, 29, 30, 31, 32, 33, 34, 35, 36, 37, 38, 39, 40, 41, 42, 43, 44, 45, 46, 47, 48, 49, 50, 51, 52, 53, 54, 55, 56, 57, 58, 59, 60, 61, 62, 63, 64, 65, 66, 67, 68, 69, 70, 71, 72, 73, 74, 75, 76, 77, 78, 79, 80, 81, 82, 83, 84, 85, 86, 87, 88, 89, 90, 91, 92, 93, 94, 95, 96, 97, 98, 99]\n"
     ]
    }
   ],
   "source": [
    "# put the number of states in the variable n_states\n",
    "\n",
    "n_states = len(set(numbers))\n",
    "\n",
    "# Now fill in the states, stored as a sorted list of integers\n",
    "states = list(sorted(set(numbers)))\n",
    "\n",
    "print(n_states)\n",
    "print(states)"
   ]
  },
  {
   "cell_type": "code",
   "execution_count": null,
   "id": "bdff38d7",
   "metadata": {
    "deletable": false,
    "lx_assignment_number": "vB",
    "lx_assignment_type": "EXAM",
    "lx_assignment_type2print": "Exam",
    "lx_problem_cell_type": "PROBLEM",
    "lx_problem_number": "4",
    "lx_problem_points": "8"
   },
   "outputs": [],
   "source": [
    "# Estimate the transition probability of going from $42$ to $16$. \n",
    "# You can use the below function if you want"
   ]
  },
  {
   "cell_type": "code",
   "execution_count": 285,
   "id": "cb2729a1",
   "metadata": {
    "deletable": false,
    "lx_assignment_number": "vB",
    "lx_assignment_type": "EXAM",
    "lx_assignment_type2print": "Exam",
    "lx_problem_cell_type": "PROBLEM",
    "lx_problem_number": "4",
    "lx_problem_points": "8"
   },
   "outputs": [],
   "source": [
    "def makeFreqDict(myDataSeq, one = int(1)):\n",
    "    '''Make a frequency mapping out of a sequence of data - list, array, str.\n",
    "\n",
    "    Param myDataList, a list of data.\n",
    "    Return a dictionary mapping each unique data value to its frequency count.'''\n",
    "\n",
    "    freqDict = {} # start with an empty dictionary\n",
    "\n",
    "    for res in myDataSeq:\n",
    "\n",
    "        if res in freqDict: # the data value already exists as a key\n",
    "                freqDict[res] = freqDict[res] + one #int(1) # add 1 to the count\n",
    "        else: # the data value does not exist as a key value\n",
    "            # add a new key-value pair for this new data value, frequency 1\n",
    "            freqDict[res] = one\n",
    "\n",
    "    return freqDict # return the dictionary created"
   ]
  },
  {
   "cell_type": "code",
   "execution_count": 286,
   "id": "b530caad",
   "metadata": {},
   "outputs": [],
   "source": [
    "transitions = []\n",
    "\n",
    "for i in range(len(numbers) - 1):\n",
    "    transitions.append((numbers[i], numbers[i + 1]))"
   ]
  },
  {
   "cell_type": "code",
   "execution_count": 287,
   "id": "8ce203c4",
   "metadata": {},
   "outputs": [
    {
     "name": "stdout",
     "output_type": "stream",
     "text": [
      "[(0, 60), (60, 42), (42, 16), (16, 9), (9, 20), (20, 7), (7, 66), (66, 86), (86, 33), (33, 94)]\n"
     ]
    }
   ],
   "source": [
    "print(transitions[:10])"
   ]
  },
  {
   "cell_type": "code",
   "execution_count": 288,
   "id": "0e1c7a80",
   "metadata": {},
   "outputs": [],
   "source": [
    "# Create a transition matrix, since we have 100 states we will have a 100x100 dimensioned matrix\n",
    "transition_matrix = np.zeros(shape=(100, 100))\n",
    "\n",
    "# Count frequences that the transitions occur \n",
    "freq_list = makeFreqDict(transitions)"
   ]
  },
  {
   "cell_type": "code",
   "execution_count": null,
   "id": "6eae370b",
   "metadata": {},
   "outputs": [],
   "source": [
    "# Add counts to the transition matrix\n",
    "for i in range(100):\n",
    "    for j in range(100):\n",
    "        if (i, j) in freq_list:\n",
    "            transition_matrix[i, j] = freq_list[(i, j)]\n",
    "        else:\n",
    "            transition_matrix[i, j] = 0\n",
    "\n",
    "# Divide each count by the row sum, to get probabilities betwee 0-1 summing up to 1\n",
    "for i in range(100):\n",
    "    transition_matrix[i, :]= transition_matrix[i, :] / np.sum(transition_matrix[i, :])\n",
    "\n",
    "# Estimate the transition probability of going from 42 to 16.\n",
    "# Put your answer here for the transition probability\n",
    "transition_probability = transition_matrix[42, 16]\n",
    "\n",
    "print(transition_probability)"
   ]
  },
  {
   "cell_type": "code",
   "execution_count": 274,
   "id": "21d5ea17",
   "metadata": {},
   "outputs": [
    {
     "name": "stdout",
     "output_type": "stream",
     "text": [
      "{(0, 60): 3, (60, 42): 2, (42, 16): 4, (16, 9): 3, (9, 20): 2, (20, 7): 4, (7, 66): 2, (66, 86): 2, (86, 33): 1, (33, 94): 1, (94, 19): 1, (19, 72): 1, (72, 93): 3, (93, 51): 1, (51, 93): 2, (93, 86): 2, (86, 10): 5, (10, 90): 2, (90, 65): 4, (65, 52): 1, (52, 97): 2, (97, 26): 2, (26, 68): 1, (68, 58): 2, (58, 56): 2, (56, 52): 1, (52, 45): 3, (45, 84): 4, (84, 78): 4, (78, 55): 2, (55, 12): 1, (12, 69): 3, (69, 17): 3, (17, 67): 3, (67, 38): 1, (38, 71): 2, (71, 90): 2, (90, 96): 1, (96, 44): 2, (44, 39): 2, (39, 6): 2, (6, 41): 1, (41, 39): 3, (39, 21): 2, (21, 27): 2, (27, 65): 1, (65, 59): 1, (59, 88): 4, (88, 76): 3, (76, 2): 1, (2, 1): 1, (1, 1): 1, (1, 97): 4, (97, 16): 2, (16, 81): 4, (81, 28): 1, (28, 68): 2, (68, 73): 2, (73, 76): 1, (76, 11): 2, (11, 25): 2, (25, 86): 4, (86, 83): 2, (83, 59): 4, (59, 50): 3, (50, 61): 1, (61, 24): 1, (24, 55): 2, (55, 13): 3, (13, 78): 1, (78, 35): 3, (35, 74): 5, (74, 60): 2, (60, 24): 3, (24, 90): 2, (90, 44): 3, (44, 36): 2, (36, 65): 1, (65, 15): 1, (15, 76): 2, (76, 38): 2, (38, 5): 3, (5, 97): 3, (97, 76): 2, (76, 65): 3, (65, 43): 3, (43, 85): 2, (85, 4): 3, (4, 93): 2, (93, 73): 2, (73, 4): 3, (4, 95): 1, (95, 67): 4, (67, 2): 3, (2, 42): 1, (42, 24): 1, (24, 91): 1, (91, 61): 1, (61, 4): 2, (4, 35): 1, (35, 67): 2, (67, 32): 1, (32, 14): 2, (14, 33): 1, (33, 97): 3, (97, 11): 5, (11, 0): 3, (0, 98): 3, (98, 63): 2, (63, 67): 1, (67, 79): 2, (79, 7): 1, (7, 46): 2, (46, 69): 4, (69, 4): 1, (4, 25): 1, (25, 42): 1, (16, 39): 5, (39, 84): 2, (84, 42): 2, (42, 34): 3, (34, 70): 2, (70, 67): 1, (67, 78): 3, (78, 43): 1, (43, 16): 1, (16, 15): 1, (15, 59): 1, (59, 49): 3, (49, 47): 1, (47, 35): 5, (35, 3): 3, (3, 46): 3, (46, 52): 2, (52, 66): 1, (66, 10): 3, (10, 46): 1, (46, 97): 3, (97, 48): 2, (48, 6): 2, (6, 29): 1, (29, 89): 2, (89, 29): 2, (29, 6): 1, (6, 99): 2, (99, 19): 3, (19, 42): 2, (42, 7): 2, (7, 43): 1, (43, 25): 1, (25, 28): 1, (28, 28): 5, (28, 37): 1, (37, 34): 1, (34, 25): 5, (25, 2): 3, (2, 73): 2, (73, 39): 2, (39, 55): 2, (55, 98): 2, (98, 20): 3, (20, 43): 3, (43, 95): 1, (95, 8): 5, (8, 62): 3, (62, 80): 1, (80, 80): 1, (80, 59): 2, (59, 78): 1, (78, 41): 1, (41, 95): 5, (95, 56): 2, (56, 95): 7, (95, 14): 5, (14, 46): 2, (46, 14): 1, (14, 87): 4, (87, 8): 3, (8, 66): 2, (66, 85): 2, (85, 14): 2, (14, 69): 4, (69, 6): 3, (6, 31): 1, (31, 14): 1, (69, 82): 3, (82, 87): 2, (87, 57): 1, (57, 84): 1, (84, 69): 2, (69, 60): 2, (60, 88): 1, (88, 2): 2, (2, 75): 3, (75, 19): 1, (19, 98): 1, (98, 5): 3, (5, 66): 1, (66, 1): 1, (1, 16): 1, (39, 96): 4, (96, 13): 3, (13, 91): 2, (91, 4): 1, (4, 71): 3, (71, 51): 3, (51, 26): 3, (26, 29): 1, (29, 7): 2, (7, 70): 1, (70, 76): 2, (76, 82): 3, (82, 15): 1, (15, 68): 2, (68, 1): 1, (1, 7): 1, (7, 51): 1, (51, 59): 1, (59, 0): 2, (0, 93): 4, (93, 26): 2, (26, 24): 1, (24, 20): 3, (20, 96): 2, (96, 5): 4, (5, 13): 2, (13, 58): 3, (58, 39): 3, (39, 87): 1, (87, 88): 3, (88, 83): 1, (83, 56): 1, (56, 41): 1, (41, 81): 1, (81, 59): 2, (59, 69): 1, (69, 21): 1, (21, 53): 2, (53, 55): 1, (55, 88): 1, (88, 21): 3, (21, 98): 1, (98, 82): 2, (82, 72): 1, (72, 12): 3, (12, 3): 1, (3, 91): 5, (91, 29): 1, (29, 45): 3, (45, 99): 2, (99, 43): 3, (43, 46): 1, (46, 6): 2, (6, 93): 2, (93, 62): 3, (62, 76): 2, (76, 4): 1, (4, 97): 3, (97, 56): 1, (56, 28): 2, (28, 88): 3, (88, 91): 3, (91, 17): 2, (17, 27): 3, (27, 17): 1, (17, 82): 1, (82, 11): 2, (11, 80): 2, (80, 33): 3, (33, 20): 2, (20, 92): 2, (92, 7): 1, (7, 63): 5, (63, 83): 5, (83, 34): 1, (34, 32): 3, (32, 57): 3, (57, 75): 4, (75, 64): 4, (64, 66): 1, (66, 57): 1, (57, 77): 6, (77, 3): 1, (3, 98): 1, (98, 25): 3, (25, 14): 1, (14, 0): 2, (0, 7): 1, (7, 93): 2, (93, 54): 5, (54, 41): 2, (41, 77): 1, (77, 91): 3, (91, 70): 1, (70, 36): 2, (36, 14): 3, (14, 78): 1, (78, 99): 2, (99, 22): 4, (22, 31): 2, (31, 22): 1, (22, 51): 3, (51, 76): 1, (76, 66): 4, (66, 21): 2, (21, 97): 1, (97, 90): 1, (90, 24): 4, (24, 56): 3, (8, 29): 3, (29, 71): 3, (71, 95): 4, (95, 59): 2, (59, 48): 4, (48, 30): 4, (30, 8): 2, (8, 42): 4, (42, 78): 6, (78, 82): 2, (82, 86): 5, (86, 63): 3, (63, 34): 4, (34, 42): 2, (42, 12): 5, (12, 87): 3, (87, 26): 2, (26, 44): 3, (44, 98): 5, (98, 76): 4, (76, 86): 3, (86, 31): 2, (31, 43): 2, (43, 17): 2, (17, 83): 2, (83, 83): 1, (83, 79): 3, (79, 41): 5, (41, 96): 3, (96, 6): 1, (6, 27): 3, (27, 64): 4, (64, 76): 2, (76, 62): 1, (62, 34): 1, (34, 46): 5, (46, 53): 1, (53, 30): 2, (30, 50): 2, (50, 14): 4, (14, 41): 5, (41, 10): 1, (10, 56): 2, (56, 92): 1, (92, 1): 1, (1, 38): 1, (38, 93): 2, (93, 9): 1, (9, 37): 3, (37, 14): 3, (14, 42): 1, (42, 83): 1, (83, 5): 3, (5, 59): 2, (59, 75): 1, (64, 19): 6, (19, 80): 1, (80, 75): 3, (75, 53): 3, (53, 79): 1, (79, 91): 4, (91, 57): 1, (57, 34): 2, (34, 43): 2, (43, 53): 1, (53, 5): 1, (5, 93): 3, (93, 41): 2, (41, 46): 3, (46, 98): 3, (98, 71): 2, (71, 30): 3, (30, 67): 6, (67, 21): 2, (21, 14): 2, (14, 6): 1, (6, 42): 3, (42, 21): 1, (21, 78): 2, (78, 62): 1, (62, 74): 1, (74, 12): 2, (12, 93): 2, (93, 27): 2, (27, 19): 2, (19, 94): 1, (94, 55): 2, (55, 91): 4, (91, 39): 2, (39, 41): 1, (41, 52): 1, (52, 96): 2, (96, 54): 2, (54, 55): 3, (55, 39): 2, (39, 76): 1, (76, 81): 2, (81, 17): 1, (17, 4): 2, (4, 46): 1, (46, 47): 2, (47, 38): 3, (38, 24): 3, (24, 98): 2, (76, 52): 2, (52, 15): 2, (15, 49): 2, (49, 40): 4, (40, 5): 1, (5, 58): 1, (39, 94): 3, (94, 45): 1, (45, 68): 5, (68, 40): 4, (40, 16): 2, (16, 98): 1, (98, 65): 3, (43, 74): 2, (74, 2): 2, (2, 50): 2, (50, 9): 1, (9, 26): 2, (26, 11): 1, (11, 92): 4, (92, 70): 1, (70, 18): 1, (18, 45): 3, (84, 38): 2, (38, 79): 4, (96, 52): 2, (52, 39): 3, (39, 68): 2, (68, 26): 1, (26, 17): 2, (17, 51): 1, (51, 67): 3, (67, 31): 2, (31, 89): 2, (89, 57): 1, (57, 37): 1, (37, 61): 2, (61, 59): 2, (48, 19): 4, (19, 95): 5, (95, 95): 2, (95, 36): 2, (36, 75): 2, (75, 30): 1, (30, 95): 4, (95, 20): 1, (20, 50): 4, (50, 2): 1, (2, 95): 3, (95, 48): 1, (48, 55): 1, (55, 68): 5, (68, 70): 1, (70, 35): 1, (35, 6): 1, (6, 68): 1, (68, 32): 3, (32, 49): 2, (40, 25): 4, (25, 32): 2, (32, 87): 1, (87, 94): 2, (94, 37): 2, (37, 3): 2, (3, 54): 3, (54, 62): 2, (62, 58): 1, (58, 73): 2, (73, 8): 2, (8, 76): 2, (76, 15): 3, (15, 92): 3, (92, 96): 2, (96, 82): 1, (82, 2): 4, (2, 71): 1, (71, 66): 3, (66, 36): 1, (36, 54): 1, (54, 60): 1, (60, 31): 1, (31, 77): 3, (77, 71): 3, (71, 61): 2, (61, 61): 4, (61, 92): 1, (92, 71): 2, (30, 19): 3, (19, 59): 3, (59, 15): 4, (15, 98): 2, (98, 1): 2, (1, 33): 3, (33, 79): 2, (79, 22): 3, (22, 23): 3, (23, 1): 3, (1, 28): 1, (28, 0): 1, (0, 72): 2, (72, 40): 7, (40, 89): 2, (89, 4): 3, (4, 63): 2, (63, 39): 2, (39, 43): 7, (43, 84): 1, (84, 57): 1, (57, 39): 3, (94, 6): 2, (6, 22): 1, (54, 53): 1, (53, 83): 2, (83, 25): 1, (25, 47): 3, (47, 7): 1, (7, 40): 2, (40, 23): 1, (23, 41): 1, (41, 41): 2, (41, 19): 2, (19, 51): 1, (51, 91): 2, (91, 9): 2, (9, 70): 1, (70, 92): 2, (92, 46): 3, (46, 55): 3, (55, 21): 4, (21, 86): 1, (86, 47): 4, (47, 61): 2, (61, 49): 4, (49, 95): 3, (95, 51): 2, (51, 57): 4, (75, 62): 2, (62, 87): 2, (87, 50): 1, (50, 81): 1, (81, 84): 2, (84, 15): 1, (73, 6): 3, (6, 76): 1, (76, 17): 1, (17, 78): 1, (78, 67): 2, (67, 54): 1, (54, 1): 2, (1, 83): 1, (83, 72): 2, (72, 65): 2, (65, 34): 3, (34, 17): 2, (17, 19): 1, (19, 91): 6, (91, 50): 4, (50, 56): 2, (56, 76): 1, (82, 21): 3, (21, 51): 1, (51, 77): 2, (77, 72): 3, (40, 3): 3, (3, 27): 2, (27, 59): 1, (59, 82): 2, (82, 47): 1, (47, 78): 1, (67, 6): 1, (6, 13): 2, (13, 53): 4, (53, 97): 2, (26, 99): 1, (99, 59): 1, (15, 7): 2, (7, 58): 1, (58, 23): 2, (23, 67): 2, (67, 74): 5, (74, 17): 3, (17, 32): 2, (32, 97): 2, (97, 19): 2, (19, 27): 2, (27, 25): 1, (25, 21): 4, (21, 6): 1, (6, 46): 5, (46, 95): 2, (95, 6): 3, (6, 25): 4, (25, 72): 4, (72, 77): 1, (77, 24): 3, (24, 88): 3, (88, 68): 2, (68, 89): 3, (89, 52): 1, (52, 30): 4, (30, 30): 1, (30, 80): 2, (80, 11): 1, (11, 78): 3, (78, 89): 1, (89, 70): 2, (70, 26): 2, (26, 15): 1, (15, 22): 2, (22, 46): 1, (11, 54): 2, (54, 46): 6, (46, 57): 4, (57, 28): 2, (28, 54): 2, (54, 15): 3, (49, 52): 3, (52, 63): 2, (63, 11): 3, (11, 33): 4, (33, 3): 3, (3, 33): 1, (33, 24): 2, (88, 49): 4, (49, 67): 3, (67, 42): 1, (42, 76): 3, (76, 20): 1, (20, 82): 2, (82, 18): 5, (18, 51): 3, (51, 3): 4, (3, 75): 4, (75, 47): 1, (47, 67): 2, (67, 17): 1, (17, 52): 1, (52, 48): 2, (48, 43): 2, (43, 30): 3, (95, 99): 2, (99, 8): 1, (8, 75): 2, (75, 49): 3, (49, 76): 2, (76, 73): 3, (73, 52): 1, (52, 99): 3, (99, 25): 2, (25, 29): 2, (29, 15): 1, (15, 34): 1, (25, 48): 4, (48, 42): 6, (42, 95): 1, (95, 29): 2, (29, 49): 6, (49, 29): 4, (29, 48): 2, (48, 23): 3, (23, 93): 2, (93, 98): 2, (98, 59): 3, (59, 60): 2, (60, 6): 1, (6, 86): 2, (86, 35): 1, (35, 71): 1, (71, 86): 2, (86, 94): 2, (94, 92): 2, (92, 11): 4, (11, 63): 2, (63, 19): 2, (19, 74): 1, (74, 93): 2, (54, 87): 1, (87, 19): 2, (8, 22): 2, (22, 27): 2, (27, 50): 3, (50, 20): 1, (20, 91): 2, (91, 88): 2, (88, 50): 1, (50, 52): 2, (52, 54): 2, (54, 6): 2, (86, 78): 1, (78, 49): 3, (49, 26): 2, (26, 5): 1, (5, 98): 2, (98, 85): 2, (85, 66): 2, (66, 93): 2, (93, 37): 1, (37, 11): 1, (11, 84): 2, (84, 23): 1, (23, 70): 1, (26, 53): 1, (53, 65): 4, (65, 82): 2, (2, 23): 3, (23, 96): 3, (96, 41): 2, (41, 57): 3, (75, 15): 2, (15, 83): 5, (83, 18): 2, (18, 53): 2, (53, 86): 1, (86, 8): 1, (8, 24): 2, (24, 95): 2, (95, 31): 1, (31, 7): 1, (7, 49): 1, (49, 32): 3, (32, 17): 1, (17, 70): 1, (70, 2): 2, (2, 51): 1, (51, 58): 1, (58, 40): 3, (40, 59): 3, (59, 5): 4, (5, 7): 2, (7, 44): 1, (44, 54): 1, (54, 47): 5, (47, 16): 5, (16, 46): 1, (46, 36): 1, (36, 28): 1, (28, 81): 3, (81, 65): 3, (65, 27): 1, (50, 78): 3, (78, 85): 1, (85, 32): 2, (32, 0): 3, (0, 68): 1, (68, 49): 4, (49, 56): 1, (56, 73): 2, (73, 36): 2, (36, 27): 4, (27, 27): 3, (27, 51): 2, (51, 71): 1, (71, 28): 1, (28, 1): 2, (1, 6): 2, (6, 37): 3, (37, 50): 2, (50, 36): 2, (36, 22): 3, (22, 82): 3, (82, 5): 1, (5, 54): 1, (54, 35): 1, (35, 33): 4, (33, 46): 1, (47, 73): 2, (73, 34): 1, (34, 51): 5, (51, 28): 2, (28, 86): 2, (86, 4): 2, (4, 0): 3, (0, 74): 1, (74, 98): 3, (25, 66): 4, (66, 19): 2, (19, 46): 1, (46, 73): 3, (73, 45): 2, (45, 76): 1, (76, 57): 2, (57, 76): 1, (57, 13): 1, (13, 29): 2, (29, 79): 1, (91, 55): 5, (55, 65): 2, (65, 14): 2, (0, 16): 1, (16, 75): 1, (75, 79): 1, (79, 89): 2, (89, 93): 1, (93, 14): 4, (14, 63): 2, (63, 99): 1, (99, 21): 1, (21, 52): 2, (52, 18): 2, (18, 3): 2, (3, 81): 1, (81, 21): 1, (21, 83): 1, (83, 13): 4, (13, 61): 4, (61, 80): 1, (80, 24): 2, (24, 39): 1, (94, 84): 3, (84, 74): 3, (74, 88): 4, (88, 57): 2, (57, 64): 4, (19, 92): 5, (92, 77): 1, (77, 86): 1, (86, 36): 3, (36, 36): 3, (36, 34): 2, (34, 55): 1, (55, 14): 3, (14, 53): 2, (53, 44): 1, (44, 20): 2, (20, 6): 2, (6, 11): 1, (11, 97): 1, (97, 23): 4, (23, 35): 3, (35, 97): 1, (97, 13): 2, (13, 8): 4, (8, 85): 2, (85, 90): 2, (90, 86): 1, (86, 88): 1, (88, 79): 4, (79, 58): 2, (23, 33): 4, (33, 66): 1, (66, 50): 1, (56, 10): 2, (10, 62): 1, (62, 31): 1, (77, 74): 2, (74, 49): 1, (26, 45): 1, (45, 92): 1, (92, 28): 2, (28, 40): 1, (40, 2): 3, (2, 83): 3, (83, 48): 2, (48, 21): 2, (21, 95): 3, (67, 9): 1, (9, 59): 1, (59, 21): 1, (21, 75): 3, (75, 5): 3, (5, 84): 1, (78, 4): 2, (0, 66): 5, (66, 54): 1, (54, 97): 2, (33, 53): 4, (53, 74): 5, (74, 86): 2, (86, 70): 4, (70, 79): 1, (79, 3): 1, (3, 74): 3, (98, 86): 3, (86, 77): 2, (77, 17): 1, (27, 16): 1, (16, 21): 1, (21, 4): 2, (4, 31): 1, (31, 15): 2, (83, 26): 3, (26, 70): 2, (70, 71): 2, (66, 84): 1, (84, 91): 2, (91, 81): 3, (81, 34): 2, (34, 72): 2, (72, 31): 1, (31, 8): 2, (62, 29): 3, (29, 84): 4, (69, 89): 3, (89, 10): 4, (10, 94): 1, (94, 98): 2, (98, 42): 2, (42, 92): 1, (92, 2): 3, (2, 14): 2, (14, 19): 7, (19, 12): 2, (12, 54): 1, (54, 84): 1, (84, 72): 2, (72, 0): 1, (66, 83): 3, (83, 49): 1, (49, 22): 1, (22, 70): 5, (70, 74): 1, (74, 96): 2, (96, 55): 1, (55, 64): 2, (64, 64): 2, (64, 27): 1, (27, 2): 3, (2, 69): 1, (69, 14): 1, (11, 5): 1, (5, 80): 3, (80, 2): 1, (2, 61): 5, (61, 83): 4, (48, 65): 2, (65, 21): 1, (21, 45): 3, (45, 45): 3, (45, 41): 2, (41, 92): 2, (92, 44): 1, (44, 86): 2, (94, 54): 1, (54, 29): 2, (29, 90): 1, (90, 49): 3, (49, 39): 1, (39, 89): 1, (89, 97): 1, (97, 33): 3, (33, 80): 4, (80, 9): 3, (9, 85): 1, (85, 93): 8, (93, 76): 1, (76, 90): 2, (90, 62): 5, (62, 65): 1, (65, 4): 2, (4, 30): 3, (67, 18): 2, (18, 38): 1, (38, 30): 2, (30, 47): 1, (38, 81): 2, (81, 16): 1, (16, 68): 3, (68, 6): 3, (13, 27): 2, (27, 81): 2, (81, 47): 2, (47, 97): 2, (97, 80): 1, (80, 8): 1, (8, 80): 2, (80, 66): 1, (66, 30): 1, (30, 21): 3, (21, 68): 2, (49, 70): 6, (70, 25): 2, (25, 19): 1, (19, 15): 1, (15, 90): 2, (90, 52): 2, (52, 98): 2, (98, 7): 3, (7, 31): 2, (31, 0): 5, (0, 8): 1, (8, 11): 1, (11, 40): 2, (40, 17): 2, (17, 14): 1, (14, 64): 1, (64, 9): 2, (9, 4): 2, (4, 98): 1, (98, 91): 1, (91, 13): 1, (53, 90): 2, (90, 19): 3, (19, 83): 1, (83, 80): 1, (80, 4): 2, (71, 79): 2, (41, 83): 2, (83, 78): 3, (78, 63): 2, (63, 63): 1, (63, 73): 1, (42, 51): 1, (26, 39): 3, (39, 81): 2, (81, 12): 2, (12, 98): 1, (98, 54): 2, (54, 26): 3, (26, 64): 2, (64, 90): 2, (70, 81): 4, (81, 68): 1, (68, 35): 1, (35, 84): 2, (84, 55): 2, (55, 73): 2, (73, 81): 3, (81, 40): 2, (40, 68): 3, (68, 79): 2, (79, 69): 2, (69, 48): 1, (53, 24): 4, (24, 92): 3, (92, 92): 3, (92, 19): 2, (19, 49): 1, (29, 70): 2, (70, 70): 2, (70, 17): 2, (17, 17): 1, (17, 81): 2, (81, 8): 1, (66, 91): 1, (91, 48): 3, (48, 54): 2, (54, 57): 2, (57, 62): 2, (62, 44): 1, (44, 91): 3, (91, 51): 1, (51, 94): 1, (94, 48): 2, (48, 79): 2, (22, 54): 2, (54, 85): 2, (85, 49): 5, (49, 38): 2, (38, 65): 1, (65, 45): 1, (84, 40): 1, (40, 86): 5, (86, 66): 2, (66, 97): 3, (97, 91): 7, (91, 0): 2, (0, 71): 3, (71, 36): 1, (36, 50): 1, (50, 44): 2, (44, 41): 3, (41, 27): 1, (19, 45): 1, (45, 26): 3, (26, 95): 2, (69, 33): 2, (33, 98): 2, (98, 44): 1, (86, 64): 3, (64, 58): 2, (40, 75): 1, (75, 36): 2, (36, 91): 2, (91, 25): 2, (25, 24): 4, (24, 52): 1, (52, 29): 3, (41, 84): 3, (84, 29): 2, (84, 56): 1, (56, 24): 2, (24, 85): 5, (85, 56): 2, (56, 32): 3, (32, 27): 1, (27, 26): 1, (26, 8): 2, (8, 0): 3, (0, 56): 4, (56, 78): 5, (78, 94): 3, (94, 3): 1, (3, 26): 1, (26, 25): 2, (25, 5): 3, (5, 41): 4, (41, 89): 2, (89, 56): 1, (56, 87): 1, (94, 0): 3, (4, 47): 3, (35, 39): 2, (39, 40): 4, (40, 92): 4, (92, 67): 1, (79, 74): 3, (74, 28): 1, (28, 59): 2, (15, 19): 3, (19, 1): 6, (1, 60): 1, (60, 34): 2, (34, 99): 2, (99, 30): 2, (30, 89): 3, (89, 3): 1, (3, 63): 2, (63, 74): 5, (74, 32): 3, (32, 71): 1, (71, 12): 3, (12, 21): 3, (21, 0): 4, (0, 1): 1, (1, 24): 1, (24, 63): 2, (63, 72): 1, (72, 88): 1, (88, 28): 1, (28, 75): 2, (75, 60): 4, (60, 83): 1, (59, 37): 2, (37, 79): 1, (79, 43): 1, (43, 8): 1, (8, 38): 2, (38, 85): 3, (85, 76): 1, (76, 31): 2, (31, 85): 5, (56, 55): 1, (14, 8): 1, (8, 93): 1, (93, 17): 3, (17, 28): 2, (28, 29): 1, (29, 10): 1, (10, 24): 1, (24, 8): 2, (8, 44): 9, (44, 5): 2, (5, 63): 2, (63, 20): 4, (20, 35): 1, (35, 91): 2, (91, 41): 2, (41, 38): 3, (38, 87): 3, (87, 87): 1, (87, 0): 2, (0, 77): 3, (91, 8): 1, (8, 98): 5, (26, 84): 1, (74, 83): 6, (83, 92): 3, (92, 78): 2, (99, 54): 2, (54, 95): 1, (95, 49): 2, (49, 77): 2, (71, 20): 1, (20, 90): 2, (90, 7): 2, (7, 87): 1, (87, 96): 1, (96, 93): 1, (93, 95): 4, (95, 35): 4, (35, 76): 1, (76, 37): 1, (37, 7): 1, (7, 92): 3, (92, 52): 3, (52, 27): 2, (27, 13): 2, (13, 64): 3, (64, 98): 1, (98, 12): 4, (12, 94): 3, (94, 72): 1, (72, 7): 1, (7, 12): 4, (12, 10): 5, (10, 27): 3, (2, 45): 2, (45, 67): 3, (67, 34): 3, (34, 41): 1, (41, 85): 1, (49, 3): 4, (3, 4): 1, (4, 3): 2, (3, 11): 2, (11, 75): 4, (75, 92): 1, (92, 4): 1, (4, 43): 2, (43, 71): 2, (71, 35): 2, (35, 16): 4, (9, 95): 2, (95, 3): 3, (91, 27): 1, (13, 34): 1, (34, 38): 1, (38, 62): 1, (62, 70): 1, (70, 85): 1, (85, 98): 2, (98, 15): 1, (15, 52): 2, (52, 56): 1, (56, 96): 2, (13, 2): 1, (2, 92): 1, (92, 48): 3, (48, 77): 1, (77, 62): 1, (62, 55): 3, (55, 36): 1, (36, 85): 1, (85, 2): 3, (2, 77): 1, (77, 70): 2, (70, 40): 5, (68, 60): 1, (60, 39): 1, (39, 17): 1, (17, 91): 2, (91, 54): 5, (54, 54): 1, (54, 65): 2, (65, 44): 3, (44, 97): 1, (97, 32): 2, (32, 89): 1, (70, 4): 2, (4, 1): 3, (1, 17): 1, (17, 41): 2, (41, 51): 3, (51, 82): 3, (82, 34): 1, (34, 75): 1, (75, 42): 3, (42, 67): 3, (67, 71): 1, (71, 24): 2, (24, 60): 3, (60, 36): 1, (36, 25): 1, (55, 72): 3, (72, 22): 4, (70, 69): 2, (69, 78): 3, (78, 7): 1, (7, 89): 3, (89, 91): 1, (91, 92): 3, (92, 38): 2, (38, 82): 2, (82, 39): 1, (40, 51): 1, (51, 61): 3, (61, 33): 1, (33, 4): 4, (26, 72): 3, (72, 23): 2, (23, 18): 2, (18, 89): 5, (89, 60): 4, (60, 9): 3, (9, 86): 2, (47, 21): 1, (21, 74): 1, (88, 58): 2, (58, 0): 2, (0, 79): 1, (79, 51): 1, (51, 42): 1, (42, 46): 3, (46, 60): 2, (24, 57): 4, (57, 66): 1, (66, 66): 1, (66, 74): 3, (74, 73): 2, (73, 93): 5, (93, 21): 2, (75, 46): 2, (97, 95): 1, (95, 0): 1, (0, 90): 2, (90, 92): 2, (92, 34): 4, (34, 83): 3, (72, 19): 2, (95, 13): 3, (13, 93): 3, (93, 99): 1, (25, 87): 3, (25, 15): 3, (90, 56): 5, (56, 64): 4, (64, 51): 2, (51, 79): 3, (79, 76): 2, (76, 42): 1, (42, 42): 1, (12, 49): 4, (49, 24): 1, (24, 74): 3, (74, 5): 4, (13, 43): 2, (43, 9): 1, (9, 51): 1, (51, 88): 2, (88, 55): 2, (91, 73): 3, (73, 77): 4, (77, 13): 1, (13, 19): 4, (19, 76): 1, (54, 25): 3, (25, 74): 1, (98, 23): 1, (23, 30): 1, (30, 42): 1, (12, 60): 1, (34, 13): 2, (64, 48): 4, (48, 71): 2, (71, 46): 1, (46, 29): 2, (29, 58): 1, (58, 34): 3, (34, 31): 4, (31, 36): 2, (36, 35): 4, (16, 6): 2, (6, 33): 1, (33, 60): 2, (60, 11): 1, (11, 37): 1, (3, 1): 3, (1, 2): 4, (2, 2): 3, (2, 47): 2, (47, 41): 1, (41, 94): 2, (94, 29): 2, (29, 44): 3, (98, 70): 4, (70, 31): 1, (31, 62): 1, (62, 25): 2, (71, 89): 1, (89, 53): 2, (53, 95): 1, (67, 29): 2, (29, 69): 2, (69, 35): 2, (35, 15): 2, (68, 25): 2, (72, 24): 2, (24, 21): 3, (0, 62): 2, (76, 54): 2, (26, 86): 2, (66, 28): 1, (28, 38): 3, (85, 52): 2, (52, 24): 2, (24, 77): 1, (77, 49): 2, (49, 42): 2, (42, 20): 2, (20, 8): 4, (8, 8): 2, (98, 14): 6, (14, 67): 1, (67, 40): 1, (92, 66): 2, (66, 33): 2, (33, 14): 1, (14, 85): 2, (93, 22): 1, (22, 90): 4, (90, 2): 2, (2, 44): 2, (44, 61): 1, (61, 99): 3, (99, 71): 4, (71, 1): 1, (1, 95): 3, (95, 15): 1, (15, 84): 2, (84, 82): 2, (82, 27): 1, (27, 69): 2, (69, 62): 3, (62, 30): 2, (67, 20): 1, (20, 73): 2, (73, 68): 1, (68, 75): 1, (75, 82): 1, (82, 66): 4, (97, 72): 1, (72, 8): 1, (29, 17): 3, (17, 77): 1, (77, 64): 1, (64, 31): 1, (31, 21): 2, (21, 12): 2, (12, 17): 2, (17, 54): 3, (54, 98): 1, (14, 13): 5, (13, 0): 1, (0, 33): 2, (33, 5): 2, (5, 79): 1, (79, 28): 3, (28, 10): 3, (10, 97): 1, (97, 39): 1, (39, 51): 5, (51, 30): 3, (19, 48): 3, (42, 79): 1, (79, 21): 1, (21, 55): 1, (55, 33): 4, (33, 65): 1, (65, 96): 2, (96, 0): 3, (71, 93): 1, (93, 0): 1, (0, 87): 2, (87, 62): 2, (62, 3): 2, (3, 44): 1, (91, 47): 2, (47, 24): 1, (24, 94): 1, (94, 15): 1, (15, 39): 1, (39, 53): 2, (53, 73): 1, (77, 7): 2, (31, 28): 3, (28, 11): 3, (48, 68): 2, (68, 18): 2, (18, 11): 3, (11, 76): 6, (76, 69): 1, (69, 23): 1, (23, 15): 3, (15, 78): 1, (78, 14): 3, (14, 35): 1, (35, 88): 1, (88, 16): 2, (16, 57): 2, (57, 44): 2, (98, 66): 1, (85, 97): 2, (97, 30): 2, (30, 49): 2, (70, 62): 3, (62, 95): 2, (95, 77): 1, (77, 40): 1, (40, 45): 2, (45, 66): 3, (66, 65): 4, (65, 74): 1, (74, 85): 2, (85, 42): 4, (42, 60): 2, (60, 56): 1, (35, 72): 1, (72, 26): 1, (26, 48): 1, (48, 33): 1, (53, 60): 3, (60, 79): 1, (79, 55): 1, (55, 22): 2, (22, 80): 2, (80, 87): 3, (87, 64): 2, (64, 70): 2, (70, 7): 2, (7, 98): 3, (98, 52): 2, (52, 35): 1, (35, 95): 2, (95, 5): 1, (5, 56): 1, (56, 2): 2, (2, 98): 1, (98, 60): 3, (60, 94): 2, (94, 53): 4, (53, 18): 2, (18, 82): 1, (18, 10): 6, (10, 39): 2, (39, 95): 4, (6, 44): 2, (44, 46): 2, (6, 96): 1, (5, 36): 1, (36, 59): 3, (59, 65): 2, (65, 90): 2, (90, 48): 5, (48, 35): 2, (35, 58): 1, (58, 26): 3, (70, 56): 1, (56, 72): 1, (72, 73): 2, (73, 92): 1, (92, 6): 3, (6, 80): 1, (80, 63): 2, (74, 43): 4, (43, 40): 1, (40, 74): 1, (32, 81): 2, (65, 32): 3, (32, 25): 3, (25, 96): 3, (96, 81): 2, (81, 0): 3, (0, 36): 3, (36, 7): 2, (7, 65): 1, (65, 77): 3, (77, 93): 1, (93, 44): 2, (44, 65): 2, (65, 40): 2, (10, 16): 1, (16, 66): 4, (66, 13): 1, (13, 52): 3, (1, 77): 1, (77, 19): 1, (19, 82): 3, (82, 25): 3, (25, 41): 1, (95, 37): 1, (37, 98): 3, (70, 47): 1, (47, 52): 1, (17, 35): 1, (74, 67): 2, (67, 0): 3, (0, 97): 1, (97, 74): 1, (74, 8): 2, (8, 39): 3, (39, 11): 2, (11, 46): 6, (73, 40): 3, (40, 24): 5, (24, 78): 3, (78, 39): 1, (26, 46): 3, (46, 92): 1, (92, 86): 3, (86, 79): 2, (79, 48): 2, (48, 50): 2, (50, 32): 1, (32, 56): 1, (56, 0): 1, (0, 28): 2, (2, 62): 2, (62, 32): 1, (32, 80): 2, (80, 74): 1, (74, 87): 4, (87, 74): 1, (74, 56): 1, (56, 8): 3, (8, 52): 1, (67, 7): 3, (7, 71): 3, (71, 11): 4, (11, 23): 2, (23, 80): 1, (80, 32): 4, (32, 75): 3, (75, 63): 3, (74, 76): 2, (76, 13): 2, (13, 86): 3, (86, 52): 2, (52, 62): 3, (62, 50): 2, (50, 18): 2, (18, 66): 1, (66, 6): 1, (6, 84): 1, (78, 95): 1, (31, 87): 2, (5, 15): 3, (15, 23): 2, (23, 8): 2, (8, 82): 2, (82, 99): 1, (99, 90): 2, (90, 72): 2, (72, 68): 2, (68, 97): 1, (23, 28): 4, (28, 17): 1, (17, 75): 2, (75, 34): 1, (25, 99): 2, (99, 52): 2, (52, 8): 2, (8, 46): 3, (55, 5): 1, (5, 39): 2, (43, 78): 1, (78, 26): 3, (26, 42): 2, (78, 76): 3, (76, 44): 1, (44, 87): 1, (87, 81): 3, (81, 57): 2, (57, 4): 2, (4, 13): 3, (13, 72): 2, (72, 80): 2, (32, 20): 1, (20, 97): 1, (97, 17): 2, (17, 73): 2, (73, 97): 4, (97, 49): 2, (49, 12): 1, (12, 7): 3, (7, 38): 2, (38, 31): 2, (0, 64): 1, (48, 25): 1, (25, 94): 4, (94, 97): 3, (97, 54): 3, (54, 64): 2, (64, 78): 3, (78, 1): 1, (1, 49): 2, (66, 15): 1, (15, 21): 2, (21, 40): 3, (40, 71): 2, (71, 81): 1, (57, 96): 1, (96, 17): 3, (17, 5): 3, (93, 78): 2, (78, 45): 1, (45, 57): 2, (57, 3): 4, (3, 82): 2, (82, 22): 1, (22, 44): 2, (65, 13): 1, (93, 10): 1, (10, 37): 2, (37, 44): 2, (44, 2): 1, (2, 20): 3, (20, 28): 1, (28, 35): 3, (29, 52): 2, (96, 42): 1, (42, 31): 2, (31, 93): 3, (93, 83): 3, (78, 75): 4, (75, 11): 2, (11, 2): 2, (2, 34): 5, (34, 19): 2, (19, 2): 1, (2, 74): 2, (74, 6): 3, (6, 61): 3, (61, 5): 2, (5, 2): 3, (2, 76): 1, (62, 54): 1, (46, 94): 4, (94, 47): 1, (47, 11): 1, (11, 8): 4, (8, 5): 3, (5, 74): 1, (74, 35): 1, (35, 53): 1, (53, 64): 3, (64, 33): 5, (33, 55): 4, (55, 45): 1, (67, 24): 2, (24, 89): 1, (89, 38): 1, (38, 84): 1, (84, 88): 1, (74, 3): 4, (63, 81): 1, (81, 53): 1, (5, 3): 1, (3, 12): 4, (12, 81): 1, (81, 13): 1, (13, 32): 3, (32, 16): 2, (16, 5): 3, (5, 96): 3, (96, 36): 1, (36, 94): 3, (94, 77): 2, (77, 0): 2, (77, 75): 1, (15, 4): 1, (4, 82): 1, (82, 77): 2, (77, 20): 1, (20, 61): 3, (61, 40): 2, (60, 25): 1, (25, 3): 4, (46, 82): 3, (82, 33): 2, (33, 74): 2, (74, 42): 3, (42, 73): 5, (73, 56): 2, (60, 14): 2, (14, 72): 1, (12, 51): 2, (51, 50): 2, (50, 72): 2, (51, 89): 1, (89, 34): 2, (51, 36): 1, (15, 95): 1, (95, 54): 1, (57, 48): 2, (79, 71): 3, (71, 0): 3, (0, 35): 3, (35, 10): 3, (96, 69): 2, (69, 67): 1, (67, 10): 1, (10, 74): 2, (3, 80): 3, (80, 54): 1, (54, 34): 1, (34, 16): 2, (74, 18): 3, (18, 41): 6, (41, 90): 2, (65, 25): 2, (94, 46): 2, (46, 50): 1, (50, 0): 3, (0, 27): 1, (27, 21): 1, (95, 75): 1, (20, 17): 3, (17, 18): 2, (18, 16): 2, (16, 10): 1, (10, 23): 3, (23, 29): 1, (29, 67): 2, (67, 23): 2, (15, 5): 3, (5, 19): 3, (19, 20): 3, (17, 39): 2, (39, 9): 1, (9, 91): 2, (91, 22): 5, (22, 17): 2, (18, 57): 1, (57, 99): 2, (99, 5): 1, (5, 65): 1, (44, 53): 6, (65, 78): 1, (76, 18): 2, (18, 74): 1, (74, 41): 2, (57, 81): 1, (81, 88): 1, (88, 23): 2, (0, 2): 2, (2, 30): 1, (30, 97): 2, (91, 84): 2, (84, 1): 1, (60, 17): 2, (17, 57): 2, (57, 89): 4, (46, 34): 2, (34, 71): 2, (71, 75): 2, (60, 67): 1, (67, 60): 1, (24, 15): 1, (15, 40): 3, (40, 34): 2, (34, 93): 1, (93, 88): 1, (32, 33): 2, (80, 21): 1, (21, 38): 3, (38, 96): 2, (96, 62): 2, (62, 12): 1, (12, 63): 2, (52, 68): 1, (68, 4): 1, (4, 65): 1, (65, 11): 1, (11, 68): 2, (68, 8): 2, (8, 72): 3, (72, 84): 2, (84, 94): 1, (53, 54): 1, (54, 0): 2, (72, 91): 1, (91, 83): 1, (83, 31): 3, (31, 55): 2, (55, 19): 1, (19, 18): 1, (18, 15): 1, (15, 89): 4, (10, 0): 1, (0, 44): 1, (44, 11): 1, (46, 45): 3, (45, 87): 1, (87, 78): 3, (78, 40): 1, (99, 88): 1, (88, 41): 4, (41, 75): 2, (75, 26): 3, (44, 37): 1, (37, 10): 2, (10, 82): 1, (82, 30): 2, (30, 22): 1, (80, 53): 1, (18, 92): 2, (92, 10): 2, (10, 58): 2, (58, 76): 1, (76, 19): 1, (19, 60): 1, (60, 3): 4, (3, 38): 1, (38, 57): 2, (57, 2): 3, (2, 85): 3, (85, 28): 1, (28, 13): 2, (58, 2): 1, (2, 49): 1, (49, 35): 1, (35, 59): 2, (37, 4): 5, (4, 2): 1, (2, 59): 2, (59, 22): 2, (22, 62): 1, (62, 4): 1, (4, 28): 2, (81, 67): 3, (67, 3): 3, (3, 84): 2, (84, 13): 1, (13, 66): 2, (66, 42): 1, (42, 69): 1, (69, 19): 2, (19, 22): 6, (22, 33): 1, (79, 34): 3, (34, 12): 3, (12, 16): 1, (39, 1): 1, (1, 21): 1, (21, 36): 1, (36, 19): 1, (19, 50): 2, (50, 77): 2, (77, 16): 3, (16, 88): 1, (88, 26): 2, (34, 45): 2, (45, 3): 1, (3, 55): 3, (55, 79): 1, (79, 0): 1, (98, 18): 4, (89, 54): 1, (54, 36): 1, (36, 17): 1, (17, 34): 3, (16, 43): 1, (43, 2): 3, (2, 10): 1, (10, 17): 2, (17, 92): 3, (92, 39): 6, (39, 78): 4, (78, 91): 1, (91, 20): 1, (20, 57): 1, (57, 8): 1, (8, 79): 2, (79, 73): 2, (73, 12): 2, (12, 5): 3, (5, 17): 1, (17, 86): 2, (86, 80): 2, (80, 42): 2, (42, 58): 4, (58, 94): 1, (94, 8): 2, (8, 27): 1, (27, 89): 3, (89, 88): 1, (79, 57): 1, (75, 32): 4, (32, 4): 3, (4, 22): 2, (22, 49): 1, (70, 21): 1, (21, 57): 1, (57, 53): 4, (44, 6): 3, (44, 13): 2, (13, 48): 2, (21, 17): 1, (17, 89): 2, (89, 72): 2, (72, 61): 3, (61, 39): 2, (39, 37): 3, (37, 47): 3, (47, 59): 3, (59, 20): 4, (20, 41): 3, (41, 20): 5, (20, 11): 1, (86, 53): 2, (53, 68): 1, (68, 41): 4, (41, 8): 4, (8, 70): 2, (70, 52): 2, (52, 77): 1, (77, 34): 1, (51, 92): 2, (92, 32): 1, (19, 61): 1, (83, 76): 1, (52, 49): 1, (95, 32): 1, (32, 21): 1, (21, 39): 1, (39, 38): 5, (5, 9): 2, (9, 23): 3, (28, 47): 1, (73, 72): 2, (72, 10): 2, (44, 52): 1, (45, 73): 2, (73, 88): 3, (88, 61): 2, (50, 40): 1, (40, 93): 1, (93, 39): 3, (39, 97): 1, (97, 58): 4, (58, 85): 2, (85, 33): 3, (33, 42): 1, (42, 18): 1, (18, 31): 4, (31, 58): 2, (56, 34): 3, (34, 86): 2, (86, 7): 4, (7, 78): 1, (78, 44): 1, (36, 83): 2, (13, 57): 2, (57, 45): 2, (45, 38): 3, (38, 69): 1, (62, 2): 2, (2, 88): 1, (49, 8): 1, (44, 25): 3, (25, 4): 2, (4, 42): 2, (35, 42): 2, (42, 41): 1, (41, 45): 3, (45, 18): 1, (18, 14): 1, (14, 99): 2, (99, 93): 1, (93, 72): 1, (72, 79): 1, (38, 37): 4, (37, 71): 1, (71, 91): 2, (98, 81): 1, (81, 70): 1, (70, 51): 1, (51, 52): 3, (48, 45): 4, (45, 4): 2, (4, 37): 2, (82, 6): 1, (6, 38): 1, (24, 58): 1, (58, 27): 2, (27, 30): 2, (97, 59): 2, (59, 8): 1, (22, 38): 3, (38, 76): 2, (76, 99): 1, (43, 90): 2, (90, 81): 1, (81, 50): 3, (50, 83): 2, (83, 99): 1, (99, 44): 1, (44, 12): 1, (12, 46): 2, (46, 51): 1, (51, 9): 2, (9, 13): 2, (19, 89): 2, (89, 86): 1, (86, 67): 2, (67, 33): 1, (53, 61): 1, (61, 71): 3, (71, 41): 3, (41, 48): 1, (48, 64): 1, (70, 1): 2, (1, 8): 3, (56, 83): 2, (83, 94): 1, (94, 41): 1, (41, 64): 2, (64, 41): 1, (41, 33): 4, (33, 34): 3, (34, 18): 2, (10, 30): 1, (30, 53): 2, (53, 6): 4, (46, 59): 3, (59, 13): 3, (13, 25): 4, (25, 35): 2, (95, 41): 3, (75, 50): 3, (50, 6): 4, (6, 83): 3, (83, 52): 1, (52, 92): 3, (92, 89): 1, (89, 73): 1, (93, 75): 1, (75, 54): 4, (54, 10): 2, (10, 89): 1, (89, 21): 2, (21, 46): 2, (46, 39): 1, (39, 29): 4, (29, 62): 3, (64, 83): 2, (83, 32): 2, (32, 48): 3, (23, 20): 1, (20, 32): 1, (72, 33): 1, (33, 93): 1, (47, 95): 3, (95, 89): 1, (89, 49): 2, (49, 73): 1, (81, 41): 1, (41, 59): 4, (59, 7): 1, (7, 64): 1, (33, 89): 2, (89, 82): 1, (82, 98): 2, (98, 17): 1, (34, 53): 1, (53, 37): 1, (37, 8): 1, (75, 57): 2, (89, 8): 2, (8, 88): 2, (88, 96): 1, (96, 11): 2, (75, 56): 1, (56, 86): 2, (86, 76): 1, (31, 50): 1, (50, 3): 2, (3, 30): 3, (30, 25): 1, (5, 45): 2, (45, 21): 3, (21, 2): 2, (30, 66): 2, (66, 9): 4, (9, 29): 1, (29, 86): 1, (86, 60): 2, (60, 59): 1, (59, 96): 1, (54, 28): 1, (54, 67): 1, (34, 20): 3, (7, 41): 2, (41, 47): 2, (47, 74): 2, (74, 38): 2, (79, 59): 2, (59, 93): 2, (93, 92): 2, (37, 26): 1, (26, 20): 2, (20, 77): 2, (40, 90): 2, (90, 51): 1, (51, 53): 3, (53, 2): 1, (2, 53): 2, (91, 69): 3, (69, 31): 3, (85, 64): 3, (64, 40): 1, (40, 95): 2, (95, 26): 3, (26, 80): 2, (80, 3): 3, (3, 89): 3, (89, 65): 2, (65, 93): 2, (93, 16): 2, (81, 7): 3, (89, 71): 1, (71, 92): 2, (39, 72): 2, (80, 86): 1, (69, 68): 2, (68, 24): 3, (24, 38): 2, (38, 28): 1, (28, 43): 1, (43, 5): 1, (5, 85): 1, (85, 67): 4, (67, 48): 3, (48, 91): 1, (91, 49): 1, (3, 29): 2, (29, 97): 5, (97, 64): 3, (64, 25): 2, (25, 73): 2, (73, 55): 4, (55, 23): 3, (23, 31): 3, (31, 49): 2, (49, 91): 4, (9, 1): 3, (1, 75): 1, (45, 61): 1, (61, 3): 2, (3, 20): 3, (20, 56): 2, (56, 6): 1, (6, 59): 1, (59, 55): 2, (91, 45): 1, (38, 4): 3, (4, 92): 1, (92, 58): 2, (58, 55): 1, (13, 23): 1, (23, 64): 2, (64, 71): 2, (71, 74): 2, (38, 33): 3, (33, 87): 2, (19, 96): 2, (96, 22): 2, (22, 99): 1, (99, 64): 1, (64, 88): 2, (88, 33): 2, (97, 70): 1, (70, 93): 4, (28, 15): 4, (15, 13): 2, (13, 80): 1, (80, 29): 4, (73, 85): 3, (85, 79): 2, (79, 18): 3, (18, 95): 2, (95, 44): 1, (25, 55): 3, (55, 0): 3, (74, 20): 4, (43, 88): 1, (88, 24): 1, (56, 93): 3, (40, 14): 4, (14, 2): 1, (23, 4): 1, (4, 57): 2, (57, 79): 1, (58, 67): 1, (67, 76): 2, (76, 49): 2, (49, 98): 1, (52, 12): 2, (87, 90): 2, (52, 94): 1, (94, 39): 2, (39, 83): 2, (31, 2): 2, (61, 29): 4, (49, 74): 2, (34, 91): 1, (87, 39): 2, (39, 49): 2, (49, 63): 3, (63, 90): 3, (13, 24): 2, (24, 23): 3, (23, 9): 1, (9, 74): 2, (17, 55): 2, (55, 2): 1, (2, 13): 3, (57, 43): 2, (43, 99): 1, (99, 9): 2, (9, 3): 1, (3, 41): 1, (41, 65): 1, (40, 48): 2, (48, 63): 1, (11, 91): 1, (22, 35): 2, (35, 65): 2, (65, 22): 3, (22, 14): 1, (41, 70): 1, (70, 90): 2, (90, 41): 2, (19, 90): 1, (90, 95): 3, (16, 73): 3, (73, 19): 1, (19, 63): 1, (48, 12): 1, (12, 34): 1, (34, 21): 3, (21, 16): 2, (16, 85): 3, (85, 51): 2, (51, 45): 2, (45, 33): 2, (33, 41): 2, (41, 55): 1, (55, 42): 1, (42, 84): 1, (84, 62): 1, (62, 96): 1, (11, 48): 2, (48, 61): 2, (61, 97): 1, (91, 3): 2, (3, 58): 2, (58, 92): 2, (96, 57): 2, (57, 85): 1, (14, 10): 1, (10, 79): 2, (79, 23): 2, (67, 73): 3, (73, 18): 2, (18, 35): 2, (35, 69): 1, (69, 94): 4, (8, 2): 1, (2, 15): 1, (15, 72): 3, (72, 47): 3, (35, 92): 1, (92, 72): 3, (61, 68): 1, (68, 93): 2, (93, 29): 1, (29, 8): 3, (8, 56): 2, (24, 68): 3, (68, 36): 1, (36, 55): 1, (33, 44): 2, (44, 18): 1, (89, 12): 4, (12, 40): 2, (40, 41): 1, (38, 64): 5, (64, 43): 3, (43, 34): 1, (34, 73): 1, (73, 15): 1, (5, 42): 1, (42, 32): 5, (32, 88): 6, (88, 35): 3, (35, 56): 1, (56, 11): 2, (46, 79): 2, (79, 29): 2, (29, 41): 1, (41, 58): 1, (26, 67): 2, (67, 25): 2, (32, 70): 4, (70, 39): 3, (38, 22): 2, (70, 86): 1, (86, 81): 2, (81, 44): 2, (41, 22): 4, (22, 53): 1, (53, 84): 2, (84, 47): 2, (47, 90): 2, (90, 74): 3, (74, 59): 3, (59, 76): 2, (76, 29): 1, (44, 78): 2, (78, 6): 3, (6, 45): 3, (21, 77): 3, (77, 90): 4, (90, 76): 1, (76, 70): 1, (70, 77): 2, (77, 14): 3, (14, 57): 3, (57, 23): 2, (23, 27): 1, (27, 66): 1, (66, 24): 3, (24, 3): 2, (3, 3): 4, (30, 96): 4, (96, 19): 1, (19, 7): 2, (89, 90): 4, (62, 98): 4, (41, 80): 2, (80, 81): 2, (81, 14): 1, (14, 43): 2, (43, 81): 1, (81, 18): 2, (18, 49): 1, (32, 45): 2, (45, 83): 2, (83, 53): 2, (53, 34): 2, (34, 56): 3, (56, 84): 2, (38, 47): 1, (61, 74): 2, (93, 53): 5, (53, 96): 1, (13, 31): 1, (31, 39): 2, (39, 82): 2, (82, 88): 2, (74, 23): 1, (23, 7): 1, (41, 4): 2, (11, 9): 1, (9, 94): 3, (94, 26): 1, (26, 83): 1, (26, 49): 1, (49, 82): 2, (98, 72): 3, (57, 60): 1, (60, 68): 2, (68, 64): 1, (48, 67): 1, (67, 61): 2, (61, 36): 3, (36, 47): 2, (47, 27): 2, (50, 11): 1, (11, 73): 1, (85, 62): 2, (62, 1): 1, (1, 53): 1, (53, 49): 5, (18, 50): 3, (6, 70): 2, (70, 87): 1, (87, 82): 1, (82, 28): 1, (28, 4): 1, (30, 59): 1, (59, 10): 3, (10, 55): 1, (55, 9): 1, (4, 19): 1, (95, 7): 2, (7, 53): 3, (59, 92): 1, (58, 71): 2, (71, 6): 1, (6, 65): 3, (65, 56): 1, (56, 67): 2, (67, 95): 2, (34, 26): 1, (26, 1): 1, (1, 71): 1, (71, 96): 1, (96, 87): 4, (87, 69): 2, (69, 13): 2, (13, 47): 1, (47, 69): 1, (69, 88): 2, (55, 92): 4, (61, 57): 1, (48, 15): 1, (15, 29): 3, (29, 65): 1, (32, 3): 4, (3, 69): 2, (69, 15): 1, (15, 70): 3, (17, 22): 2, (22, 2): 1, (2, 29): 1, (29, 75): 1, (42, 13): 1, (13, 87): 4, (0, 55): 1, (55, 18): 1, (18, 93): 2, (92, 20): 2, (20, 23): 1, (23, 88): 1, (88, 32): 5, (32, 98): 3, (68, 37): 1, (37, 82): 2, (33, 7): 1, (7, 4): 2, (47, 93): 2, (95, 70): 2, (72, 21): 1, (21, 28): 5, (15, 85): 3, (44, 30): 1, (30, 26): 3, (26, 35): 2, (35, 36): 1, (36, 89): 3, (89, 66): 2, (66, 78): 1, (78, 72): 1, (72, 74): 3, (74, 99): 1, (99, 86): 2, (86, 2): 2, (53, 32): 2, (75, 22): 1, (22, 39): 1, (0, 80): 1, (80, 27): 2, (27, 8): 2, (8, 6): 2, (6, 12): 1, (12, 28): 1, (28, 77): 4, (77, 54): 1, (54, 66): 1, (66, 41): 3, (83, 17): 3, (17, 61): 1, (61, 17): 2, (17, 97): 2, (97, 60): 1, (60, 37): 4, (37, 13): 1, (25, 25): 1, (25, 75): 1, (75, 17): 2, (81, 94): 1, (53, 70): 2, (77, 48): 1, (48, 92): 2, (34, 79): 2, (79, 90): 1, (92, 8): 2, (8, 58): 2, (58, 36): 1, (36, 44): 1, (6, 30): 2, (21, 94): 4, (94, 65): 1, (93, 15): 2, (15, 73): 1, (54, 23): 1, (23, 50): 1, (50, 90): 1, (90, 33): 1, (33, 91): 1, (50, 24): 1, (24, 1): 1, (1, 82): 4, (82, 19): 1, (50, 41): 2, (57, 31): 2, (31, 11): 1, (11, 22): 1, (22, 97): 2, (97, 99): 1, (22, 8): 3, (6, 10): 1, (10, 49): 2, (49, 87): 2, (87, 20): 1, (20, 25): 1, (3, 86): 1, (86, 28): 4, (28, 41): 1, (41, 56): 4, (84, 45): 5, (87, 30): 3, (30, 58): 2, (58, 31): 1, (31, 41): 1, (41, 54): 1, (54, 5): 2, (5, 81): 2, (81, 82): 3, (2, 18): 1, (18, 42): 1, (42, 57): 3, (77, 69): 5, (68, 42): 1, (42, 80): 2, (80, 60): 1, (82, 74): 4, (74, 31): 1, (31, 76): 1, (76, 1): 2, (97, 21): 1, (28, 70): 2, (70, 98): 6, (98, 16): 4, (16, 76): 3, (76, 35): 2, (10, 91): 3, (4, 36): 2, (36, 9): 2, (9, 92): 2, (92, 90): 2, (90, 77): 2, (77, 92): 2, (92, 42): 2, (42, 56): 1, (56, 51): 3, (30, 62): 2, (66, 44): 2, (44, 16): 2, (66, 2): 2, (2, 96): 3, (62, 57): 2, (57, 71): 3, (71, 85): 2, (85, 19): 2, (1, 76): 1, (38, 42): 2, (55, 85): 1, (85, 31): 1, (31, 6): 2, (6, 55): 1, (55, 95): 1, (95, 90): 2, (90, 59): 3, (5, 72): 2, (72, 72): 2, (72, 28): 2, (28, 24): 2, (3, 32): 2, (48, 41): 2, (46, 63): 2, (63, 88): 2, (33, 68): 4, (68, 31): 1, (31, 95): 2, (83, 50): 1, (50, 31): 2, (21, 48): 1, (48, 31): 1, (83, 30): 2, (90, 82): 1, (2, 40): 4, (40, 79): 3, (79, 25): 3, (25, 83): 2, (83, 96): 1, (96, 99): 1, (99, 46): 4, (46, 81): 2, (81, 25): 1, (25, 68): 1, (68, 39): 1, (51, 98): 1, (16, 54): 1, (54, 8): 5, (8, 55): 2, (39, 19): 1, (19, 26): 1, (26, 41): 3, (36, 76): 1, (76, 23): 1, (23, 58): 2, (58, 8): 1, (46, 93): 1, (93, 42): 1, (49, 30): 4, (30, 55): 2, (72, 29): 1, (70, 38): 1, (64, 28): 1, (28, 16): 1, (16, 77): 2, (78, 13): 4, (53, 11): 4, (11, 67): 2, (2, 52): 2, (63, 14): 1, (14, 28): 1, (79, 11): 1, (78, 38): 1, (38, 75): 2, (32, 9): 1, (9, 15): 1, (23, 78): 3, (78, 32): 2, (25, 69): 5, (32, 85): 2, (85, 53): 3, (93, 63): 1, (63, 89): 1, (10, 95): 1, (26, 62): 3, (62, 36): 1, (14, 88): 1, (88, 98): 3, (98, 40): 3, (25, 30): 3, (96, 88): 1, (88, 52): 1, (68, 81): 1, (81, 80): 2, (94, 51): 1, (51, 97): 1, (53, 22): 3, (22, 19): 3, (81, 90): 3, (90, 18): 2, (31, 88): 2, (88, 3): 2, (8, 57): 2, (4, 4): 3, (4, 99): 2, (99, 73): 1, (40, 85): 1, (85, 54): 1, (54, 77): 1, (91, 15): 1, (15, 56): 2, (56, 37): 2, (37, 15): 1, (15, 74): 2, (6, 14): 2, (14, 44): 2, (44, 14): 1, (13, 88): 1, (88, 53): 1, (74, 27): 2, (27, 74): 3, (74, 39): 1, (40, 47): 1, (47, 63): 1, (63, 12): 2, (12, 68): 3, (68, 94): 1, (94, 32): 1, (32, 69): 1, (69, 8): 2, (5, 69): 3, (69, 7): 3, (11, 28): 1, (89, 1): 3, (1, 29): 3, (29, 42): 3, (29, 91): 1, (91, 38): 2, (38, 95): 1, (95, 64): 2, (64, 29): 1, (84, 90): 2, (48, 16): 2, (16, 69): 1, (69, 87): 2, (87, 79): 1, (79, 56): 1, (87, 1): 2, (8, 34): 2, (34, 23): 2, (23, 24): 2, (64, 53): 1, (53, 99): 1, (46, 25): 4, (25, 16): 2, (16, 20): 5, (20, 99): 1, (24, 65): 2, (65, 0): 1, (0, 94): 1, (94, 12): 3, (49, 62): 1, (62, 60): 1, (60, 80): 1, (80, 45): 2, (45, 62): 2, (62, 18): 4, (50, 69): 2, (69, 59): 1, (13, 73): 2, (6, 8): 2, (60, 32): 3, (98, 97): 1, (97, 36): 1, (36, 39): 2, (39, 45): 2, (41, 23): 1, (23, 11): 5, (11, 47): 4, (47, 28): 1, (88, 18): 1, (18, 80): 5, (80, 93): 1, (44, 24): 2, (24, 47): 1, (67, 12): 2, (12, 4): 2, (4, 85): 1, (85, 17): 2, (55, 30): 2, (67, 36): 3, (36, 57): 2, (57, 15): 2, (5, 30): 1, (30, 31): 2, (31, 67): 1, (67, 28): 1, (88, 22): 1, (22, 64): 1, (64, 75): 2, (53, 47): 1, (47, 57): 3, (57, 30): 1, (67, 80): 1, (80, 36): 3, (7, 29): 1, (29, 76): 1, (76, 14): 1, (14, 3): 6, (3, 35): 2, (35, 35): 3, (35, 24): 1, (24, 35): 1, (35, 44): 1, (7, 83): 2, (83, 24): 1, (24, 34): 1, (96, 80): 2, (80, 67): 1, (71, 39): 2, (39, 20): 1, (59, 18): 2, (89, 24): 1, (24, 24): 1, (60, 22): 2, (22, 50): 3, (33, 57): 2, (57, 56): 2, (56, 18): 3, (18, 28): 4, (28, 34): 1, (56, 1): 4, (1, 22): 2, (23, 26): 2, (26, 55): 2, (55, 83): 3, (83, 8): 3, (39, 85): 3, (67, 98): 1, (25, 1): 1, (1, 81): 1, (90, 38): 3, (38, 21): 2, (21, 1): 1, (1, 4): 1, (4, 29): 1, (29, 22): 1, (22, 30): 2, (95, 18): 1, (18, 40): 1, (40, 6): 3, (6, 15): 1, (59, 40): 1, (24, 83): 2, (53, 12): 3, (5, 40): 1, (79, 42): 1, (42, 45): 2, (45, 44): 2, (44, 23): 2, (23, 85): 3, (70, 34): 2, (83, 33): 1, (33, 8): 1, (8, 89): 4, (89, 42): 2, (42, 91): 2, (81, 11): 1, (11, 50): 1, (50, 92): 2, (72, 4): 1, (4, 68): 1, (68, 62): 2, (55, 25): 2, (65, 51): 2, (51, 2): 1, (23, 42): 1, (73, 61): 4, (61, 25): 2, (25, 85): 2, (53, 28): 1, (28, 42): 1, (42, 71): 1, (74, 44): 2, (43, 13): 4, (32, 63): 3, (63, 13): 2, (13, 68): 1, (68, 90): 1, (65, 31): 1, (82, 68): 1, (6, 57): 3, (57, 98): 1, (98, 50): 2, (50, 73): 2, (73, 78): 3, (78, 19): 3, (19, 69): 1, (6, 3): 3, (12, 67): 1, (67, 77): 2, (69, 75): 1, (62, 71): 2, (71, 68): 2, (68, 87): 1, (87, 48): 1, (16, 13): 1, (66, 58): 6, (58, 25): 2, (25, 0): 1, (0, 41): 2, (33, 54): 1, (41, 29): 1, (29, 25): 5, (25, 54): 2, (54, 33): 4, (79, 60): 1, (89, 67): 1, (25, 34): 3, (34, 39): 3, (26, 0): 1, (66, 98): 2, (98, 69): 2, (69, 0): 1, (0, 47): 1, (47, 79): 3, (51, 13): 1, (30, 64): 2, (64, 91): 1, (91, 86): 2, (86, 12): 4, (68, 11): 1, (4, 8): 2, (8, 18): 4, (3, 67): 1, (67, 44): 1, (30, 74): 1, (74, 34): 4, (71, 69): 1, (69, 52): 3, (52, 59): 4, (59, 66): 1, (66, 95): 3, (3, 79): 1, (76, 71): 1, (66, 34): 1, (34, 2): 1, (50, 48): 2, (96, 32): 1, (85, 94): 4, (46, 4): 3, (4, 83): 1, (83, 81): 1, (44, 63): 1, (43, 51): 2, (3, 85): 3, (67, 68): 2, (68, 44): 2, (44, 49): 3, (67, 81): 1, (81, 9): 1, (9, 57): 1, (57, 16): 1, (16, 19): 1, (91, 96): 1, (96, 26): 2, (72, 16): 2, (16, 59): 4, (59, 53): 1, (53, 40): 1, (68, 68): 2, (68, 16): 1, (59, 97): 2, (49, 17): 1, (17, 20): 1, (20, 74): 1, (74, 71): 1, (71, 72): 3, (40, 81): 5, (81, 32): 1, (32, 29): 2, (29, 28): 1, (77, 77): 1, (77, 46): 3, (63, 52): 1, (52, 6): 1, (6, 81): 1, (81, 5): 1, (5, 55): 2, (94, 10): 3, (10, 12): 2, (12, 20): 4, (20, 71): 1, (72, 34): 1, (86, 42): 2, (42, 64): 1, (64, 38): 2, (38, 17): 1, (17, 66): 2, (42, 27): 2, (30, 15): 3, (70, 12): 2, (33, 40): 1, (81, 86): 2, (86, 46): 1, (46, 90): 1, (87, 5): 1, (5, 86): 3, (86, 75): 3, (46, 7): 1, (7, 2): 1, (57, 29): 2, (29, 88): 3, (73, 86): 2, (15, 62): 2, (62, 45): 1, (45, 28): 1, (28, 25): 1, (0, 63): 4, (63, 45): 2, (45, 49): 1, (63, 29): 1, (29, 0): 2, (0, 49): 2, (49, 53): 1, (53, 0): 2, (0, 32): 3, (70, 95): 1, (14, 62): 1, (62, 16): 1, (5, 83): 3, (83, 11): 1, (30, 9): 2, (86, 5): 1, (5, 14): 1, (14, 7): 2, (7, 52): 2, (52, 89): 2, (1, 11): 1, (8, 49): 1, (49, 50): 1, (50, 25): 3, (25, 60): 3, (60, 4): 2, (4, 17): 3, (39, 64): 1, (64, 93): 3, (93, 1): 1, (1, 12): 2, (12, 41): 1, (41, 82): 2, (66, 92): 2, (92, 16): 2, (16, 65): 1, (65, 39): 1, (42, 59): 2, (55, 59): 2, (59, 63): 1, (70, 68): 2, (68, 86): 2, (86, 22): 3, (22, 21): 1, (21, 70): 2, (70, 46): 1, (1, 52): 1, (18, 9): 3, (9, 98): 2, (18, 75): 2, (75, 70): 3, (7, 42): 1, (42, 11): 1, (11, 51): 1, (77, 23): 2, (4, 81): 1, (81, 95): 4, (95, 24): 1, (13, 9): 2, (9, 64): 1, (64, 63): 2, (63, 21): 2, (21, 49): 5, (49, 61): 3, (61, 30): 2, (30, 48): 1, (48, 10): 3, (10, 84): 4, (84, 59): 2, (48, 36): 2, (36, 61): 4, (61, 88): 1, (5, 82): 1, (82, 51): 1, (51, 56): 1, (41, 32): 1, (32, 52): 1, (99, 95): 4, (95, 9): 2, (11, 60): 1, (60, 63): 2, (63, 77): 1, (77, 30): 1, (30, 27): 2, (27, 90): 2, (90, 25): 2, (3, 73): 1, (73, 5): 4, (65, 75): 1, (32, 35): 2, (35, 34): 3, (46, 9): 3, (9, 41): 2, (95, 33): 1, (33, 50): 1, (50, 55): 1, (55, 38): 1, (38, 80): 1, (80, 57): 1, (53, 78): 2, (78, 59): 1, (59, 58): 1, (58, 19): 2, (19, 67): 2, (73, 41): 1, (41, 87): 1, (87, 91): 1, (92, 25): 3, (25, 81): 1, (81, 35): 2, (35, 83): 3, (83, 40): 6, (40, 31): 3, (28, 56): 2, (72, 3): 1, (3, 23): 2, (23, 6): 2, (42, 2): 1, (40, 4): 1, (1, 73): 3, (77, 5): 3, (5, 11): 1, (11, 13): 1, (61, 13): 2, (13, 15): 1, (15, 20): 2, (20, 93): 2, (93, 87): 1, (87, 97): 1, (97, 42): 1, (20, 9): 1, (9, 48): 1, (48, 93): 2, (93, 93): 3, (83, 55): 2, (55, 66): 3, (66, 90): 5, (90, 6): 3, (25, 20): 1, (20, 37): 4, (37, 18): 1, (18, 6): 2, (6, 92): 1, (28, 27): 1, (27, 5): 1, (5, 1): 1, (1, 84): 2, (84, 30): 1, (30, 43): 1, (13, 60): 2, (60, 40): 2, (14, 75): 2, (46, 91): 1, (91, 89): 1, (89, 31): 5, (31, 57): 2, (57, 50): 2, (50, 21): 4, (28, 51): 2, (91, 24): 1, (98, 88): 2, (88, 30): 1, (43, 67): 3, (61, 89): 2, (4, 56): 5, (56, 29): 1, (29, 53): 2, (26, 81): 1, (81, 76): 1, (76, 32): 1, (56, 48): 2, (48, 70): 2, (4, 11): 2, (11, 24): 1, (9, 10): 1, (10, 61): 1, (25, 95): 2, (79, 78): 2, (12, 14): 1, (1, 93): 2, (93, 25): 4, (25, 46): 1, (46, 75): 1, (75, 98): 2, (20, 44): 2, (53, 19): 1, (10, 8): 1, (38, 40): 3, (95, 66): 2, (24, 0): 3, (0, 20): 1, (20, 80): 1, (80, 73): 1, (3, 88): 2, (21, 96): 1, (96, 14): 1, (14, 31): 5, (31, 70): 1, (36, 38): 3, (4, 39): 1, (11, 4): 3, (4, 67): 1, (67, 52): 1, (52, 95): 1, (95, 30): 1, (30, 6): 1, (6, 52): 1, (52, 1): 2, (1, 13): 1, (13, 67): 2, (67, 86): 4, (22, 37): 3, (37, 72): 1, (72, 48): 1, (42, 39): 2, (43, 94): 4, (10, 14): 3, (13, 5): 1, (15, 63): 1, (63, 84): 3, (19, 88): 1, (88, 81): 2, (81, 98): 1, (16, 27): 1, (27, 47): 2, (47, 43): 2, (43, 22): 1, (50, 42): 1, (32, 6): 1, (6, 6): 2, (6, 35): 1, (35, 63): 1, (34, 35): 3, (83, 98): 1, (69, 63): 1, (63, 44): 1, (87, 38): 1, (95, 94): 1, (97, 44): 2, (44, 27): 1, (27, 6): 2, (6, 94): 1, (94, 30): 2, (8, 31): 2, (58, 5): 4, (40, 82): 1, (82, 94): 1, (4, 20): 1, (20, 95): 1, (95, 10): 3, (10, 65): 1, (65, 72): 3, (47, 92): 2, (92, 65): 3, (14, 55): 1, (23, 66): 1, (95, 21): 1, (12, 19): 2, (19, 21): 1, (94, 75): 1, (80, 30): 3, (30, 44): 4, (44, 90): 3, (56, 43): 2, (30, 73): 1, (36, 13): 1, (13, 51): 1, (51, 87): 1, (87, 93): 3, (93, 94): 4, (28, 21): 2, (21, 35): 1, (35, 40): 1, (40, 66): 1, (20, 0): 3, (0, 24): 1, (63, 64): 1, (64, 80): 1, (80, 91): 1, (79, 99): 1, (9, 75): 1, (75, 73): 1, (61, 43): 1, (43, 24): 1, (50, 38): 1, (93, 4): 2, (60, 78): 1, (78, 70): 2, (70, 64): 4, (64, 99): 2, (99, 23): 1, (23, 59): 2, (59, 4): 1, (4, 51): 2, (51, 70): 1, (70, 94): 1, (94, 13): 1, (13, 65): 2, (65, 42): 3, (76, 21): 4, (21, 63): 3, (63, 55): 1, (23, 94): 1, (59, 64): 2, (64, 7): 1, (63, 35): 1, (84, 81): 2, (77, 73): 1, (77, 43): 1, (51, 4): 1, (4, 87): 1, (87, 40): 1, (56, 54): 1, (47, 26): 2, (26, 3): 1, (65, 48): 3, (48, 46): 1, (25, 64): 1, (63, 32): 1, (88, 65): 1, (32, 7): 3, (7, 99): 2, (99, 98): 1, (98, 83): 1, (83, 45): 5, (45, 69): 1, (69, 69): 1, (69, 50): 2, (40, 38): 2, (50, 50): 1, (21, 21): 1, (21, 71): 1, (71, 55): 1, (55, 44): 1, (44, 74): 2, (17, 68): 1, (68, 7): 3, (66, 53): 2, (49, 48): 3, (48, 53): 2, (85, 23): 2, (92, 18): 2, (94, 82): 2, (82, 36): 1, (36, 98): 1, (18, 0): 2, (56, 65): 1, (65, 23): 1, (11, 44): 2, (20, 89): 2, (89, 74): 2, (66, 96): 2, (22, 75): 2, (75, 21): 1, (94, 28): 2, (24, 71): 2, (49, 51): 4, (7, 15): 2, (15, 10): 1, (10, 1): 1, (1, 26): 2, (26, 47): 2, (16, 86): 3, (45, 36): 2, (36, 86): 1, (86, 96): 2, (96, 4): 2, (4, 10): 1, (10, 28): 1, (28, 60): 2, (60, 29): 1, (29, 16): 3, (76, 96): 1, (96, 66): 1, (66, 47): 2, (47, 99): 2, (99, 31): 2, (36, 26): 3, (26, 21): 1, (21, 3): 1, (80, 47): 1, (47, 49): 1, (68, 69): 1, (69, 55): 1, (55, 67): 1, (77, 50): 3, (50, 13): 1, (58, 29): 2, (97, 15): 1, (15, 48): 2, (48, 90): 2, (98, 34): 1, (21, 19): 2, (59, 57): 1, (57, 52): 3, (52, 10): 1, (10, 72): 2, (40, 99): 2, (99, 80): 1, (63, 61): 1, (61, 82): 1, (82, 61): 1, (61, 93): 3, (97, 96): 1, (96, 38): 2, (38, 29): 3, (29, 5): 2, (0, 18): 2, (10, 66): 4, (88, 62): 3, (62, 85): 1, (85, 87): 1, (87, 27): 1, (27, 3): 4, (63, 22): 2, (38, 3): 1, (88, 11): 3, (69, 71): 2, (51, 86): 1, (86, 34): 1, (21, 73): 1, (45, 39): 3, (39, 47): 5, (47, 91): 2, (48, 22): 1, (22, 74): 2, (87, 54): 1, (40, 22): 1, (22, 95): 3, (95, 86): 3, (86, 15): 1, (85, 13): 1, (23, 92): 1, (92, 51): 1, (51, 85): 1, (40, 8): 1, (98, 6): 2, (8, 25): 2, (92, 49): 2, (78, 5): 3, (22, 20): 1, (41, 76): 1, (76, 36): 3, (36, 37): 1, (37, 69): 2, (69, 61): 2, (99, 49): 2, (17, 99): 2, (99, 62): 2, (86, 73): 1, (27, 57): 1, (53, 14): 1, (14, 9): 1, (9, 61): 1, (61, 6): 2, (65, 70): 1, (93, 28): 2, (28, 19): 1, (19, 75): 1, (49, 25): 2, (21, 65): 1, (43, 41): 2, (81, 85): 2, (85, 81): 1, (57, 22): 2, (22, 96): 2, (96, 64): 2, (64, 67): 2, (66, 88): 2, (12, 30): 4, (30, 17): 2, (17, 30): 1, (30, 1): 1, (26, 28): 2, (51, 68): 3, (68, 2): 1, (2, 97): 2, (19, 54): 1, (15, 28): 2, (28, 74): 1, (41, 2): 2, (2, 60): 2, (60, 92): 1, (25, 80): 2, (80, 43): 1, (43, 52): 1, (52, 58): 2, (58, 30): 1, (30, 7): 1, (7, 96): 1, (38, 88): 1, (88, 19): 1, (19, 32): 1, (32, 91): 1, (55, 40): 1, (85, 77): 3, (90, 97): 1, (97, 50): 1, (50, 84): 1, (84, 28): 1, (28, 98): 1, (12, 1): 2, (1, 39): 1, (39, 3): 4, (88, 94): 3, (94, 85): 2, (34, 65): 1, (65, 47): 2, (9, 53): 1, (24, 13): 2, (13, 97): 1, (97, 86): 3, (86, 86): 1, (86, 32): 3, (32, 86): 2, (64, 8): 2, (98, 24): 1, (24, 76): 1, (47, 56): 2, (37, 46): 3, (60, 5): 2, (5, 60): 1, (60, 8): 2, (42, 74): 1, (59, 32): 2, (7, 9): 2, (9, 84): 2, (84, 95): 3, (95, 76): 1, (76, 91): 1, (69, 90): 1, (90, 57): 2, (3, 36): 4, (57, 83): 1, (17, 93): 1, (28, 94): 4, (18, 83): 1, (83, 57): 1, (20, 51): 2, (51, 81): 2, (81, 1): 1, (2, 84): 1, (84, 2): 2, (14, 4): 2, (4, 58): 1, (71, 50): 1, (96, 98): 3, (2, 43): 1, (43, 56): 1, (56, 13): 3, (9, 88): 1, (36, 52): 2, (52, 69): 1, (87, 70): 3, (70, 60): 1, (60, 77): 2, (46, 27): 2, (27, 96): 1, (30, 65): 1, (65, 92): 1, (77, 21): 1, (16, 63): 1, (63, 58): 1, (3, 87): 2, (87, 60): 1, (37, 70): 1, (70, 24): 1, (24, 16): 1, (16, 64): 1, (62, 72): 1, (72, 56): 1, (18, 48): 1, (48, 58): 2, (58, 11): 1, (19, 6): 1, (6, 49): 2, (49, 18): 1, (76, 93): 1, (93, 50): 2, (50, 99): 2, (44, 66): 1, (66, 20): 1, (20, 98): 1, (98, 80): 2, (90, 46): 3, (42, 6): 1, (6, 98): 1, (98, 27): 1, (27, 33): 3, (33, 10): 2, (10, 50): 1, (50, 28): 1, (28, 72): 2, (12, 78): 1, (78, 37): 1, (97, 94): 1, (6, 16): 3, (16, 49): 1, (55, 31): 1, (31, 59): 2, (59, 98): 2, (98, 3): 2, (3, 94): 1, (94, 43): 2, (43, 27): 1, (90, 1): 2, (8, 48): 1, (74, 48): 2, (19, 23): 1, (62, 73): 2, (73, 63): 1, (2, 87): 1, (87, 37): 1, (37, 59): 2, (59, 72): 1, (72, 97): 3, (97, 66): 3, (66, 60): 2, (60, 82): 1, (82, 26): 2, (26, 93): 1, (93, 71): 1, (91, 78): 1, (49, 97): 1, (97, 43): 3, (43, 10): 2, (86, 11): 1, (75, 80): 1, (80, 28): 1, (28, 82): 1, (82, 96): 2, (96, 51): 2, (51, 90): 3, (48, 27): 3, (60, 30): 1, (30, 90): 1, (90, 14): 2, (14, 58): 2, (58, 20): 1, (37, 37): 1, (37, 39): 1, (47, 48): 2, (6, 21): 2, (38, 8): 1, (8, 54): 2, (0, 91): 1, (91, 30): 2, (9, 36): 2, (36, 18): 2, (80, 77): 1, (77, 33): 1, (33, 64): 2, (18, 78): 2, (78, 15): 3, (15, 16): 2, (77, 15): 3, (40, 52): 2, (52, 75): 1, (75, 55): 1, (55, 80): 2, (80, 49): 1, (44, 85): 3, (85, 38): 1, (75, 61): 1, (93, 7): 2, (57, 32): 1, (32, 11): 2, (52, 17): 1, (67, 97): 1, (97, 38): 1, (68, 91): 2, (91, 98): 1, (18, 73): 2, (99, 27): 1, (27, 91): 1, (48, 72): 1, (23, 5): 1, (89, 39): 1, (39, 36): 4, (38, 97): 1, (17, 16): 2, (16, 11): 2, (0, 46): 3, (46, 10): 1, (14, 94): 1, (53, 72): 2, (72, 38): 4, (4, 41): 1, (41, 72): 1, (72, 54): 1, (54, 52): 1, (52, 0): 4, (0, 6): 2, (57, 68): 1, (40, 77): 2, (74, 81): 1, (81, 46): 1, (46, 58): 1, (58, 88): 1, (88, 29): 1, (29, 82): 1, (82, 76): 2, (95, 17): 2, (65, 83): 1, (82, 75): 3, (75, 27): 1, (27, 68): 1, (71, 42): 1, (42, 49): 1, (64, 68): 1, (73, 44): 1, (89, 55): 1, (55, 52): 1, (52, 25): 2, (2, 72): 3, (58, 91): 1, (91, 2): 1, (85, 20): 2, (51, 47): 1, (93, 23): 1, (23, 68): 1, (25, 31): 1, (31, 63): 1, (13, 44): 1, (44, 35): 1, (35, 52): 1, (52, 20): 1, (20, 15): 1, (29, 47): 1, (88, 46): 2, (98, 32): 1, (32, 78): 2, (26, 34): 2, (34, 58): 2, (58, 47): 2, (0, 54): 2, (59, 1): 2, (1, 20): 2, (20, 26): 4, (95, 96): 1, (96, 31): 1, (31, 97): 2, (81, 69): 3, (69, 64): 2, (64, 72): 1, (72, 45): 1, (45, 51): 1, (62, 42): 2, (16, 52): 1, (52, 57): 1, (15, 1): 1, (1, 27): 1, (11, 64): 1, (19, 87): 1, (68, 50): 2, (75, 3): 1, (3, 28): 1, (28, 63): 1, (63, 38): 2, (30, 45): 1, (45, 42): 1, (42, 87): 1, (87, 12): 1, (12, 50): 1, (78, 18): 3, (0, 10): 2, (10, 70): 3, (71, 15): 2, (48, 94): 1, (94, 31): 1, (31, 42): 2, (82, 7): 1, (7, 6): 1, (75, 39): 1, (55, 71): 1, (71, 60): 1, (60, 0): 1, (0, 84): 1, (84, 76): 1, (66, 76): 1, (81, 15): 2, (3, 78): 1, (16, 14): 1, (90, 9): 3, (9, 56): 3, (95, 73): 1, (73, 31): 1, (31, 12): 3, (12, 48): 1, (30, 93): 1, (93, 57): 3, (57, 82): 1, (75, 25): 1, (25, 39): 3, (39, 88): 1, (91, 71): 1, (71, 21): 1, (63, 93): 1, (25, 27): 1, (27, 56): 4, (14, 68): 1, (24, 36): 1, (36, 29): 1, (29, 72): 1, (31, 61): 1, (61, 12): 2, (3, 76): 2, (76, 34): 1, (34, 14): 1, (14, 51): 1, (51, 49): 2, (49, 86): 1, (86, 93): 1, (62, 82): 1, (82, 35): 1, (95, 25): 2, (39, 23): 1, (85, 86): 3, (87, 77): 3, (77, 61): 3, (61, 23): 1, (93, 67): 2, (67, 15): 1, (15, 69): 1, (69, 16): 2, (16, 41): 4, (64, 11): 2, (35, 22): 1, (22, 41): 1, (47, 81): 1, (81, 39): 1, (59, 73): 2, (73, 94): 1, (49, 28): 1, (2, 80): 1, (18, 22): 2, (22, 36): 1, (36, 43): 1, (43, 72): 2, (72, 99): 2, (99, 78): 1, (78, 8): 3, (8, 43): 1, (59, 87): 2, (87, 46): 1, (46, 1): 1, (1, 47): 1, (47, 83): 1, (83, 64): 2, (64, 85): 1, (85, 59): 1, (82, 52): 3, (92, 73): 1, (73, 1): 2, (1, 66): 1, (66, 37): 1, (37, 27): 2, (64, 44): 1, (69, 26): 2, (84, 36): 2, (36, 11): 1, (92, 9): 2, (9, 18): 2, (78, 2): 1, (2, 90): 1, (74, 10): 3, (10, 6): 3, (6, 18): 1, (6, 75): 1, (47, 45): 1, (45, 59): 1, (59, 90): 3, (59, 12): 2, (3, 6): 2, (3, 51): 2, (52, 33): 1, (33, 43): 2, (94, 69): 1, (69, 85): 1, (3, 42): 1, (47, 86): 1, (52, 23): 1, (78, 31): 2, (61, 73): 1, (73, 80): 2, (13, 12): 1, (33, 37): 1, (37, 77): 1, (77, 56): 3, (53, 69): 1, (69, 46): 3, (79, 8): 3, (45, 5): 1, (5, 88): 2, (88, 7): 1, (83, 62): 1, (40, 76): 1, (76, 77): 1, (68, 48): 1, (58, 99): 2, (46, 80): 1, (80, 70): 3, (70, 54): 3, (54, 40): 2, (40, 7): 1, (7, 72): 1, (75, 94): 3, (43, 70): 1, (70, 50): 1, (50, 98): 2, (3, 62): 1, (18, 13): 1, (13, 20): 1, (8, 30): 1, (29, 66): 1, (33, 12): 1, (12, 39): 1, (52, 37): 2, (37, 76): 1, (31, 52): 3, (52, 81): 2, (81, 52): 1, (52, 32): 2, (87, 21): 2, (21, 25): 3, (53, 98): 2, (24, 61): 1, (61, 70): 1, (39, 4): 1, (43, 87): 2, (87, 4): 1, (8, 97): 1, (97, 52): 1, (1, 25): 4, (93, 64): 2, (64, 6): 1, (83, 23): 1, (73, 28): 2, (94, 27): 1, (97, 45): 1, (45, 97): 1, (65, 62): 1, (62, 88): 2, (14, 39): 1, (49, 49): 1, (49, 36): 4, (38, 12): 1, (12, 32): 1, (48, 1): 1, (11, 27): 1, (27, 32): 2, (32, 50): 3, (50, 87): 3, (87, 33): 1, (89, 11): 2, (11, 52): 2, (52, 36): 1, (52, 70): 1, (70, 84): 3, (82, 58): 2, (58, 33): 1, (64, 37): 2, (37, 9): 2, (41, 26): 2, (20, 39): 1, (39, 24): 1, (24, 96): 2, (87, 80): 1, (80, 13): 1, (19, 53): 1, (53, 82): 2, (96, 79): 1, (22, 29): 2, (45, 94): 1, (94, 16): 1, (50, 30): 1, (30, 14): 4, (14, 50): 3, (47, 72): 1, (72, 64): 1, (99, 85): 1, (79, 16): 1, (16, 26): 2, (44, 99): 3, (99, 77): 1, (30, 12): 2, (12, 18): 1, (18, 67): 2, (21, 80): 2, (30, 99): 1, (82, 29): 4, (15, 86): 1, (86, 65): 2, (65, 12): 2, (12, 53): 1, (11, 77): 1, (22, 10): 1, (74, 97): 1, (32, 31): 1, (31, 53): 1, (74, 16): 2, (63, 2): 3, (2, 68): 3, (58, 72): 2, (72, 71): 1, (10, 33): 1, (33, 2): 2, (83, 67): 2, (1, 89): 1, (89, 15): 1, (71, 47): 1, (47, 53): 1, (22, 88): 2, (88, 37): 2, (37, 66): 1, (90, 69): 4, (29, 99): 2, (99, 69): 3, (12, 79): 1, (78, 20): 2, (41, 49): 1, (49, 59): 2, (78, 69): 1, (62, 46): 1, (9, 11): 1, (76, 56): 1, (29, 26): 1, (34, 61): 1, (27, 63): 1, (63, 18): 1, (10, 44): 4, (30, 0): 1, (46, 13): 1, (13, 95): 1, (49, 81): 1, (77, 45): 1, (45, 52): 1, (62, 69): 2, (69, 25): 1, (25, 53): 3, (53, 50): 2, (31, 1): 2, (1, 58): 1, (58, 4): 3, (4, 84): 1, (84, 19): 1, (59, 79): 1, (9, 55): 1, (55, 27): 2, (27, 92): 1, (96, 47): 2, (47, 62): 2, (62, 53): 2, (53, 57): 1, (57, 86): 2, (75, 41): 1, (41, 79): 1, (93, 34): 1, (25, 33): 1, (33, 0): 2, (0, 21): 2, (19, 31): 1, (31, 54): 1, (54, 45): 1, (39, 56): 1, (56, 88): 1, (45, 8): 2, (46, 64): 1, (64, 86): 2, (35, 14): 1, (14, 86): 1, (86, 59): 1, (59, 80): 1, (81, 30): 1, (30, 79): 1, (79, 64): 2, (98, 98): 1, (41, 88): 2, (88, 71): 2, (39, 70): 2, (70, 78): 1, (78, 0): 1, (0, 69): 1, (19, 0): 2, (0, 57): 1, (71, 16): 1, (16, 22): 2, (18, 81): 2, (69, 34): 1, (19, 29): 1, (29, 85): 1, (96, 23): 1, (23, 2): 1, (2, 58): 1, (58, 50): 1, (76, 55): 1, (60, 57): 2, (57, 65): 2, (65, 60): 1, (60, 50): 2, (94, 64): 2, (64, 42): 1, (91, 23): 1, (47, 82): 1, (82, 81): 2, (81, 99): 1, (99, 72): 1, (72, 39): 2, (39, 57): 1, (57, 18): 1, (70, 83): 1, (83, 47): 3, (47, 19): 2, (85, 65): 1, (90, 53): 1, (36, 30): 3, (53, 17): 3, (17, 90): 3, (59, 39): 1, (21, 5): 2, (56, 77): 2, (56, 25): 3, (2, 7): 2, (7, 10): 1, (10, 57): 1, (89, 30): 1, (55, 60): 1, (60, 12): 1, (12, 90): 2, (90, 10): 2, (71, 32): 2, (32, 23): 1, (88, 17): 1, (67, 35): 1, (35, 8): 1, (72, 32): 1, (76, 45): 1, (45, 2): 2, (2, 79): 2, (79, 77): 1, (15, 82): 1, (82, 54): 1, (54, 31): 1, (49, 11): 1, (11, 32): 1, (35, 75): 1, (33, 61): 1, (29, 73): 1, (93, 58): 1, (58, 13): 2, (11, 35): 2, (35, 73): 1, (6, 66): 2, (66, 3): 2, (15, 47): 1, (43, 19): 2, (19, 57): 1, (62, 75): 4, (42, 97): 3, (97, 67): 1, (53, 16): 2, (16, 30): 1, (30, 41): 2, (10, 4): 1, (4, 90): 2, (92, 99): 2, (95, 81): 1, (69, 9): 3, (9, 49): 1, (7, 5): 2, (5, 43): 1, (5, 44): 1, (44, 51): 1, (51, 37): 1, (37, 95): 1, (70, 63): 1, (31, 30): 1, (96, 2): 1, (26, 85): 1, (8, 68): 2, (68, 54): 2, (80, 16): 2, (2, 89): 1, (89, 92): 2, (43, 37): 1, (37, 29): 2, (97, 93): 1, (53, 38): 1, (64, 23): 2, (23, 38): 1, (38, 0): 1, (0, 85): 1, (93, 60): 1, (60, 89): 1, (89, 0): 1, (55, 1): 1, (35, 45): 1, (45, 13): 1, (13, 11): 1, (21, 29): 1, (25, 57): 4, (75, 16): 2, (16, 62): 1, (12, 82): 1, (86, 55): 1, (14, 40): 1, (40, 67): 1, (67, 88): 1, (88, 31): 1, (31, 45): 1, (84, 58): 2, (58, 79): 2, (3, 64): 1, (50, 82): 1, (82, 82): 1, (21, 89): 3, (47, 98): 1, (98, 39): 2, (95, 38): 1, (38, 91): 1, (91, 74): 2, (34, 9): 1, (37, 30): 1, (30, 71): 1, (71, 67): 1, (14, 90): 2, (90, 40): 1, (16, 17): 1, (17, 6): 1, (37, 45): 1, (45, 82): 1, (82, 17): 1, (17, 36): 1, (36, 40): 1, (40, 28): 2, (28, 96): 2, (98, 19): 1, (1, 32): 1, (36, 4): 1, (63, 97): 1, (97, 47): 1, (47, 9): 1, (9, 65): 1, (65, 5): 1, (5, 92): 1, (54, 70): 1, (70, 0): 1, (82, 84): 2, (84, 37): 3, (59, 62): 2, (30, 82): 3, (82, 45): 1, (45, 7): 1, (64, 57): 1, (77, 99): 1, (49, 88): 1, (4, 24): 3, (6, 85): 2, (98, 21): 2, (21, 41): 1, (80, 52): 1, (52, 40): 2, (48, 38): 1, (37, 41): 2, (41, 31): 2, (10, 78): 1, (75, 93): 1, (93, 74): 1, (87, 11): 1, (47, 30): 1, (48, 52): 2, (30, 72): 1, (40, 94): 1, (10, 31): 3, (33, 95): 2, (95, 92): 1, (92, 53): 1, (53, 91): 1, (91, 58): 1, (58, 52): 2, (52, 74): 1, (74, 61): 1, (61, 76): 1, (15, 25): 1, (83, 75): 2, (9, 99): 2, (40, 91): 1, (91, 35): 3, (35, 17): 1, (17, 48): 3, (52, 28): 1, (38, 38): 3, (37, 22): 1, (22, 85): 1, (17, 3): 2, (36, 48): 1, (61, 85): 1, (85, 0): 2, (10, 42): 1, (42, 81): 1, (52, 3): 1, (74, 58): 1, (42, 22): 1, (34, 40): 1, (40, 21): 1, (21, 11): 2, (55, 78): 1, (78, 16): 2, (39, 54): 2, (92, 98): 3, (78, 71): 1, (71, 7): 1, (12, 80): 1, (90, 21): 1, (10, 43): 1, (7, 3): 1, (74, 66): 1, (66, 4): 1, (4, 21): 2, (21, 43): 1, (43, 96): 5, (96, 84): 1, (84, 87): 1, (20, 12): 2, (12, 56): 1, (8, 64): 1, (16, 60): 2, (60, 55): 2, (55, 26): 1, (35, 2): 1, (0, 78): 5, (26, 79): 2, (79, 81): 1, (15, 46): 1, (46, 26): 3, (62, 14): 4, (14, 74): 1, (74, 75): 2, (75, 20): 2, (20, 59): 1, (20, 63): 1, (76, 7): 1, (7, 57): 1, (49, 23): 1, (58, 48): 1, (68, 57): 2, (57, 51): 1, (51, 99): 3, (99, 60): 1, (5, 32): 1, (75, 85): 2, (23, 14): 1, (19, 81): 1, (81, 63): 1, (63, 92): 2, (92, 61): 1, (89, 28): 3, (61, 15): 2, (46, 18): 2, (18, 47): 1, (47, 80): 1, (87, 6): 2, (99, 18): 1, (80, 88): 1, (95, 34): 1, (72, 87): 2, (31, 80): 1, (32, 68): 2, (73, 64): 2, (64, 69): 1, (69, 10): 2, (27, 22): 1, (22, 66): 2, (18, 23): 1, (23, 61): 2, (7, 85): 1, (85, 18): 1, (18, 37): 3, (37, 40): 1, (58, 16): 1, (16, 79): 1, (79, 14): 2, (31, 68): 2, (94, 22): 2, (22, 94): 1, (94, 56): 3, (56, 80): 3, (80, 82): 1, (60, 62): 1, (62, 10): 2, (12, 37): 1, (37, 86): 1, (69, 79): 1, (28, 30): 1, (1, 69): 1, (69, 29): 1, (29, 60): 1, (65, 24): 1, (24, 54): 2, (54, 92): 1, (20, 18): 1, (18, 39): 1, (20, 84): 1, (37, 83): 1, (83, 46): 1, (98, 57): 1, (57, 24): 3, (34, 11): 2, (18, 85): 1, (77, 18): 1, (73, 43): 1, (10, 81): 1, (45, 74): 1, (42, 9): 1, (89, 81): 1, (81, 36): 1, (83, 20): 1, (20, 36): 2, (22, 87): 1, (93, 82): 1, (82, 49): 1, (59, 33): 3, (3, 56): 1, (42, 93): 1, (94, 9): 2, (9, 38): 1, (38, 44): 1, (44, 1): 1, (93, 20): 1, (20, 88): 2, (88, 64): 1, (64, 18): 1, (45, 80): 1, (80, 85): 1, (88, 40): 1, (68, 65): 2, (22, 11): 1, (11, 21): 1, (34, 92): 1, (47, 70): 2, (59, 38): 2, (44, 15): 1, (89, 83): 1, (51, 14): 1, (14, 15): 2, (70, 23): 2, (23, 73): 1, (73, 3): 1, (35, 46): 1, (26, 69): 2, (50, 95): 2, (64, 10): 1, (10, 76): 2, (30, 34): 1, (34, 96): 1, (19, 3): 1, (3, 68): 1, (68, 33): 1, (33, 63): 2, (63, 1): 1, (39, 39): 3, (39, 61): 1, (61, 87): 1, (87, 52): 2, (52, 82): 2, (86, 98): 1, (85, 48): 1, (45, 10): 1, (23, 69): 1, (7, 17): 2, (17, 1): 1, (99, 15): 1, (15, 55): 1, (55, 63): 1, (63, 75): 1, (85, 69): 1, (69, 58): 1, (58, 84): 1, (84, 44): 2, (7, 36): 1, (75, 13): 1, (61, 9): 1, (9, 21): 1, (49, 65): 2, (31, 25): 1, (71, 8): 1, (97, 24): 2, (24, 62): 1, (0, 15): 1, (15, 88): 1, (11, 90): 1, (90, 16): 1, (16, 74): 2, (74, 55): 2, (92, 40): 1, (40, 20): 2, (8, 51): 1, (51, 48): 1, (72, 2): 1, (10, 29): 3, (29, 18): 1, (32, 8): 1, (8, 53): 1, (53, 48): 2, (10, 75): 2, (75, 12): 1, (90, 47): 1, (22, 22): 4, (91, 7): 1, (9, 33): 2, (61, 19): 1, (91, 75): 1, (2, 25): 1, (25, 12): 1, (12, 96): 1, (96, 10): 1, (10, 13): 1, (29, 36): 2, (36, 82): 1, (82, 41): 1, (99, 91): 2, (46, 38): 2, (87, 66): 1, (83, 87): 1, (81, 73): 2, (55, 90): 1, (88, 0): 1, (66, 67): 1, (86, 30): 1, (26, 66): 2, (66, 17): 1, (68, 52): 1, (75, 81): 1, (81, 49): 1, (16, 0): 1, (94, 4): 2, (1, 15): 1, (15, 66): 1, (58, 98): 1, (20, 76): 3, (46, 11): 1, (8, 92): 1, (19, 19): 1, (19, 14): 3, (14, 66): 3, (9, 6): 2, (62, 20): 2, (20, 13): 1, (13, 1): 2, (20, 46): 1, (46, 12): 1, (30, 86): 1, (86, 27): 1, (81, 62): 1, (62, 0): 1, (0, 53): 1, (27, 99): 1, (69, 45): 1, (68, 30): 2, (30, 29): 1, (5, 71): 2, (11, 16): 1, (20, 30): 1, (14, 1): 1, (49, 68): 2, (66, 87): 1, (92, 80): 1, (80, 39): 2, (5, 29): 1, (44, 55): 1, (61, 38): 1, (38, 2): 1, (2, 8): 1, (54, 73): 1, (33, 26): 1, (26, 59): 3, (93, 89): 3, (89, 25): 1, (72, 86): 1, (86, 20): 1, (20, 68): 2, (68, 53): 1, (64, 12): 2, (12, 58): 1, (58, 53): 1, (84, 54): 1, (54, 43): 1, (98, 89): 1, (8, 77): 1, (77, 59): 2, (89, 50): 2, (3, 70): 3, (78, 80): 1, (94, 66): 1, (66, 80): 1, (45, 60): 1, (53, 89): 1, (89, 37): 2, (61, 84): 1, (45, 55): 1, (28, 23): 1, (23, 84): 1, (84, 83): 1, (5, 21): 2, (45, 53): 1, (40, 83): 1, (83, 74): 2, (74, 65): 1, (65, 29): 2, (33, 75): 1, (75, 45): 1, (45, 86): 2, (82, 92): 1, (42, 8): 1, (8, 73): 1, (73, 90): 1, (7, 61): 1, (61, 51): 1, (51, 12): 1, (12, 47): 1, (43, 58): 1, (99, 97): 1, (97, 81): 1, (81, 91): 1, (91, 18): 1, (75, 74): 1, (74, 46): 2, (82, 71): 1, (94, 24): 1, (96, 75): 1, (75, 68): 1, (65, 65): 2, (21, 81): 1, (81, 78): 1, (6, 47): 1, (91, 93): 1, (5, 20): 1, (74, 0): 1, (83, 10): 1, (44, 60): 1, (23, 12): 1, (12, 12): 2, (12, 89): 3, (49, 58): 3, (68, 63): 3, (38, 20): 1, (50, 19): 1, (19, 86): 1, (86, 24): 1, (17, 94): 2, (94, 25): 1, (39, 63): 1, (63, 51): 2, (99, 99): 2, (91, 33): 1, (33, 82): 1, (43, 15): 1, (15, 44): 1, (44, 73): 3, (73, 21): 2, (80, 97): 1, (97, 85): 1, (85, 45): 2, (86, 56): 2, (56, 20): 1, (85, 50): 1, (50, 93): 1, (94, 61): 1, (61, 42): 1, (77, 55): 2, (40, 30): 1, (30, 5): 1, (64, 87): 1, (87, 2): 1, (89, 35): 1, (35, 55): 2, (25, 77): 2, (77, 84): 1, (84, 33): 2, (33, 92): 1, (42, 75): 2, (75, 31): 1, (31, 37): 1, (63, 98): 1, (98, 47): 1, (47, 6): 1, (3, 40): 1, (21, 69): 2, (78, 87): 2, (93, 40): 1, (40, 63): 1, (57, 61): 1, (86, 37): 1, (37, 24): 2, (13, 96): 1, (25, 36): 2, (36, 42): 2, (42, 17): 1, (17, 0): 1, (57, 58): 3, (58, 35): 1, (33, 32): 1, (32, 43): 1, (95, 68): 1, (68, 98): 2, (50, 79): 1, (44, 50): 1, (90, 98): 1, (63, 30): 1, (30, 56): 1, (67, 39): 1, (52, 55): 1, (84, 97): 1, (13, 81): 1, (13, 79): 2, (79, 47): 1, (47, 75): 2, (16, 56): 2, (32, 72): 2, (72, 27): 1, (86, 89): 1, (94, 49): 1, (49, 71): 1, (71, 73): 1, (0, 52): 1, (52, 16): 1, (50, 74): 3, (92, 74): 1, (97, 18): 1, (18, 61): 1, (61, 44): 1, (44, 9): 1, (68, 43): 3, (87, 99): 1, (43, 97): 2, (27, 15): 1, (29, 50): 2, (50, 29): 1, (98, 92): 1, (55, 74): 1, (76, 97): 2, (97, 62): 3, (84, 17): 2, (99, 94): 1, (94, 62): 2, (62, 37): 1, (37, 48): 1, (48, 17): 2, (17, 10): 1, (31, 99): 1, (1, 85): 1, (64, 55): 1, (82, 40): 1, (52, 85): 1, (12, 52): 1, (38, 34): 1, (85, 74): 1, (48, 11): 1, (11, 61): 1, (61, 18): 1, (18, 71): 1, (71, 80): 1, (75, 75): 2, (54, 48): 1, (54, 12): 1, (20, 85): 1, (4, 80): 1, (80, 40): 1, (40, 33): 2, (35, 94): 1, (62, 21): 1, (21, 8): 1, (52, 60): 1, (60, 90): 1, (90, 37): 1, (37, 0): 1, (19, 84): 1, (84, 21): 1, (76, 41): 2, (41, 37): 2, (37, 91): 1, (91, 6): 1, (46, 22): 1, (6, 36): 1, (36, 92): 1, (92, 41): 1, (56, 33): 1, (33, 9): 3, (20, 29): 1, (52, 88): 1, (94, 99): 1, (46, 70): 1, (70, 32): 2, (66, 82): 1, (15, 42): 2, (32, 61): 2, (3, 7): 1, (37, 42): 1, (86, 99): 1, (73, 70): 2, (68, 55): 1, (55, 47): 1, (47, 71): 1, (44, 95): 1, (95, 57): 1, (24, 69): 1, (92, 81): 1, (81, 29): 1, (29, 61): 1, (61, 86): 1, (65, 35): 1, (35, 18): 2, (18, 54): 1, (46, 20): 1, (20, 45): 1, (45, 95): 1, (95, 47): 3, (86, 69): 1, (13, 7): 1, (63, 71): 2, (12, 15): 2, (82, 89): 1, (95, 84): 1, (24, 97): 2, (97, 27): 1, (30, 85): 1, (94, 21): 1, (63, 82): 1, (82, 53): 1, (0, 38): 2, (38, 50): 1, (27, 93): 1, (6, 48): 1, (48, 47): 1, (47, 15): 1, (15, 37): 1, (37, 21): 1, (23, 95): 1, (95, 46): 1, (76, 74): 1, (74, 80): 3, (80, 23): 1, (23, 83): 2, (10, 32): 1, (41, 74): 2, (83, 19): 1, (19, 40): 1, (40, 58): 1, (64, 4): 3, (4, 55): 1, (55, 82): 1, (81, 37): 1, (37, 28): 1, (82, 31): 1, (24, 31): 2, (0, 17): 2, (14, 14): 2, (9, 68): 2, (50, 57): 1, (57, 20): 1, (17, 21): 1, (47, 47): 2, (47, 2): 1, (84, 10): 2, (10, 41): 1, (41, 13): 1, (87, 29): 1, (95, 71): 1, (71, 97): 1, (91, 87): 1, (0, 12): 1, (31, 10): 1, (24, 50): 1, (50, 58): 2, (35, 70): 1, (70, 82): 1, (82, 0): 1, (73, 89): 1, (99, 75): 1, (4, 66): 1, (65, 66): 1, (66, 52): 1, (52, 73): 1, (84, 20): 1, (22, 86): 1, (86, 51): 2, (32, 15): 2, (89, 43): 1, (17, 13): 1, (27, 24): 1, (14, 80): 1, (80, 89): 1, (90, 90): 2, (66, 49): 1, (36, 21): 1, (72, 15): 1, (48, 99): 1, (99, 17): 1, (17, 44): 1, (4, 91): 1, (78, 12): 1, (4, 79): 1, (79, 4): 1, (75, 37): 1, (37, 58): 1, (29, 19): 1, (49, 10): 2, (10, 54): 2, (54, 63): 1, (90, 91): 1, (26, 94): 1, (44, 67): 1, (67, 83): 1, (8, 37): 2, (5, 77): 2, (77, 37): 1, (67, 66): 1, (62, 9): 1, (22, 57): 1, (57, 87): 1, (87, 58): 1, (45, 37): 1, (58, 42): 1, (45, 56): 1, (6, 19): 2, (45, 25): 1, (83, 70): 1, (42, 23): 1, (28, 9): 1, (1, 92): 1, (92, 69): 1, (68, 74): 1, (43, 33): 1, (63, 57): 1, (64, 47): 1, (98, 11): 2, (57, 35): 2, (35, 93): 1, (93, 96): 1, (96, 8): 1, (55, 16): 1, (33, 88): 2, (40, 1): 2, (1, 43): 1, (3, 95): 1, (95, 43): 1, (13, 63): 2, (63, 9): 1, (9, 82): 2, (76, 28): 1, (52, 83): 1, (45, 64): 2, (64, 59): 1, (59, 41): 1, (8, 60): 1, (9, 83): 1, (30, 32): 1, (59, 70): 1, (70, 73): 2, (6, 32): 3, (3, 24): 1, (49, 2): 2, (2, 64): 1, (10, 34): 1, (63, 31): 1, (75, 35): 1, (35, 20): 1, (17, 74): 2, (75, 9): 2, (49, 34): 1, (34, 52): 1, (43, 39): 1, (39, 71): 4, (41, 97): 1, (97, 3): 1, (3, 15): 1, (76, 98): 1, (98, 74): 1, (98, 2): 1, (39, 28): 1, (28, 26): 1, (26, 14): 3, (36, 3): 1, (12, 66): 2, (66, 77): 1, (77, 60): 2, (61, 8): 1, (8, 32): 1, (25, 50): 1, (99, 10): 1, (10, 7): 1, (5, 64): 2, (64, 79): 1, (7, 7): 1, (7, 22): 1, (22, 89): 2, (90, 45): 2, (14, 54): 2, (65, 98): 1, (21, 22): 2, (28, 44): 1, (44, 26): 1, (4, 62): 2, (91, 72): 2, (72, 57): 1, (29, 78): 1, (78, 84): 1, (37, 12): 1, (12, 59): 1, (48, 49): 1, (58, 78): 1, (5, 38): 1, (42, 99): 1, (79, 65): 1, (65, 2): 1, (2, 65): 1, (43, 73): 1, (73, 22): 1, (56, 38): 1, (38, 11): 1, (11, 15): 1, (15, 94): 2, (95, 42): 1, (46, 3): 1, (85, 63): 1, (29, 21): 1, (89, 84): 1, (84, 5): 1, (5, 50): 1, (6, 73): 1, (73, 83): 1, (83, 66): 1, (10, 2): 2, (60, 20): 1, (92, 56): 1, (95, 19): 1, (31, 56): 1, (34, 37): 1, (37, 57): 1, (96, 91): 1, (35, 0): 1, (0, 9): 1, (94, 1): 1, (2, 81): 1, (81, 93): 1, (89, 13): 1, (47, 89): 2, (89, 41): 1, (26, 10): 1, (54, 2): 1, (2, 37): 2, (37, 32): 1, (32, 64): 1, (26, 37): 1, (37, 84): 1, (84, 26): 1, (60, 61): 1, (71, 13): 1, (58, 15): 1, (93, 12): 1, (12, 64): 1, (4, 59): 1, (80, 79): 1, (34, 64): 1, (64, 0): 1, (0, 67): 1, (67, 13): 1, (86, 43): 1, (90, 94): 1, (64, 45): 1, (45, 71): 1, (71, 98): 1, (51, 66): 2, (89, 7): 1, (7, 13): 1, (13, 46): 1, (9, 52): 1, (52, 51): 1, (33, 59): 1, (63, 6): 1, (65, 10): 1, (10, 85): 1, (85, 58): 1, (58, 87): 1, (87, 63): 1, (63, 79): 1, (89, 78): 3, (78, 60): 2, (92, 15): 1, (15, 9): 1, (9, 39): 1, (39, 73): 1, (78, 74): 1, (21, 7): 1, (7, 82): 1, (37, 63): 3, (63, 5): 1, (5, 31): 1, (12, 70): 2, (70, 75): 1, (31, 40): 1, (48, 24): 1, (69, 76): 1, (97, 20): 1, (20, 2): 1, (95, 82): 1, (12, 45): 1, (45, 98): 1, (98, 26): 2, (62, 17): 2, (17, 69): 1, (82, 79): 1, (4, 78): 1, (78, 10): 1, (10, 51): 1, (47, 36): 1, (41, 16): 1, (16, 40): 1, (59, 42): 2, (42, 19): 1, (19, 30): 2, (30, 52): 1, (96, 85): 1, (85, 68): 2, (32, 39): 1, (95, 97): 2, (71, 83): 1, (83, 86): 1, (86, 19): 1, (62, 59): 1, (46, 30): 1, (27, 61): 1, (61, 66): 1, (75, 43): 1, (96, 25): 1, (25, 26): 1, (26, 56): 1, (13, 74): 1, (74, 84): 1, (46, 78): 1, (78, 53): 2, (35, 79): 2, (16, 8): 1, (8, 35): 1, (91, 85): 1, (85, 10): 1, (69, 32): 4, (68, 15): 1, (15, 36): 1, (36, 46): 1, (38, 14): 2, (36, 70): 1, (71, 26): 1, (29, 4): 1, (6, 78): 1, (78, 58): 1, (58, 54): 1, (54, 78): 1, (53, 3): 1, (75, 48): 1, (36, 8): 1, (17, 53): 1, (53, 88): 1, (88, 74): 1, (43, 20): 1, (64, 2): 1, (79, 88): 1, (56, 61): 1, (61, 65): 1, (4, 72): 1, (72, 44): 1, (51, 6): 1, (6, 51): 2, (95, 63): 1, (84, 34): 1, (43, 23): 1, (96, 16): 2, (16, 95): 1, (95, 11): 2, (98, 87): 1, (1, 79): 1, (12, 74): 1, (89, 77): 1, (20, 81): 1, (19, 52): 1, (56, 91): 1, (91, 14): 1, (33, 18): 1, (72, 36): 1, (36, 53): 1, (83, 39): 1, (63, 17): 1, (74, 77): 1, (41, 67): 1, (27, 86): 1, (70, 55): 2, (32, 19): 1, (11, 71): 1, (71, 9): 1, (9, 5): 1, (5, 12): 1, (60, 69): 1, (27, 45): 1, (45, 75): 1, (75, 18): 1, (89, 89): 1, (89, 36): 1, (32, 1): 2, (1, 0): 1, (78, 56): 1, (80, 58): 1, (62, 92): 1, (28, 67): 1, (73, 17): 1, (83, 14): 1, (14, 52): 1, (12, 22): 1, (22, 78): 1, (82, 70): 1, (72, 85): 1, (48, 76): 1, (76, 9): 1, (9, 90): 1, (24, 22): 1, (8, 15): 1, (15, 79): 1, (9, 31): 1, (95, 85): 1, (85, 24): 1, (55, 58): 2, (45, 88): 1, (81, 6): 1, (2, 22): 1, (22, 76): 2, (58, 46): 1, (27, 67): 1, (67, 55): 1, (13, 75): 1, (64, 84): 1, (10, 38): 1, (38, 54): 1, (97, 8): 1, (44, 45): 1, (45, 29): 1, (29, 29): 1, (87, 16): 1, (12, 33): 1, (4, 50): 1, (21, 62): 1, (74, 54): 1, (56, 97): 1, (91, 40): 2, (3, 77): 1, (3, 57): 1, (2, 33): 1, (2, 38): 2, (95, 55): 1, (55, 54): 1, (54, 17): 1, (22, 81): 1, (29, 30): 1, (80, 84): 2, (84, 46): 1, (46, 43): 1, (19, 5): 1, (45, 81): 1, (81, 66): 2, (66, 72): 1, (38, 52): 1, (90, 22): 1, (22, 9): 1, (9, 54): 2, (5, 52): 1, (82, 10): 1, (6, 77): 1, (87, 25): 2, (35, 80): 1, (95, 27): 1, (8, 59): 2, (59, 81): 1, (14, 27): 1, (27, 18): 1, (18, 25): 1, (22, 52): 1, (52, 46): 1, (20, 62): 1, (41, 44): 1, (44, 48): 1, (50, 97): 2, (94, 87): 1, (66, 27): 1, (27, 53): 1, (53, 8): 1, (8, 23): 1, (11, 72): 1, (81, 72): 1, (72, 59): 1, (5, 0): 1, (89, 26): 1, (79, 35): 1, (87, 84): 1, (45, 50): 1, (87, 45): 1, (67, 27): 1, (27, 10): 1, (26, 82): 1, (82, 62): 1, (62, 91): 1, (54, 82): 1, (52, 93): 1, (93, 77): 1, (77, 87): 1, (85, 40): 1, (86, 18): 1, (37, 1): 1, (1, 5): 1, (9, 44): 1, (58, 65): 2, (65, 26): 1, (26, 75): 1, (75, 87): 1, (87, 36): 1, (36, 64): 1, (64, 24): 1, (24, 5): 1, (5, 76): 1, (6, 9): 1, (65, 73): 1, (86, 68): 1, (55, 94): 1, (94, 89): 2, (53, 39): 1, (39, 67): 1, (29, 51): 1, (51, 83): 1, (38, 60): 1, (3, 49): 1, (49, 16): 1, (16, 18): 1, (93, 85): 1, (0, 92): 1, (25, 8): 1, (8, 12): 1, (29, 24): 1, (24, 37): 1, (91, 56): 1, (53, 36): 2, (36, 90): 1, (90, 73): 1, (54, 80): 1, (24, 73): 1, (73, 24): 1, (24, 81): 1, (6, 39): 1, (46, 48): 1, (48, 4): 1, (17, 25): 1, (25, 70): 1, (43, 3): 1, (55, 53): 1, (50, 16): 1, (38, 25): 1, (28, 14): 1, (73, 47): 2, (47, 77): 1, (14, 84): 1, (56, 19): 1, (19, 78): 1, (31, 46): 1, (97, 63): 1, (63, 23): 1, (23, 43): 1, (94, 73): 1, (35, 25): 1, (57, 25): 1, (64, 17): 1, (99, 79): 1, (79, 45): 1, (45, 34): 1, (71, 38): 1, (38, 67): 1, (88, 5): 1, (83, 73): 1, (73, 7): 1, (7, 84): 1, (44, 89): 1, (62, 27): 1, (25, 51): 1, (37, 6): 1, (8, 26): 1, (26, 7): 1, (7, 69): 1, (9, 46): 1, (46, 35): 1, (18, 79): 1, (79, 72): 1, (35, 61): 1, (36, 45): 1, (50, 64): 1, (65, 9): 1, (8, 74): 1, (74, 4): 1, (47, 85): 1, (94, 7): 1, (7, 73): 2, (92, 63): 1, (63, 76): 1, (76, 40): 1, (40, 32): 1, (30, 36): 1, (11, 38): 1, (38, 72): 1, (72, 17): 1, (58, 38): 2, (38, 18): 1, (10, 21): 1, (32, 2): 1, (43, 83): 1, (79, 26): 1, (26, 26): 1, (37, 93): 1, (22, 40): 1, (79, 86): 1, (17, 7): 1, (7, 91): 1, (86, 29): 1, (97, 25): 1, (25, 91): 1, (91, 37): 1, (29, 77): 1, (77, 2): 1, (2, 93): 1, (16, 38): 1, (38, 39): 1, (6, 63): 1, (88, 60): 1, (36, 67): 1, (67, 49): 1, (2, 91): 1, (60, 44): 1, (78, 36): 2, (83, 77): 1, (1, 65): 1, (66, 35): 1, (54, 96): 1, (54, 20): 1, (20, 4): 1, (41, 40): 2, (81, 96): 1, (96, 94): 1, (94, 5): 1, (77, 66): 1, (66, 61): 1, (32, 47): 1, (63, 53): 1, (96, 29): 1, (29, 68): 1, (7, 25): 1, (1, 64): 1, (64, 15): 1, (7, 77): 1, (70, 33): 1, (35, 49): 1, (82, 8): 1, (8, 91): 1, (73, 27): 1, (27, 70): 1, (0, 13): 2, (62, 67): 1, (67, 75): 1, (75, 96): 1, (58, 18): 2, (18, 88): 1, (88, 69): 1, (57, 41): 1, (97, 87): 1, (25, 59): 1, (59, 99): 1, (99, 45): 1, (73, 69): 1, (63, 95): 1, (95, 79): 1, (79, 2): 1, (72, 14): 1, (20, 78): 1, (78, 97): 1, (64, 56): 1, (60, 81): 1, (67, 56): 1, (56, 47): 2, (76, 27): 1, (74, 9): 2, (9, 96): 1, (47, 25): 1, (47, 22): 1, (22, 56): 1, (11, 82): 1, (13, 10): 1, (65, 91): 1, (46, 83): 1, (94, 91): 1, (72, 70): 1, (57, 9): 1, (9, 34): 1, (32, 5): 2, (49, 14): 1, (57, 33): 1, (33, 6): 1, (60, 54): 1, (54, 51): 1, (51, 78): 1, (55, 8): 1, (64, 94): 1, (33, 33): 1, (33, 77): 1, (77, 11): 1, (11, 66): 2, (58, 1): 1, (1, 37): 1, (37, 25): 1, (17, 46): 1, (81, 20): 1, (76, 72): 1, (72, 53): 2, (53, 15): 1, (15, 3): 1, (80, 62): 1, (18, 36): 1, (36, 33): 1, (43, 82): 1, (76, 59): 1, (59, 24): 1, (24, 14): 1, (88, 13): 1, (38, 74): 1, (91, 97): 1, (97, 55): 1, (38, 58): 1, (66, 38): 1, (87, 3): 1, (37, 53): 1, (44, 43): 1, (80, 51): 1, (88, 66): 1, (58, 43): 1, (67, 53): 1, (27, 98): 1, (46, 0): 1, (4, 53): 1, (53, 33): 1, (33, 17): 1, (73, 75): 1, (97, 82): 1, (33, 83): 1, (40, 44): 1, (44, 64): 1, (64, 5): 1, (5, 33): 1, (73, 65): 1, (46, 85): 1, (35, 66): 1, (66, 22): 1, (72, 50): 1, (50, 5): 1, (5, 75): 1, (75, 23): 1, (99, 41): 1, (30, 84): 1, (44, 0): 1, (48, 75): 1, (97, 12): 1, (12, 24): 1, (20, 40): 1, (48, 98): 1, (69, 39): 1, (47, 55): 1, (55, 24): 1, (31, 35): 1, (35, 62): 1, (62, 56): 1, (77, 97): 1, (86, 6): 1, (37, 36): 1, (36, 78): 1, (72, 82): 1, (97, 41): 1, (19, 99): 1, (99, 32): 1, (32, 24): 1, (24, 53): 1, (5, 94): 1, (94, 95): 1, (95, 62): 1, (25, 11): 1, (11, 95): 1, (95, 1): 1, (1, 72): 1, (35, 9): 1, (44, 47): 1, (68, 71): 1, (84, 93): 1, (53, 59): 1, (59, 2): 1, (99, 26): 1, (26, 22): 1, (75, 90): 1, (56, 57): 1, (8, 10): 1, (45, 89): 2, (78, 48): 1, (48, 7): 1, (7, 90): 1, (46, 67): 1, (32, 36): 1, (36, 66): 1, (27, 62): 1, (52, 64): 1, (90, 13): 1, (34, 97): 1, (83, 7): 1, (7, 68): 1, (85, 16): 1, (16, 42): 1, (15, 14): 1, (99, 38): 1, (4, 18): 1, (0, 37): 1, (9, 45): 1, (64, 20): 1, (20, 55): 1, (71, 25): 1, (25, 93): 1, (3, 18): 1, (18, 52): 1, (69, 42): 1, (71, 56): 1, (17, 59): 1, (59, 83): 1, (83, 63): 1, (84, 51): 1, (61, 35): 1, (35, 68): 1}\n"
     ]
    }
   ],
   "source": [
    "print(freq_list)"
   ]
  },
  {
   "cell_type": "code",
   "execution_count": 290,
   "id": "2a1d2a6c",
   "metadata": {},
   "outputs": [
    {
     "name": "stdout",
     "output_type": "stream",
     "text": [
      "0.04\n"
     ]
    }
   ],
   "source": [
    "# Add counts to the transition matrix\n",
    "for i in range(100):\n",
    "    for j in range(100):\n",
    "        if (i, j) in freq_list:\n",
    "            transition_matrix[i, j] = freq_list[(i, j)]\n",
    "        else:\n",
    "            transition_matrix[i, j] = 0\n",
    "\n",
    "# Divide each count by the row sum, to get probabilities betwee 0-1 summing up to 1\n",
    "for i in range(100):\n",
    "    transition_matrix[i, :]= transition_matrix[i, :] / np.sum(transition_matrix[i, :])\n",
    "\n",
    "# Estimate the transition probability of going from 42 to 16.\n",
    "# Put your answer here for the transition probability\n",
    "transition_probability = transition_matrix[42, 16]\n",
    "\n",
    "print(transition_probability)"
   ]
  },
  {
   "cell_type": "code",
   "execution_count": 291,
   "id": "1948ca81",
   "metadata": {},
   "outputs": [
    {
     "data": {
      "text/plain": [
       "array([[0.        , 0.00909091, 0.01818182, ..., 0.00909091, 0.02727273,\n",
       "        0.        ],\n",
       "       [0.01162791, 0.01162791, 0.04651163, ..., 0.04651163, 0.        ,\n",
       "        0.        ],\n",
       "       [0.        , 0.00884956, 0.02654867, ..., 0.01769912, 0.00884956,\n",
       "        0.        ],\n",
       "       ...,\n",
       "       [0.        , 0.        , 0.        , ..., 0.        , 0.        ,\n",
       "        0.00961538],\n",
       "       [0.        , 0.01754386, 0.00877193, ..., 0.00877193, 0.00877193,\n",
       "        0.        ],\n",
       "       [0.        , 0.        , 0.        , ..., 0.0125    , 0.0125    ,\n",
       "        0.025     ]])"
      ]
     },
     "execution_count": 291,
     "metadata": {},
     "output_type": "execute_result"
    }
   ],
   "source": [
    "transition_matrix"
   ]
  },
  {
   "cell_type": "code",
   "execution_count": 282,
   "id": "f16b876f",
   "metadata": {
    "deletable": false,
    "lx_assignment_number": "vB",
    "lx_assignment_type": "EXAM",
    "lx_assignment_type2print": "Exam",
    "lx_problem_cell_type": "PROBLEM",
    "lx_problem_number": "4",
    "lx_problem_points": "8"
   },
   "outputs": [
    {
     "name": "stdout",
     "output_type": "stream",
     "text": [
      "[0.9999999999999999, 0.9999999999999999, 1.0, 1.0, 1.0, 1.0, 1.0, 1.0, 1.0, 0.9999999999999999, 1.0, 0.9999999999999999, 0.9999999999999999, 1.0, 0.9999999999999999, 1.0, 1.0, 1.0, 0.9999999999999999, 1.0, 1.0, 1.0, 1.0000000000000002, 1.0, 0.9999999999999999, 0.9999999999999999, 1.0, 1.0, 1.0000000000000002, 0.9999999999999999, 1.0, 0.9999999999999999, 0.9999999999999999, 1.0, 1.0, 1.0, 1.0, 0.9999999999999999, 1.0, 1.0000000000000002, 0.9999999999999999, 0.9999999999999999, 1.0, 0.9999999999999999, 1.0, 0.9999999999999999, 1.0, 1.0, 0.9999999999999999, 1.0, 1.0, 1.0, 1.0000000000000002, 1.0, 1.0, 1.0, 1.0, 0.9999999999999999, 1.0, 1.0, 0.9999999999999999, 1.0, 0.9999999999999999, 0.9999999999999999, 1.0, 0.9999999999999999, 0.9999999999999999, 0.9999999999999999, 1.0, 1.0, 1.0, 1.0, 1.0, 0.9999999999999999, 1.0, 1.0, 0.9999999999999999, 1.0, 1.0, 0.9999999999999999, 1.0, 1.0, 1.0, 0.9999999999999998, 1.0, 1.0, 0.9999999999999998, 1.0, 1.0, 1.0, 0.9999999999999999, 0.9999999999999998, 1.0, 0.9999999999999999, 1.0, 1.0, 1.0, 1.0, 1.0, 0.9999999999999999]\n"
     ]
    }
   ],
   "source": [
    "# Check that each row sums to approx 1\n",
    "\n",
    "row_sums = []\n",
    "for row in transition_matrix:\n",
    "    row_sums.append(np.sum(row))\n",
    "    \n",
    "print(row_sums)"
   ]
  },
  {
   "cell_type": "code",
   "execution_count": 296,
   "id": "8e025a19",
   "metadata": {
    "deletable": false,
    "lx_assignment_number": "vB",
    "lx_assignment_type": "EXAM",
    "lx_assignment_type2print": "Exam",
    "lx_problem_cell_type": "PROBLEM",
    "lx_problem_number": "4",
    "lx_problem_points": "8"
   },
   "outputs": [
    {
     "name": "stdout",
     "output_type": "stream",
     "text": [
      "[[0.01090219 0.01090219 0.01090219 0.01090219 0.01090219 0.01090219\n",
      "  0.01090219 0.01090219 0.01090219 0.01090219 0.01090219 0.01090219\n",
      "  0.01090219 0.01090219 0.01090219 0.01090219 0.01090219 0.01090219\n",
      "  0.01090219 0.01090219 0.01090219 0.01090219 0.01090219 0.01090219\n",
      "  0.01090219 0.01090219 0.01090219 0.01090219 0.01090219 0.01090219\n",
      "  0.01090219 0.01090219 0.01090219 0.01090219 0.01090219 0.01090219\n",
      "  0.01090219 0.01090219 0.01090219 0.01090219 0.01090219 0.01090219\n",
      "  0.01090219 0.01090219 0.01090219 0.01090219 0.01090219 0.01090219\n",
      "  0.01090219 0.01090219 0.01090219 0.01090219 0.01090219 0.01090219\n",
      "  0.01090219 0.01090219 0.01090219 0.01090219 0.01090219 0.01090219\n",
      "  0.01090219 0.01090219 0.01090219 0.01090219 0.01090219 0.01090219\n",
      "  0.01090219 0.01090219 0.01090219 0.01090219 0.01090219 0.01090219\n",
      "  0.01090219 0.01090219 0.01090219 0.01090219 0.01090219 0.01090219\n",
      "  0.01090219 0.01090219 0.01090219 0.01090219 0.01090219 0.01090219\n",
      "  0.01090219 0.01090219 0.01090219 0.01090219 0.01090219 0.01090219\n",
      "  0.01090219 0.01090219 0.01090219 0.01090219 0.01090219 0.01090219\n",
      "  0.01090219 0.01090219 0.01090219 0.01090219]]\n"
     ]
    }
   ],
   "source": [
    "# Fill in the transition matrix P as a numpy array of \n",
    "# shape (n_states x n_states)\n",
    "# Make sure it is a transition matrix by checking the column sum\n",
    "P = transition_matrix\n",
    "\n",
    "# If our initial vector is\n",
    "v = np.zeros(n_states)\n",
    "v[0] = 1\n",
    "\n",
    "# What is P^10 v\n",
    "steady_state_v = (np.matrix(P) ** 10) @ v\n",
    "\n",
    "print(steady_state_v)"
   ]
  },
  {
   "cell_type": "code",
   "execution_count": 298,
   "id": "a1cc8fa1",
   "metadata": {},
   "outputs": [
    {
     "name": "stdout",
     "output_type": "stream",
     "text": [
      "[[1. 0. 0. 0. 0. 0. 0. 0. 0. 0. 0. 0. 0. 0. 0. 0. 0. 0. 0. 0. 0. 0. 0. 0.\n",
      "  0. 0. 0. 0. 0. 0. 0. 0. 0. 0. 0. 0. 0. 0. 0. 0. 0. 0. 0. 0. 0. 0. 0. 0.\n",
      "  0. 0. 0. 0. 0. 0. 0. 0. 0. 0. 0. 0. 0. 0. 0. 0. 0. 0. 0. 0. 0. 0. 0. 0.\n",
      "  0. 0. 0. 0. 0. 0. 0. 0. 0. 0. 0. 0. 0. 0. 0. 0. 0. 0. 0. 0. 0. 0. 0. 0.\n",
      "  0. 0. 0. 0.]]\n",
      "[[0.         0.01162791 0.         0.         0.02884615 0.00980392\n",
      "  0.         0.         0.02439024 0.         0.01       0.03061224\n",
      "  0.         0.00980392 0.01904762 0.         0.01052632 0.01010101\n",
      "  0.01941748 0.01904762 0.02830189 0.03669725 0.         0.\n",
      "  0.02970297 0.0075188  0.01098901 0.         0.01098901 0.01869159\n",
      "  0.00943396 0.05434783 0.02777778 0.02       0.         0.01098901\n",
      "  0.         0.01149425 0.01       0.         0.         0.\n",
      "  0.         0.         0.01030928 0.         0.00952381 0.\n",
      "  0.         0.         0.03191489 0.         0.03809524 0.01851852\n",
      "  0.02150538 0.02970297 0.01       0.         0.02272727 0.01886792\n",
      "  0.01282051 0.         0.01111111 0.         0.00917431 0.01176471\n",
      "  0.         0.03092784 0.         0.01030928 0.00925926 0.03296703\n",
      "  0.00990099 0.         0.00813008 0.         0.         0.02105263\n",
      "  0.00961538 0.01190476 0.         0.03030303 0.00990099 0.\n",
      "  0.         0.01941748 0.         0.02298851 0.01041667 0.01010101\n",
      "  0.         0.01923077 0.         0.00892857 0.03061224 0.00833333\n",
      "  0.03703704 0.         0.         0.        ]]\n",
      "[[0.01096899 0.01020236 0.00950315 0.01051548 0.01153607 0.0110077\n",
      "  0.0091148  0.00890736 0.00996763 0.01094668 0.01056592 0.00919256\n",
      "  0.01191793 0.0123514  0.01198573 0.00895762 0.00971731 0.00984783\n",
      "  0.01018358 0.01070015 0.00916474 0.00961775 0.01136321 0.01507463\n",
      "  0.01259312 0.01215489 0.01030094 0.01048377 0.01305471 0.00959878\n",
      "  0.01342916 0.01052007 0.00982317 0.00998764 0.01265736 0.00964576\n",
      "  0.00984167 0.01014844 0.01483974 0.01089979 0.01280539 0.0119216\n",
      "  0.010509   0.01348042 0.0086921  0.00943615 0.01045091 0.00894023\n",
      "  0.01069904 0.01063715 0.01194942 0.01000802 0.0097925  0.00938188\n",
      "  0.01034077 0.01041853 0.01106408 0.01246727 0.01171553 0.01020638\n",
      "  0.0124813  0.00750886 0.01270325 0.01038108 0.0106289  0.00977258\n",
      "  0.01033045 0.00863331 0.01076135 0.0146254  0.010789   0.00934622\n",
      "  0.008563   0.01058234 0.00981461 0.01147847 0.01218104 0.01101719\n",
      "  0.01225454 0.01058156 0.01130337 0.00974602 0.01186018 0.01225726\n",
      "  0.01041714 0.01256734 0.0111934  0.01283362 0.01385247 0.01344015\n",
      "  0.01002566 0.0102139  0.01000058 0.01116381 0.00932254 0.01079545\n",
      "  0.01179485 0.01299689 0.01126871 0.01182564]]\n",
      "[[0.01074305 0.01085457 0.01103066 0.01105573 0.01093875 0.01097394\n",
      "  0.01065266 0.01094967 0.01094332 0.01074095 0.01082366 0.01077062\n",
      "  0.01091532 0.01067146 0.01113125 0.011056   0.01093153 0.01079556\n",
      "  0.01096238 0.01080043 0.01085925 0.01110857 0.01117163 0.01080552\n",
      "  0.01123956 0.01092631 0.01069571 0.01070702 0.01099712 0.01088004\n",
      "  0.01069712 0.01111986 0.01093458 0.01101213 0.01077063 0.01051994\n",
      "  0.01081902 0.01081166 0.0112193  0.01098818 0.01084948 0.01085219\n",
      "  0.01097859 0.01094845 0.01083504 0.01089973 0.01106318 0.01084672\n",
      "  0.01067812 0.01082155 0.01096504 0.0108672  0.01107445 0.01088599\n",
      "  0.01073596 0.0108847  0.0109439  0.01103006 0.01097444 0.01109642\n",
      "  0.0109569  0.0109549  0.01094678 0.01079374 0.01103174 0.01088053\n",
      "  0.01093308 0.01081479 0.01099295 0.01080624 0.01102514 0.01073964\n",
      "  0.01108412 0.01090419 0.01111989 0.01074992 0.01073147 0.01087508\n",
      "  0.01077413 0.01115216 0.01093263 0.01081285 0.0106649  0.01078813\n",
      "  0.01083953 0.01077733 0.01072736 0.01106815 0.01072499 0.01092099\n",
      "  0.01091425 0.01106841 0.01063466 0.01099135 0.01098139 0.01064762\n",
      "  0.0110902  0.01095625 0.01092303 0.01115995]]\n",
      "[[0.01090012 0.01089145 0.01091003 0.01088315 0.01090582 0.01090324\n",
      "  0.01090455 0.01091177 0.01091705 0.01088491 0.01091057 0.01087348\n",
      "  0.01092101 0.01092238 0.01091091 0.01089403 0.01089242 0.01088572\n",
      "  0.01087402 0.01089505 0.01087109 0.01090097 0.01089732 0.01090549\n",
      "  0.01089844 0.01092414 0.01091538 0.01092464 0.01089605 0.01089182\n",
      "  0.01089988 0.01090777 0.01089401 0.01091476 0.01092071 0.01091507\n",
      "  0.01089002 0.01090287 0.01094893 0.01089066 0.01092576 0.01091555\n",
      "  0.01090743 0.01090274 0.01089158 0.01091678 0.01088414 0.0108943\n",
      "  0.01089359 0.01090323 0.01091989 0.01090326 0.01088919 0.01091559\n",
      "  0.01089431 0.01091693 0.01087168 0.01092067 0.01088784 0.01090928\n",
      "  0.01091272 0.01089563 0.01089661 0.01089153 0.01089301 0.01091123\n",
      "  0.01089506 0.01089498 0.01090846 0.01088699 0.01089191 0.01088526\n",
      "  0.01095242 0.01090152 0.01088993 0.01089757 0.01090472 0.01093536\n",
      "  0.01087946 0.01091876 0.01090958 0.01087142 0.01090257 0.0109003\n",
      "  0.01089507 0.01092686 0.01091943 0.01090158 0.01091773 0.01090747\n",
      "  0.01091255 0.01087748 0.01089881 0.01088852 0.01088628 0.01087399\n",
      "  0.01090543 0.01090535 0.01090947 0.0109068 ]]\n",
      "[[0.01090069 0.01090329 0.01090623 0.01089904 0.01089878 0.01090334\n",
      "  0.01090322 0.01090342 0.01090366 0.01089971 0.01090199 0.01090202\n",
      "  0.01089915 0.01090198 0.0109035  0.01090217 0.01090054 0.01090035\n",
      "  0.0109023  0.01089888 0.01090334 0.01090308 0.01090256 0.01090028\n",
      "  0.01090233 0.01090321 0.01090195 0.01090054 0.01090439 0.01090316\n",
      "  0.01090251 0.01090467 0.01090257 0.0109037  0.01090173 0.01089988\n",
      "  0.01090394 0.01090205 0.01090373 0.01090053 0.01090256 0.01090227\n",
      "  0.01089912 0.01090237 0.01090304 0.01090432 0.01090278 0.01090294\n",
      "  0.01090409 0.01089972 0.01090055 0.0109028  0.01090085 0.01090141\n",
      "  0.01090433 0.0109046  0.0109001  0.01090254 0.01090515 0.01090413\n",
      "  0.01090149 0.01090206 0.01090111 0.01090143 0.01090234 0.01090559\n",
      "  0.01090259 0.01090203 0.01090295 0.01090132 0.01090158 0.01090205\n",
      "  0.01090689 0.01090338 0.01090245 0.01090033 0.01090231 0.01090048\n",
      "  0.01090241 0.01090151 0.01090004 0.01090218 0.01090197 0.01090503\n",
      "  0.01090054 0.01090174 0.01090135 0.01090076 0.01090031 0.01090482\n",
      "  0.01090144 0.01090325 0.01090147 0.01090252 0.01090283 0.01090266\n",
      "  0.0109021  0.01089839 0.0109035  0.0108999 ]]\n",
      "[[0.01090221 0.01090239 0.01090247 0.01090207 0.01090193 0.01090219\n",
      "  0.01090218 0.01090218 0.01090243 0.01090225 0.0109023  0.01090216\n",
      "  0.01090212 0.01090227 0.01090175 0.01090236 0.0109021  0.01090216\n",
      "  0.01090218 0.01090235 0.01090207 0.01090213 0.0109019  0.01090254\n",
      "  0.01090221 0.01090233 0.01090232 0.01090216 0.01090212 0.01090178\n",
      "  0.01090216 0.01090208 0.01090184 0.01090194 0.0109022  0.01090215\n",
      "  0.0109023  0.0109021  0.01090219 0.01090236 0.01090255 0.01090242\n",
      "  0.010902   0.0109021  0.0109022  0.01090229 0.01090215 0.01090201\n",
      "  0.01090192 0.01090226 0.01090238 0.01090183 0.01090221 0.01090225\n",
      "  0.01090255 0.01090265 0.01090255 0.01090209 0.01090211 0.01090216\n",
      "  0.01090187 0.01090196 0.01090226 0.01090236 0.01090208 0.01090232\n",
      "  0.01090224 0.01090219 0.01090243 0.01090205 0.01090216 0.01090217\n",
      "  0.01090207 0.01090209 0.01090206 0.01090186 0.01090234 0.0109021\n",
      "  0.01090205 0.01090261 0.01090184 0.01090214 0.01090237 0.01090248\n",
      "  0.01090276 0.01090189 0.01090222 0.01090194 0.01090225 0.01090213\n",
      "  0.01090241 0.01090228 0.01090234 0.01090227 0.01090192 0.01090206\n",
      "  0.01090201 0.01090221 0.01090221 0.010902  ]]\n",
      "[[0.01090221 0.01090219 0.01090218 0.01090218 0.01090221 0.01090222\n",
      "  0.01090216 0.0109022  0.01090219 0.01090222 0.01090221 0.01090219\n",
      "  0.01090217 0.01090217 0.01090219 0.01090221 0.0109022  0.01090218\n",
      "  0.01090217 0.01090216 0.01090222 0.01090216 0.01090218 0.01090216\n",
      "  0.0109022  0.01090214 0.01090219 0.01090219 0.01090217 0.01090221\n",
      "  0.01090219 0.0109022  0.01090215 0.01090219 0.01090219 0.01090221\n",
      "  0.01090216 0.01090217 0.01090214 0.01090217 0.01090218 0.01090219\n",
      "  0.01090214 0.01090218 0.0109022  0.01090223 0.01090217 0.01090219\n",
      "  0.01090222 0.01090217 0.01090217 0.01090221 0.01090219 0.01090219\n",
      "  0.01090221 0.01090221 0.01090217 0.01090217 0.01090223 0.01090219\n",
      "  0.01090218 0.01090218 0.01090214 0.01090222 0.01090218 0.01090214\n",
      "  0.0109022  0.01090219 0.01090223 0.01090216 0.01090225 0.01090218\n",
      "  0.0109022  0.0109022  0.01090217 0.01090217 0.01090222 0.0109022\n",
      "  0.01090218 0.01090217 0.01090214 0.0109022  0.01090219 0.01090221\n",
      "  0.01090219 0.01090219 0.01090215 0.0109022  0.0109022  0.0109022\n",
      "  0.0109022  0.01090221 0.0109022  0.01090218 0.0109022  0.01090218\n",
      "  0.01090216 0.0109022  0.01090218 0.01090217]]\n",
      "[[0.01090218 0.01090219 0.01090219 0.01090219 0.01090218 0.01090219\n",
      "  0.01090218 0.01090219 0.01090219 0.01090219 0.01090219 0.01090219\n",
      "  0.01090219 0.01090219 0.01090219 0.01090219 0.01090219 0.01090219\n",
      "  0.01090219 0.01090219 0.01090219 0.01090219 0.01090219 0.01090219\n",
      "  0.01090219 0.01090219 0.01090219 0.01090218 0.01090219 0.01090219\n",
      "  0.01090218 0.01090219 0.01090219 0.01090219 0.01090218 0.01090219\n",
      "  0.01090219 0.01090219 0.01090218 0.01090219 0.01090219 0.01090219\n",
      "  0.01090219 0.01090219 0.01090218 0.01090219 0.01090219 0.01090219\n",
      "  0.01090219 0.01090219 0.01090218 0.01090219 0.01090219 0.01090218\n",
      "  0.01090219 0.01090219 0.01090218 0.01090219 0.01090219 0.01090219\n",
      "  0.01090219 0.01090218 0.01090219 0.01090219 0.01090219 0.01090219\n",
      "  0.01090219 0.01090218 0.01090218 0.01090219 0.01090219 0.01090219\n",
      "  0.01090218 0.01090219 0.01090219 0.01090219 0.01090218 0.01090219\n",
      "  0.01090219 0.01090219 0.01090219 0.01090218 0.01090219 0.01090219\n",
      "  0.01090219 0.01090218 0.01090219 0.01090219 0.01090218 0.01090219\n",
      "  0.01090218 0.01090219 0.01090218 0.01090219 0.01090219 0.01090219\n",
      "  0.01090218 0.01090219 0.01090219 0.01090218]]\n",
      "[[0.01090219 0.01090219 0.01090219 0.01090219 0.01090219 0.01090219\n",
      "  0.01090219 0.01090219 0.01090219 0.01090219 0.01090219 0.01090219\n",
      "  0.01090219 0.01090219 0.01090219 0.01090219 0.01090219 0.01090219\n",
      "  0.01090219 0.01090219 0.01090219 0.01090219 0.01090219 0.01090219\n",
      "  0.01090219 0.01090219 0.01090219 0.01090219 0.01090219 0.01090219\n",
      "  0.01090219 0.01090219 0.01090219 0.01090219 0.01090219 0.01090219\n",
      "  0.01090219 0.01090219 0.01090219 0.01090219 0.01090219 0.01090219\n",
      "  0.01090219 0.01090219 0.01090219 0.01090219 0.01090219 0.01090219\n",
      "  0.01090219 0.01090219 0.01090219 0.01090219 0.01090219 0.01090219\n",
      "  0.01090219 0.01090219 0.01090219 0.01090219 0.01090219 0.01090219\n",
      "  0.01090219 0.01090219 0.01090219 0.01090219 0.01090219 0.01090219\n",
      "  0.01090219 0.01090219 0.01090219 0.01090219 0.01090219 0.01090219\n",
      "  0.01090219 0.01090219 0.01090219 0.01090219 0.01090219 0.01090219\n",
      "  0.01090219 0.01090219 0.01090219 0.01090219 0.01090219 0.01090219\n",
      "  0.01090219 0.01090219 0.01090219 0.01090219 0.01090219 0.01090219\n",
      "  0.01090219 0.01090219 0.01090219 0.01090219 0.01090219 0.01090219\n",
      "  0.01090219 0.01090219 0.01090219 0.01090219]]\n"
     ]
    }
   ],
   "source": [
    "for i in range(10):\n",
    "    res = (np.matrix(P) ** i) @ v\n",
    "    print(res)"
   ]
  },
  {
   "cell_type": "markdown",
   "id": "ac798d80",
   "metadata": {
    "deletable": false,
    "lx_assignment_number": "vB",
    "lx_assignment_type": "EXAM",
    "lx_assignment_type2print": "Exam",
    "lx_problem_cell_type": "PROBLEM",
    "lx_problem_number": "5",
    "lx_problem_points": "8"
   },
   "source": [
    "---\n",
    "## Exam vB, PROBLEM 5\n",
    "Maximum Points = 8"
   ]
  },
  {
   "cell_type": "markdown",
   "id": "15411b17",
   "metadata": {
    "deletable": false,
    "lx_assignment_number": "vB",
    "lx_assignment_type": "EXAM",
    "lx_assignment_type2print": "Exam",
    "lx_problem_cell_type": "PROBLEM",
    "lx_problem_number": "5",
    "lx_problem_points": "8"
   },
   "source": [
    "\n",
    "## SMS spam filtering [8p]\n",
    "\n",
    "In the following problem we will explore SMS spam texts. The dataset is the `SMS Spam Collection Dataset` and we have provided for you a way to load the data. If you run the appropriate cell below, the result will be in the `spam_no_spam` variable. The result is a `list` of `tuples` with the first position in the tuple being the SMS text and the second being a flag `0 = not spam` and `1 = spam`.\n",
    "\n",
    "1. [3p] Let $X$ be the random variable that represents each SMS text (an entry in the list), and let $Y$ represent whether text is spam or not i.e. $Y \\in \\{0,1\\}$. Thus $\\mathbb{P}(Y = 1)$ is the probability that we get a spam. The goal is to estimate:\n",
    "$$\n",
    "    \\mathbb{P}(Y = 1 | \\text{\"free\" or \"prize\" is in } X) \\enspace .\n",
    "$$\n",
    "That is, the probability that the SMS is spam given that \"free\" or \"prize\" occurs in the SMS. (This is precision)\n",
    "Hint: it is good to remove the upper/lower case of words so that we can also find \"Free\" and \"Prize\"; this can be done with `text.lower()` if `text` a string.\n",
    "2. [3p] Estimate the probability that the word \"free\" or \"prize\" is in the text given that it is spam. (This is recall) I.e. estimate\n",
    "$$\n",
    "    \\mathbb{P}(\\text{\"free\" or \"prize\" is in } X \\mid Y = 1) \\enspace .\n",
    "$$\n",
    "3. [2p] Provide a \"90\\%\" interval of confidence around the true probability from **part 1**. I.e. use the Hoeffding inequality to obtain for your estimate $\\hat P$. Find $l > 0$ such that the following holds:\n",
    "$$\n",
    "    \\mathbb{P}(\\hat P - l \\leq \\mathbb{E}[\\hat P] \\leq \\hat P + l) \\geq 0.9 \\enspace .\n",
    "$$\n",
    "\n",
    "**Solutions**\n",
    "\n",
    "1. The conditional probability $\\mathbb{P}(Y = 1 | \\text{\"free\" or \"prize\" is in } X)$ is given by the formula\n",
    "\n",
    "$$\n",
    "    \\mathbb{P}(Y = 1 | \\text{\"free\" or \"prize\" is in } X) = \n",
    "    \\frac{\\mathbb{P}(Y = 1 \\cap \\text{\"free\" or \"prize\" is in } X)}{\\mathbb{P}(\\text{\"free\" or \"prize\" is in } X)}\n",
    "$$\n",
    "\n",
    "2. The conditional probability $\\mathbb{P}(\\text{\"free\" or \"prize\" is in } X \\mid Y = 1)$ is given by the formula\n",
    "\n",
    "$$\n",
    "    \\mathbb{P}(\\text{\"free\" or \"prize\" is in } X \\mid Y = 1) = \n",
    "    \\frac{\\mathbb{P}(Y = 1 \\cap \\text{\"free\" or \"prize\" is in } X)}{\\mathbb{P}(Y = 1)}\n",
    "$$ \n",
    "\n",
    "3. Hoeffding's inequality for the binomial case is given by \n",
    "\n",
    "$$\n",
    " \\mathbb{P}(\\bar{X}_n - \\delta \\leq p \\geq \\bar{X}_n + \\delta) \\geq 1 - \\alpha\n",
    "$$ \n",
    "\n",
    "and \n",
    "\n",
    "$$\n",
    "    \\delta = \\frac{1}{\\sqrt{n}}\\sqrt{\\frac{1}{2}ln(\\frac{2}{\\alpha})}\n",
    "$$"
   ]
  },
  {
   "cell_type": "code",
   "execution_count": 198,
   "id": "3ad16ee3",
   "metadata": {
    "deletable": false,
    "lx_assignment_number": "vB",
    "lx_assignment_type": "EXAM",
    "lx_assignment_type2print": "Exam",
    "lx_problem_cell_type": "PROBLEM",
    "lx_problem_number": "5",
    "lx_problem_points": "8"
   },
   "outputs": [],
   "source": [
    "# Run this cell to get the SMS text data\n",
    "from exam_extras import load_sms\n",
    "spam_no_spam = load_sms()"
   ]
  },
  {
   "cell_type": "code",
   "execution_count": 199,
   "id": "24922552",
   "metadata": {},
   "outputs": [],
   "source": [
    "# Format data in the right way\n",
    "\n",
    "spam_no_spam = [(text.lower().split(), label) for (text, label) in spam_no_spam]"
   ]
  },
  {
   "cell_type": "code",
   "execution_count": 200,
   "id": "d1993f03",
   "metadata": {},
   "outputs": [
    {
     "name": "stdout",
     "output_type": "stream",
     "text": [
      "(['go', 'until', 'jurong', 'point,', 'crazy..', 'available', 'only', 'in', 'bugis', 'n', 'great', 'world', 'la', 'e', 'buffet...', 'cine', 'there', 'got', 'amore', 'wat...'], 0)\n"
     ]
    }
   ],
   "source": [
    "print(spam_no_spam[0])"
   ]
  },
  {
   "cell_type": "code",
   "execution_count": 210,
   "id": "fef917ff",
   "metadata": {},
   "outputs": [],
   "source": [
    "# Calculate the conditional probability P(Y = 1 | free or prize in X)\n",
    "\n",
    "# Keywords to look for\n",
    "spam_keywords = [\"free\", \"prize\"]\n",
    "\n",
    "# Filter lines for those containing keywords + those with keywords and labeled spam \n",
    "keyword_lines = [(text, label) for (text, label) in spam_no_spam if any(keyword in text for keyword in spam_keywords)]\n",
    "keyword_spam_lines = [(text, label) for (text, label) in keyword_lines if label == 1]\n",
    "\n",
    "# Calculate conditional probability as the ratio between len of those lists\n",
    "cond_proba_1 = len(keyword_spam_lines) / len(keyword_lines)\n",
    "cond_proba_1\n",
    "\n",
    "problem5_hatP = cond_proba_1"
   ]
  },
  {
   "cell_type": "code",
   "execution_count": null,
   "id": "25454a40",
   "metadata": {
    "deletable": false,
    "lx_assignment_number": "vB",
    "lx_assignment_type": "EXAM",
    "lx_assignment_type2print": "Exam",
    "lx_problem_cell_type": "PROBLEM",
    "lx_problem_number": "5",
    "lx_problem_points": "8"
   },
   "outputs": [],
   "source": []
  },
  {
   "cell_type": "code",
   "execution_count": 206,
   "id": "6276b05e",
   "metadata": {},
   "outputs": [
    {
     "name": "stdout",
     "output_type": "stream",
     "text": [
      "0.2717536813922356\n"
     ]
    }
   ],
   "source": [
    "# Calculate the conditional probability P(free or prize in X | Y = 1)\n",
    "\n",
    "# Filter lines for those containing spam\n",
    "spam_lines = [(text, label) for (text, label) in spam_no_spam if label == 1]\n",
    "\n",
    "# Calculate conditional probability\n",
    "cond_proba_2 = len(keyword_spam_lines) / len(spam_lines)\n",
    "\n",
    "problem5_hatP2 = cond_proba_2\n",
    "print(problem5_hatP2)"
   ]
  },
  {
   "cell_type": "code",
   "execution_count": 204,
   "id": "e9b2aa45",
   "metadata": {
    "deletable": false,
    "lx_assignment_number": "vB",
    "lx_assignment_type": "EXAM",
    "lx_assignment_type2print": "Exam",
    "lx_problem_cell_type": "PROBLEM",
    "lx_problem_number": "5",
    "lx_problem_points": "8"
   },
   "outputs": [],
   "source": [
    "\n",
    "# fill in the estimate for hatP for the double free question in part 2 here (should be a number between 0 and 1)\n",
    "problem5_hatP2 = cond_proba_2"
   ]
  },
  {
   "cell_type": "code",
   "execution_count": 211,
   "id": "7b097607",
   "metadata": {
    "deletable": false,
    "lx_assignment_number": "vB",
    "lx_assignment_type": "EXAM",
    "lx_assignment_type2print": "Exam",
    "lx_problem_cell_type": "PROBLEM",
    "lx_problem_number": "5",
    "lx_problem_points": "8"
   },
   "outputs": [
    {
     "name": "stdout",
     "output_type": "stream",
     "text": [
      "0.08589907403507749\n",
      "0.7261009259649226 0.8978990740350775\n"
     ]
    }
   ],
   "source": [
    "\n",
    "# fill in the calculated l from part 3 here\n",
    "n_spam_and_keywords = len(keyword_spam_lines)\n",
    "alpha = 0.1\n",
    "delta = (1 / np.sqrt(n_spam_and_keywords)) * np.sqrt((1 / 2) * np.log(2 / alpha))\n",
    "\n",
    "problem5_l = delta\n",
    "print(problem5_l)\n",
    "print(problem5_hatP - problem5_l, problem5_hatP + problem5_l)"
   ]
  }
 ],
 "metadata": {
  "kernelspec": {
   "display_name": "Python 3 (ipykernel)",
   "language": "python",
   "name": "python3"
  },
  "language_info": {
   "codemirror_mode": {
    "name": "ipython",
    "version": 3
   },
   "file_extension": ".py",
   "mimetype": "text/x-python",
   "name": "python",
   "nbconvert_exporter": "python",
   "pygments_lexer": "ipython3",
   "version": "3.8.5"
  },
  "lx_assignment_number": "vB",
  "lx_course_instance": "2021",
  "lx_course_name": "Introduction to Data Science: A Comp-Math-Stat Approach",
  "lx_course_number": "1MS041"
 },
 "nbformat": 4,
 "nbformat_minor": 5
}
