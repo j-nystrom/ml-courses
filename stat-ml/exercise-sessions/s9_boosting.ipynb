{
 "cells": [
  {
   "cell_type": "code",
   "execution_count": 1,
   "metadata": {
    "tags": []
   },
   "outputs": [],
   "source": [
    "import pandas as pd\n",
    "import numpy as np\n",
    "import matplotlib\n",
    "import matplotlib.pyplot as plt\n",
    "\n",
    "from sklearn import tree\n",
    "from sklearn.ensemble import AdaBoostClassifier, GradientBoostingClassifier\n",
    "\n",
    "%matplotlib inline"
   ]
  },
  {
   "cell_type": "markdown",
   "metadata": {
    "tags": []
   },
   "source": [
    "# AdaBoost\n",
    "## 9.1 Exponential loss vs misclasification loss\n",
    "In boosting, we label (for convenience) the classes as $+1$ and $-1$, respectively. We furthermore let our classifier $\\widehat{y}(x)$ be on the form $\\widehat{y}(x) = \\operatorname{sign}\\left(c(x)\\right)$, i.e., a thresholding at $0$ of some real-valued function $c(x)$. Assume that we have learned some function $\\widehat{c}(x)$ from training data such that we can make predictions $\\widehat{y}(x) = \\operatorname*{sign}\\left(\\widehat{c}(x)\\right)$. Fill in the missing columns in the table below:\n",
    "\n",
    "| ${\\widehat{c}{(x_\\star)}}$ | $\\widehat{y}_\\star$ | Exponential loss <br>$\\mathrm{exp}{\\left(-y_\\star\\widehat{c}{(x_\\star)}\\right)}$ | Misclassification loss<br> $\\mathbb{I}\\left(y_\\star\\neq\\widehat{y}_\\star\\right)$ | $y_\\star$|\n",
    "|:---:|:---:|:---:|:---:|:---:|\n",
    "| 0.3  |  +1  | 1.35 |  1   |  -1  |\n",
    "|-0.2  |  -1  | 0.82 |  0   |  -1  |\n",
    "| 1.5  |  +1  | 0.22 |  0   |   1  |\n",
    "|-4.3  |  -1  | 73.7 |  1   |   1  |\n",
    "\n",
    "In what sense is the exponential loss more informative than the misclassification loss, and how can that information be used when training a classifier?"
   ]
  },
  {
   "cell_type": "code",
   "execution_count": 6,
   "metadata": {},
   "outputs": [
    {
     "data": {
      "text/plain": [
       "73.69979369959579"
      ]
     },
     "execution_count": 6,
     "metadata": {},
     "output_type": "execute_result"
    }
   ],
   "source": [
    "import numpy as np\n",
    "np.exp(-(1) * -4.3)"
   ]
  },
  {
   "cell_type": "markdown",
   "metadata": {
    "tags": []
   },
   "source": [
    "## 9.2 AdaBoost for spam classification\n",
    "Consider the very same setting data set for the data set `email.csv` as in problem 8.2, but now use AdaBoost instead. AdaBoost is available in `sklearn.ensemble` as the command `AdaBoostClassifier()`. What test error do you achieve?"
   ]
  },
  {
   "cell_type": "code",
   "execution_count": 7,
   "metadata": {
    "tags": []
   },
   "outputs": [],
   "source": [
    "# url = 'data/email.csv'\n",
    "url = 'https://uu-sml.github.io/course-sml-public/data/email.csv'\n",
    "email = pd.read_csv(url)"
   ]
  },
  {
   "cell_type": "code",
   "execution_count": 8,
   "metadata": {
    "tags": []
   },
   "outputs": [
    {
     "data": {
      "text/html": [
       "<div>\n",
       "<style scoped>\n",
       "    .dataframe tbody tr th:only-of-type {\n",
       "        vertical-align: middle;\n",
       "    }\n",
       "\n",
       "    .dataframe tbody tr th {\n",
       "        vertical-align: top;\n",
       "    }\n",
       "\n",
       "    .dataframe thead th {\n",
       "        text-align: right;\n",
       "    }\n",
       "</style>\n",
       "<table border=\"1\" class=\"dataframe\">\n",
       "  <thead>\n",
       "    <tr style=\"text-align: right;\">\n",
       "      <th></th>\n",
       "      <th>word_freq_make</th>\n",
       "      <th>word_freq_address</th>\n",
       "      <th>word_freq_all</th>\n",
       "      <th>word_freq_3d</th>\n",
       "      <th>word_freq_our</th>\n",
       "      <th>word_freq_over</th>\n",
       "      <th>word_freq_remove</th>\n",
       "      <th>word_freq_internet</th>\n",
       "      <th>word_freq_order</th>\n",
       "      <th>word_freq_mail</th>\n",
       "      <th>...</th>\n",
       "      <th>char_freq_semicolon</th>\n",
       "      <th>char_freq_soft_brackets</th>\n",
       "      <th>char_freq_hard_brackets</th>\n",
       "      <th>char_freq_exclamation_mark</th>\n",
       "      <th>char_freq_dollarsign</th>\n",
       "      <th>char_freq_numbersign</th>\n",
       "      <th>capital_run_length_average</th>\n",
       "      <th>capital_run_length_longest</th>\n",
       "      <th>capital_run_length_total</th>\n",
       "      <th>Class</th>\n",
       "    </tr>\n",
       "  </thead>\n",
       "  <tbody>\n",
       "    <tr>\n",
       "      <th>0</th>\n",
       "      <td>0.00</td>\n",
       "      <td>0.64</td>\n",
       "      <td>0.64</td>\n",
       "      <td>0.0</td>\n",
       "      <td>0.32</td>\n",
       "      <td>0.00</td>\n",
       "      <td>0.00</td>\n",
       "      <td>0.00</td>\n",
       "      <td>0.00</td>\n",
       "      <td>0.00</td>\n",
       "      <td>...</td>\n",
       "      <td>0.00</td>\n",
       "      <td>0.000</td>\n",
       "      <td>0.0</td>\n",
       "      <td>0.778</td>\n",
       "      <td>0.000</td>\n",
       "      <td>0.000</td>\n",
       "      <td>3.756</td>\n",
       "      <td>61</td>\n",
       "      <td>278</td>\n",
       "      <td>Spam</td>\n",
       "    </tr>\n",
       "    <tr>\n",
       "      <th>1</th>\n",
       "      <td>0.21</td>\n",
       "      <td>0.28</td>\n",
       "      <td>0.50</td>\n",
       "      <td>0.0</td>\n",
       "      <td>0.14</td>\n",
       "      <td>0.28</td>\n",
       "      <td>0.21</td>\n",
       "      <td>0.07</td>\n",
       "      <td>0.00</td>\n",
       "      <td>0.94</td>\n",
       "      <td>...</td>\n",
       "      <td>0.00</td>\n",
       "      <td>0.132</td>\n",
       "      <td>0.0</td>\n",
       "      <td>0.372</td>\n",
       "      <td>0.180</td>\n",
       "      <td>0.048</td>\n",
       "      <td>5.114</td>\n",
       "      <td>101</td>\n",
       "      <td>1028</td>\n",
       "      <td>Spam</td>\n",
       "    </tr>\n",
       "    <tr>\n",
       "      <th>2</th>\n",
       "      <td>0.06</td>\n",
       "      <td>0.00</td>\n",
       "      <td>0.71</td>\n",
       "      <td>0.0</td>\n",
       "      <td>1.23</td>\n",
       "      <td>0.19</td>\n",
       "      <td>0.19</td>\n",
       "      <td>0.12</td>\n",
       "      <td>0.64</td>\n",
       "      <td>0.25</td>\n",
       "      <td>...</td>\n",
       "      <td>0.01</td>\n",
       "      <td>0.143</td>\n",
       "      <td>0.0</td>\n",
       "      <td>0.276</td>\n",
       "      <td>0.184</td>\n",
       "      <td>0.010</td>\n",
       "      <td>9.821</td>\n",
       "      <td>485</td>\n",
       "      <td>2259</td>\n",
       "      <td>Spam</td>\n",
       "    </tr>\n",
       "    <tr>\n",
       "      <th>3</th>\n",
       "      <td>0.00</td>\n",
       "      <td>0.00</td>\n",
       "      <td>0.00</td>\n",
       "      <td>0.0</td>\n",
       "      <td>0.63</td>\n",
       "      <td>0.00</td>\n",
       "      <td>0.31</td>\n",
       "      <td>0.63</td>\n",
       "      <td>0.31</td>\n",
       "      <td>0.63</td>\n",
       "      <td>...</td>\n",
       "      <td>0.00</td>\n",
       "      <td>0.137</td>\n",
       "      <td>0.0</td>\n",
       "      <td>0.137</td>\n",
       "      <td>0.000</td>\n",
       "      <td>0.000</td>\n",
       "      <td>3.537</td>\n",
       "      <td>40</td>\n",
       "      <td>191</td>\n",
       "      <td>Spam</td>\n",
       "    </tr>\n",
       "    <tr>\n",
       "      <th>4</th>\n",
       "      <td>0.00</td>\n",
       "      <td>0.00</td>\n",
       "      <td>0.00</td>\n",
       "      <td>0.0</td>\n",
       "      <td>0.63</td>\n",
       "      <td>0.00</td>\n",
       "      <td>0.31</td>\n",
       "      <td>0.63</td>\n",
       "      <td>0.31</td>\n",
       "      <td>0.63</td>\n",
       "      <td>...</td>\n",
       "      <td>0.00</td>\n",
       "      <td>0.135</td>\n",
       "      <td>0.0</td>\n",
       "      <td>0.135</td>\n",
       "      <td>0.000</td>\n",
       "      <td>0.000</td>\n",
       "      <td>3.537</td>\n",
       "      <td>40</td>\n",
       "      <td>191</td>\n",
       "      <td>Spam</td>\n",
       "    </tr>\n",
       "  </tbody>\n",
       "</table>\n",
       "<p>5 rows × 58 columns</p>\n",
       "</div>"
      ],
      "text/plain": [
       "   word_freq_make  word_freq_address  word_freq_all  word_freq_3d  \\\n",
       "0            0.00               0.64           0.64           0.0   \n",
       "1            0.21               0.28           0.50           0.0   \n",
       "2            0.06               0.00           0.71           0.0   \n",
       "3            0.00               0.00           0.00           0.0   \n",
       "4            0.00               0.00           0.00           0.0   \n",
       "\n",
       "   word_freq_our  word_freq_over  word_freq_remove  word_freq_internet  \\\n",
       "0           0.32            0.00              0.00                0.00   \n",
       "1           0.14            0.28              0.21                0.07   \n",
       "2           1.23            0.19              0.19                0.12   \n",
       "3           0.63            0.00              0.31                0.63   \n",
       "4           0.63            0.00              0.31                0.63   \n",
       "\n",
       "   word_freq_order  word_freq_mail  ...  char_freq_semicolon  \\\n",
       "0             0.00            0.00  ...                 0.00   \n",
       "1             0.00            0.94  ...                 0.00   \n",
       "2             0.64            0.25  ...                 0.01   \n",
       "3             0.31            0.63  ...                 0.00   \n",
       "4             0.31            0.63  ...                 0.00   \n",
       "\n",
       "   char_freq_soft_brackets  char_freq_hard_brackets  \\\n",
       "0                    0.000                      0.0   \n",
       "1                    0.132                      0.0   \n",
       "2                    0.143                      0.0   \n",
       "3                    0.137                      0.0   \n",
       "4                    0.135                      0.0   \n",
       "\n",
       "   char_freq_exclamation_mark  char_freq_dollarsign  char_freq_numbersign  \\\n",
       "0                       0.778                 0.000                 0.000   \n",
       "1                       0.372                 0.180                 0.048   \n",
       "2                       0.276                 0.184                 0.010   \n",
       "3                       0.137                 0.000                 0.000   \n",
       "4                       0.135                 0.000                 0.000   \n",
       "\n",
       "   capital_run_length_average  capital_run_length_longest  \\\n",
       "0                       3.756                          61   \n",
       "1                       5.114                         101   \n",
       "2                       9.821                         485   \n",
       "3                       3.537                          40   \n",
       "4                       3.537                          40   \n",
       "\n",
       "   capital_run_length_total  Class  \n",
       "0                       278   Spam  \n",
       "1                      1028   Spam  \n",
       "2                      2259   Spam  \n",
       "3                       191   Spam  \n",
       "4                       191   Spam  \n",
       "\n",
       "[5 rows x 58 columns]"
      ]
     },
     "execution_count": 8,
     "metadata": {},
     "output_type": "execute_result"
    }
   ],
   "source": [
    "email.head(5)"
   ]
  },
  {
   "cell_type": "code",
   "execution_count": 9,
   "metadata": {},
   "outputs": [
    {
     "data": {
      "text/plain": [
       "(4601, 58)"
      ]
     },
     "execution_count": 9,
     "metadata": {},
     "output_type": "execute_result"
    }
   ],
   "source": [
    "email.shape"
   ]
  },
  {
   "cell_type": "code",
   "execution_count": 10,
   "metadata": {},
   "outputs": [
    {
     "data": {
      "text/plain": [
       "Index(['word_freq_make', 'word_freq_address', 'word_freq_all', 'word_freq_3d',\n",
       "       'word_freq_our', 'word_freq_over', 'word_freq_remove',\n",
       "       'word_freq_internet', 'word_freq_order', 'word_freq_mail',\n",
       "       'word_freq_receive', 'word_freq_will', 'word_freq_people',\n",
       "       'word_freq_report', 'word_freq_addresses', 'word_freq_free',\n",
       "       'word_freq_business', 'word_freq_email', 'word_freq_you',\n",
       "       'word_freq_credit', 'word_freq_your', 'word_freq_font', 'word_freq_000',\n",
       "       'word_freq_money', 'word_freq_hp', 'word_freq_hpl', 'word_freq_george',\n",
       "       'word_freq_650', 'word_freq_lab', 'word_freq_labs', 'word_freq_telnet',\n",
       "       'word_freq_857', 'word_freq_data', 'word_freq_415', 'word_freq_85',\n",
       "       'word_freq_technology', 'word_freq_1999', 'word_freq_parts',\n",
       "       'word_freq_pm', 'word_freq_direct', 'word_freq_cs', 'word_freq_meeting',\n",
       "       'word_freq_original', 'word_freq_project', 'word_freq_re',\n",
       "       'word_freq_edu', 'word_freq_table', 'word_freq_conference',\n",
       "       'char_freq_semicolon', 'char_freq_soft_brackets',\n",
       "       'char_freq_hard_brackets', 'char_freq_exclamation_mark',\n",
       "       'char_freq_dollarsign', 'char_freq_numbersign',\n",
       "       'capital_run_length_average', 'capital_run_length_longest',\n",
       "       'capital_run_length_total', 'Class'],\n",
       "      dtype='object')"
      ]
     },
     "execution_count": 10,
     "metadata": {},
     "output_type": "execute_result"
    }
   ],
   "source": [
    "email.keys()"
   ]
  },
  {
   "cell_type": "code",
   "execution_count": 16,
   "metadata": {},
   "outputs": [
    {
     "name": "stdout",
     "output_type": "stream",
     "text": [
      "0.06516072980017376\n"
     ]
    }
   ],
   "source": [
    "from sklearn.model_selection import train_test_split\n",
    "\n",
    "label = email[\"Class\"]\n",
    "features = email.drop([\"Class\"], axis=\"columns\")\n",
    "seed = 42\n",
    "\n",
    "# Split data into train and test\n",
    "x_train, x_test, y_train, y_test = train_test_split(features, label, test_size=0.25, random_state=seed)\n",
    "\n",
    "# Fit the model\n",
    "model = AdaBoostClassifier()\n",
    "model.fit(x_train, y_train)\n",
    "\n",
    "# Predict\n",
    "pred = model.predict(x_test)\n",
    "error = np.mean(pred != y_test)\n",
    "print(error)"
   ]
  },
  {
   "cell_type": "code",
   "execution_count": 19,
   "metadata": {},
   "outputs": [
    {
     "name": "stdout",
     "output_type": "stream",
     "text": [
      "0.5873153779322329\n"
     ]
    }
   ],
   "source": [
    "# Baseline model (predict spam for everything)\n",
    "\n",
    "y_null = np.array([\"Spam\"] * pred.shape[0])\n",
    "error = np.mean(y_null != y_test)\n",
    "print(error)"
   ]
  },
  {
   "cell_type": "markdown",
   "metadata": {
    "tags": []
   },
   "source": [
    "## 9.3 Exploring the AdaBoost algorithm\n",
    "The script below illustrates the AdaBoost algorithm in the same way as was done in lecture 7. Familiarize yourself with the code and compare it to the pseudocode given in the course literature (Chapter 7 in the lecture notes). Explore what happens if you make changes in the input data and the number of trees (stumps), B, used!"
   ]
  },
  {
   "cell_type": "code",
   "execution_count": 20,
   "metadata": {
    "tags": []
   },
   "outputs": [
    {
     "data": {
      "image/png": "[encoded data removed]",
      "text/plain": [
       "<Figure size 640x480 with 1 Axes>"
      ]
     },
     "metadata": {},
     "output_type": "display_data"
    },
    {
     "data": {
      "image/png": "[encoded data removed]",
      "text/plain": [
       "<Figure size 640x480 with 1 Axes>"
      ]
     },
     "metadata": {},
     "output_type": "display_data"
    },
    {
     "data": {
      "image/png": "[encoded data removed]",
      "text/plain": [
       "<Figure size 640x480 with 1 Axes>"
      ]
     },
     "metadata": {},
     "output_type": "display_data"
    },
    {
     "data": {
      "image/png": "[encoded data removed]",
      "text/plain": [
       "<Figure size 640x480 with 1 Axes>"
      ]
     },
     "metadata": {},
     "output_type": "display_data"
    },
    {
     "data": {
      "image/png": "[encoded data removed]",
      "text/plain": [
       "<Figure size 640x480 with 1 Axes>"
      ]
     },
     "metadata": {},
     "output_type": "display_data"
    }
   ],
   "source": [
    "X1 = np.array([0.2358,0.1252,0.4278,0.6398,0.6767,0.8733,0.3648,0.6336,0.3433,0.8410])\n",
    "X2 = np.array([0.1761,0.4465,0.7539,0.9037,0.7111,0.8414,0.6060,0.5107,0.1430,0.1994])\n",
    "X = np.column_stack([X1,X2])\n",
    "y = np.array([1,1,1,1,1,-1,-1,-1,-1,-1])\n",
    "n = len(y)\n",
    "# note: the class labels are 1 and -1\n",
    "\n",
    "fig, ax = plt.subplots()\n",
    "ax.set_xlim((0, 1))\n",
    "ax.set_ylim((0, 1))\n",
    "\n",
    "# plot the data\n",
    "ax.plot(X1[y==1], X2[y==1], 'x', color='red')\n",
    "ax.plot(X1[y==-1], X2[y==-1], 'o', color='blue')\n",
    "\n",
    "ax.set_xlabel('$X_1$')\n",
    "ax.set_ylabel('$X_2$')\n",
    "\n",
    "\n",
    "# define some variables we will fill out in the loop below\n",
    "stumps = []\n",
    "alpha = []\n",
    "w = np.repeat(1/n, n) # the boosting weights, start with equal weights\n",
    "B = 3\n",
    "\n",
    "# learn the boosting classifier\n",
    "for b in range(B):\n",
    "    # prepare plots\n",
    "    fig, ax = plt.subplots()\n",
    "    ax.set_xlim((0, 1))\n",
    "    ax.set_ylim((0, 1))\n",
    "    # use a decision stump (tree with depth 1) as base classifier\n",
    "    model = tree.DecisionTreeClassifier(max_depth=1)\n",
    "    model.fit(X, y, sample_weight=w)\n",
    "    stumps.append(model)                 # Saving the model in each step\n",
    "    # plot the decision boundary\n",
    "    split_variable = model.tree_.feature[0]\n",
    "    split_value = model.tree_.threshold[0]\n",
    "    if split_variable == 0:\n",
    "        x1 = [0, split_value, split_value, 0]\n",
    "        x2 = [0, 0, 1, 1]\n",
    "        ax.fill(x1, x2, 'lightsalmon', alpha=0.5)\n",
    "        x1 = [split_value, 1, 1, split_value]\n",
    "        ax.fill(x1, x2, 'skyblue', alpha=0.5)\n",
    "    elif split_variable == 1:\n",
    "        x1 = [0, 1, 1, 0]\n",
    "        x2 = [split_value, split_value, 1, 1]\n",
    "        ax.fill(x1, x2, 'lightsalmon', alpha=0.5)\n",
    "        x2 = [0, 0, split_value, split_value]\n",
    "        ax.fill(x1, x2, 'skyblue', alpha=0.5)\n",
    "    \n",
    "    ax.set_xlabel('$x_1$')\n",
    "    ax.set_ylabel('$x_2$')\n",
    "    \n",
    "    # plot the data\n",
    "    ax.scatter(X1[y==1], X2[y==1], s=50, facecolors='red')\n",
    "    ax.scatter(X1[y==-1], X2[y==-1], s=50, facecolors='blue')\n",
    "    \n",
    "    # compute and plot the boosting weights for the next iteration\n",
    "    correct = model.predict(X) == y\n",
    "    ax.scatter(X1[~correct], X2[~correct], s=300, facecolors='none', edgecolors='k')\n",
    "\n",
    "    W = np.sum(w) \n",
    "    We = np.sum(w[~correct])   # Sum of incorrect weights\n",
    "\n",
    "    em = We/W\n",
    "    a = 1/2*np.log((1-em)/em)    # compute the alpha weights\n",
    "    alpha.append(a)\n",
    "\n",
    "    w[correct] = w[correct] * np.exp(-a)   # Omega weights\n",
    "    w[~correct] = w[~correct] * np.exp(a)\n",
    "\n",
    "    \n",
    "# Using the boosting model to predict test inputs\n",
    "def boost_predict(X):\n",
    "    pred = []\n",
    "    for j in range(len(X)):\n",
    "        predictions = np.empty(B)\n",
    "        for i in range(B):\n",
    "            predictions[i] = stumps[i].predict(X[j,:].reshape(1,-1))\n",
    "        C = np.sum(np.array(alpha)[predictions==1]) - np.sum(np.array(alpha)[predictions==-1])\n",
    "        pred.append(np.sign(C))\n",
    "    return pred\n",
    "\n",
    "\n",
    "# predict all pixels in the plot, i.e., plot the decision boundary\n",
    "fig, ax = plt.subplots()\n",
    "ax.set_xlim((0, 1))\n",
    "ax.set_ylim((0, 1))\n",
    "ax.set_xlabel('$x_1$')\n",
    "ax.set_ylabel('$x_2$')\n",
    "res = 0.1   # resolution of the squares\n",
    "xs1 = np.arange(0, 1.02, 0.03)\n",
    "xs2 = np.arange(0, 1.02, 0.03)\n",
    "x1, x2 = np.meshgrid(xs1, xs2) \n",
    "X_all = np.column_stack([x1.flatten(),x2.flatten()])\n",
    "prediction = boost_predict(X_all)\n",
    "\n",
    "colors = np.where(np.array(prediction)==1,'lightsalmon', 'skyblue')\n",
    "ax.scatter(x1.flatten(), x2.flatten(), s = 90, marker='s', c=colors)\n",
    "ax.scatter(X1[y==1], X2[y==1], s=50, facecolors='red')\n",
    "ax.scatter(X1[y==-1], X2[y==-1], s=50, facecolors='blue')\n",
    "\n",
    "plt.show()"
   ]
  },
  {
   "cell_type": "markdown",
   "metadata": {
    "tags": []
   },
   "source": [
    "## 9.4 Deriving the AdaBoost weights\n",
    "The AdaBoost classifier can be written as \n",
    "\\begin{equation}\n",
    "    \\widehat{y}_{\\text{boost}}(\\mathbf{x}) = \\text{sign}\\left( c^{(B)}(\\mathbf{x}) \\right)\n",
    "\\end{equation}\n",
    "where the functions $c^{(1)}(\\mathbf{x}), \\, \\dots, c^{(B)}(\\mathbf{x})$ are constructed sequentially as\n",
    "\\begin{equation}\n",
    "    c^{(b)}(\\mathbf{x}) = c^{(b-1)}(\\mathbf{x}) + \\alpha^{(b)} \\widehat y^{(b)}(\\mathbf{x}),\n",
    "\\end{equation}\n",
    "initialized with $c^{(0)}(x) \\equiv 0$. The $b$th ensemble member $\\widehat y^{(b)}(x)$ is found by applying the chosen base classifier to a weighted version of the training data.\n",
    "Once this has been found, we also need to compute the corresponding\n",
    "\"confidence\" coefficient $\\alpha^{(b)}$. This is done by minimizing the weighted exponential loss of the training data,\n",
    "\\begin{align}\n",
    "    \\alpha^{(b)} = \\arg\\min_{\\alpha}\\left\\{\\sum_{i=1}^n w_i^{(b)} \\exp \\left(- \\alpha y_i \\widehat y^{(b)}(\\mathbf{x}_i) \\right) \\right\\}\n",
    "\\end{align}\n",
    "where $w_i^{(b)} = \\exp\\left(-y_i c^{(b-1)}(\\mathbf{x}_i)\\right)$.\n",
    "\t\t\n",
    "Show that the optimal solution is given by\n",
    "\\begin{equation}\n",
    "    \\alpha^{(b)} = \\frac{1}{2}\\ln\\left( \\frac{1 - E_{\\text{train}}^{(b)}}{E_{\\text{train}}^{(b)}} \\right)\n",
    "\\end{equation}\n",
    "where \n",
    "\\begin{equation}\n",
    "    E_{\\text{train}}^{(b)} = \\sum_{i=1}^n  \\frac{w_i^{(b)}}{\\sum_{j=1}^n w_{j}^{(b)}} \\mathbb{I}(y_i \\neq \\widehat{y}^{(b)}(\\mathbf{x}_i)).\n",
    "\\end{equation}\n",
    "\t\t\n",
    "_Hint 1: We use class labels $-1$ and $1$, i.e. $y_i \\in \\{-1, 1\\}$ and $\\widehat{y}^{(b)}(\\mathbf{x}_i) \\in \\{-1, 1\\}$. Using this fact, divide the sum in the objective function in the equation for $\\alpha^{(b)}$ into one sum ranging over all correctly classified training data points and one sum ranging over all misclassified training data points._\n",
    "\t\t\n",
    "_Hint 2: You are allowed to use the fact that the objective function in the equation for $\\alpha^{(b)}$ has a single stationary point corresponding to the global minima._"
   ]
  },
  {
   "cell_type": "markdown",
   "metadata": {
    "tags": []
   },
   "source": [
    "## 9.5  Gradient boosting\n",
    "Explore gradient boosting by using `GradientBoostingClassifier()` on the spam data set `email.csv`"
   ]
  },
  {
   "cell_type": "code",
   "execution_count": 53,
   "metadata": {
    "tags": []
   },
   "outputs": [
    {
     "name": "stdout",
     "output_type": "stream",
     "text": [
      "0.048859934853420196\n",
      "0.9511400651465798\n"
     ]
    }
   ],
   "source": [
    "from sklearn.metrics import accuracy_score\n",
    "\n",
    "email[\"Numeric class\"] = np.where(email[\"Class\"] == \"Spam\", 1, 0)\n",
    "label = email[\"Numeric class\"]\n",
    "features = email.drop([\"Class\", \"Numeric class\"], axis=\"columns\")\n",
    "\n",
    "# Split data into train and test\n",
    "x_train, x_test, y_train, y_test = train_test_split(features, label, test_size=0.20)\n",
    "\n",
    "# Fit the model\n",
    "gradient_boost = GradientBoostingClassifier(n_estimators=100, max_depth=10, min_samples_leaf=10)\n",
    "gradient_boost.fit(x_train, y_train)\n",
    "\n",
    "# Predict\n",
    "pred = gradient_boost.predict(x_test)\n",
    "error = np.sum(pred != y_test) / pred.shape[0]\n",
    "print(error)\n",
    "acc = accuracy_score(y_test, pred)\n",
    "print(acc)"
   ]
  },
  {
   "cell_type": "code",
   "execution_count": 40,
   "metadata": {},
   "outputs": [],
   "source": [
    "from sklearn.model_selection import cross_validate\n",
    "\n",
    "def cross_val(estimator):\n",
    "    \n",
    "    cv = cross_validate(\n",
    "        estimator, \n",
    "        features, \n",
    "        label, \n",
    "        cv=5, \n",
    "        scoring=[\"accuracy\", \"precision\", \"recall\", \"f1\"],\n",
    "    )\n",
    "    \n",
    "    return cv"
   ]
  },
  {
   "cell_type": "code",
   "execution_count": 50,
   "metadata": {},
   "outputs": [],
   "source": [
    "cv = cross_val(gradient_boost)"
   ]
  },
  {
   "cell_type": "code",
   "execution_count": 55,
   "metadata": {},
   "outputs": [
    {
     "data": {
      "text/plain": [
       "0.926315677666053"
      ]
     },
     "execution_count": 55,
     "metadata": {},
     "output_type": "execute_result"
    }
   ],
   "source": [
    "np.mean(cv[\"test_accuracy\"])"
   ]
  }
 ],
 "metadata": {
  "kernelspec": {
   "display_name": "Python 3 (ipykernel)",
   "language": "python",
   "name": "python3"
  },
  "language_info": {
   "codemirror_mode": {
    "name": "ipython",
    "version": 3
   },
   "file_extension": ".py",
   "mimetype": "text/x-python",
   "name": "python",
   "nbconvert_exporter": "python",
   "pygments_lexer": "ipython3",
   "version": "3.8.5"
  }
 },
 "nbformat": 4,
 "nbformat_minor": 2
}
